{
 "cells": [
  {
   "cell_type": "code",
   "execution_count": 1,
   "id": "b5ee01d7",
   "metadata": {},
   "outputs": [],
   "source": [
    "import sqlite3"
   ]
  },
  {
   "cell_type": "code",
   "execution_count": 2,
   "id": "0d7aa33d",
   "metadata": {},
   "outputs": [],
   "source": [
    "#First connection object\n",
    "db=sqlite3.connect(\"student_databse.db\")"
   ]
  },
  {
   "cell_type": "code",
   "execution_count": 3,
   "id": "38f9bc0e",
   "metadata": {},
   "outputs": [],
   "source": [
    "#create cursor object from connection\n",
    "\n",
    "cur=db.cursor()"
   ]
  },
  {
   "cell_type": "code",
   "execution_count": 4,
   "id": "dfa65dc4",
   "metadata": {},
   "outputs": [
    {
     "name": "stdout",
     "output_type": "stream",
     "text": [
      "(1, 'Ram', 90)\n",
      "(2, 'Shalu', 100)\n",
      "(3, 'Bulbul', 5)\n",
      "(4, 'Abhilash', 10)\n",
      "(5, 'Siddharth', 99)\n",
      "(6, 'Mummy', 40)\n"
     ]
    }
   ],
   "source": [
    "results=cur.execute(\"select * from student\")\n",
    "for row in results:\n",
    "    print(row)"
   ]
  },
  {
   "cell_type": "code",
   "execution_count": null,
   "id": "b0465939",
   "metadata": {},
   "outputs": [],
   "source": []
  }
 ],
 "metadata": {
  "kernelspec": {
   "display_name": "Python 3 (ipykernel)",
   "language": "python",
   "name": "python3"
  },
  "language_info": {
   "codemirror_mode": {
    "name": "ipython",
    "version": 3
   },
   "file_extension": ".py",
   "mimetype": "text/x-python",
   "name": "python",
   "nbconvert_exporter": "python",
   "pygments_lexer": "ipython3",
   "version": "3.9.7"
  }
 },
 "nbformat": 4,
 "nbformat_minor": 5
}
