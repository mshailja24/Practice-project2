{
 "cells": [
  {
   "cell_type": "code",
   "execution_count": 3,
   "id": "f38095be",
   "metadata": {},
   "outputs": [],
   "source": [
    "import sqlite3"
   ]
  },
  {
   "cell_type": "markdown",
   "id": "9430226b",
   "metadata": {},
   "source": [
    "working with data base with SQL (Structured query language)\n",
    "1. Create a connection object\n",
    "2. create a cursor object from the connection object.\n",
    "3. using the cursor method call the execute method with create table query as the parameter"
   ]
  },
  {
   "cell_type": "markdown",
   "id": "e1bbc8b7",
   "metadata": {},
   "source": [
    "# Create Database"
   ]
  },
  {
   "cell_type": "code",
   "execution_count": 4,
   "id": "1ed7eb58",
   "metadata": {},
   "outputs": [],
   "source": [
    "#Student databse will be created in jupyter home page\n",
    "#First conncetion object.\n",
    "db=sqlite3.connect('student_databse.db')"
   ]
  },
  {
   "cell_type": "code",
   "execution_count": 5,
   "id": "6f936f67",
   "metadata": {},
   "outputs": [],
   "source": [
    "#create cursor object from connection \n",
    "\n",
    "cur=db.cursor()\n"
   ]
  },
  {
   "cell_type": "markdown",
   "id": "facc3dca",
   "metadata": {},
   "source": [
    "# Craete table in student_database"
   ]
  },
  {
   "cell_type": "code",
   "execution_count": 5,
   "id": "7d073e54",
   "metadata": {},
   "outputs": [
    {
     "data": {
      "text/plain": [
       "<sqlite3.Cursor at 0x19dc2c66030>"
      ]
     },
     "execution_count": 5,
     "metadata": {},
     "output_type": "execute_result"
    }
   ],
   "source": [
    "cur.execute(\"create table student(id int primary key,name text,marks int)\")"
   ]
  },
  {
   "cell_type": "markdown",
   "id": "04f688e0",
   "metadata": {},
   "source": [
    "# Insert data in student table"
   ]
  },
  {
   "cell_type": "code",
   "execution_count": 8,
   "id": "837e24b2",
   "metadata": {},
   "outputs": [],
   "source": [
    "cur.execute(\"insert into student(id,name,marks) values(1,'Ram',90)\")\n",
    "db.commit()"
   ]
  },
  {
   "cell_type": "code",
   "execution_count": 9,
   "id": "0426fa5a",
   "metadata": {},
   "outputs": [
    {
     "name": "stdout",
     "output_type": "stream",
     "text": [
      "1 Record(s) inserted\n"
     ]
    }
   ],
   "source": [
    "print(cur.rowcount,\"Record(s) inserted\")"
   ]
  },
  {
   "cell_type": "code",
   "execution_count": 10,
   "id": "d9c9e23f",
   "metadata": {},
   "outputs": [],
   "source": [
    "cur.execute(\"insert into student(id,name,marks) values(2,'Shalu',100)\")\n",
    "db.commit()"
   ]
  },
  {
   "cell_type": "code",
   "execution_count": 13,
   "id": "1a4ff107",
   "metadata": {},
   "outputs": [
    {
     "name": "stdout",
     "output_type": "stream",
     "text": [
      "(1, 'Ram', 90)\n",
      "(2, 'Shalu', 100)\n"
     ]
    }
   ],
   "source": [
    "results=cur.execute(\"select* from student\")\n",
    "for row in results:\n",
    "        print(row)"
   ]
  },
  {
   "cell_type": "code",
   "execution_count": 14,
   "id": "8a2f1b2d",
   "metadata": {},
   "outputs": [],
   "source": [
    "cur.execute(\"insert into student values(3,'Bulbul',05)\")\n",
    "db.commit()"
   ]
  },
  {
   "cell_type": "code",
   "execution_count": 15,
   "id": "5b8cbd51",
   "metadata": {},
   "outputs": [
    {
     "name": "stdout",
     "output_type": "stream",
     "text": [
      "(1, 'Ram', 90)\n",
      "(2, 'Shalu', 100)\n",
      "(3, 'Bulbul', 5)\n"
     ]
    }
   ],
   "source": [
    "results=cur.execute(\"select * from student\")\n",
    "for row in results:\n",
    "    print(row)"
   ]
  },
  {
   "cell_type": "code",
   "execution_count": 16,
   "id": "11f7adc2",
   "metadata": {},
   "outputs": [],
   "source": [
    "cur.execute(\"insert into student values(4,'Abhilash',10)\")\n",
    "db.commit()"
   ]
  },
  {
   "cell_type": "code",
   "execution_count": 17,
   "id": "3ccffcde",
   "metadata": {},
   "outputs": [
    {
     "name": "stdout",
     "output_type": "stream",
     "text": [
      "(1, 'Ram', 90)\n",
      "(2, 'Shalu', 100)\n",
      "(3, 'Bulbul', 5)\n",
      "(4, 'Abhilash', 10)\n"
     ]
    }
   ],
   "source": [
    "results=cur.execute(\"select * from student\")\n",
    "for row in results:\n",
    "    print(row)"
   ]
  },
  {
   "cell_type": "code",
   "execution_count": 18,
   "id": "a1b7e08f",
   "metadata": {},
   "outputs": [],
   "source": [
    "cur.execute(\"insert into student values(5,'Siddharth',99)\")\n",
    "db.commit()"
   ]
  },
  {
   "cell_type": "code",
   "execution_count": 19,
   "id": "b9e03afd",
   "metadata": {},
   "outputs": [
    {
     "name": "stdout",
     "output_type": "stream",
     "text": [
      "(1, 'Ram', 90)\n",
      "(2, 'Shalu', 100)\n",
      "(3, 'Bulbul', 5)\n",
      "(4, 'Abhilash', 10)\n",
      "(5, 'Siddharth', 99)\n"
     ]
    }
   ],
   "source": [
    "results=cur.execute(\"select * from student\")\n",
    "for row in results:\n",
    "    print(row)"
   ]
  },
  {
   "cell_type": "code",
   "execution_count": 4,
   "id": "317c43bc",
   "metadata": {},
   "outputs": [
    {
     "ename": "IntegrityError",
     "evalue": "UNIQUE constraint failed: student.id",
     "output_type": "error",
     "traceback": [
      "\u001b[1;31m---------------------------------------------------------------------------\u001b[0m",
      "\u001b[1;31mIntegrityError\u001b[0m                            Traceback (most recent call last)",
      "\u001b[1;32m~\\AppData\\Local\\Temp/ipykernel_12292/214708747.py\u001b[0m in \u001b[0;36m<module>\u001b[1;34m\u001b[0m\n\u001b[1;32m----> 1\u001b[1;33m \u001b[0mcur\u001b[0m\u001b[1;33m.\u001b[0m\u001b[0mexecute\u001b[0m\u001b[1;33m(\u001b[0m\u001b[1;34m\"insert into student values(6,'Mummy',40)\"\u001b[0m\u001b[1;33m)\u001b[0m\u001b[1;33m\u001b[0m\u001b[1;33m\u001b[0m\u001b[0m\n\u001b[0m\u001b[0;32m      2\u001b[0m \u001b[0mdb\u001b[0m\u001b[1;33m.\u001b[0m\u001b[0mcommit\u001b[0m\u001b[1;33m(\u001b[0m\u001b[1;33m)\u001b[0m\u001b[1;33m\u001b[0m\u001b[1;33m\u001b[0m\u001b[0m\n",
      "\u001b[1;31mIntegrityError\u001b[0m: UNIQUE constraint failed: student.id"
     ]
    }
   ],
   "source": [
    "cur.execute(\"insert into student values(6,'Mummy',40)\")\n",
    "db.commit()"
   ]
  },
  {
   "cell_type": "code",
   "execution_count": 6,
   "id": "7efd85de",
   "metadata": {},
   "outputs": [
    {
     "name": "stdout",
     "output_type": "stream",
     "text": [
      "(1, 'Ram', 90)\n",
      "(2, 'Shalu', 100)\n",
      "(3, 'Bulbul', 5)\n",
      "(4, 'Abhilash', 10)\n",
      "(5, 'Siddharth', 99)\n",
      "(6, 'Mummy', 40)\n"
     ]
    }
   ],
   "source": [
    "results=cur.execute(\"select * from student\")\n",
    "for row in results:\n",
    "    print(row)"
   ]
  },
  {
   "cell_type": "code",
   "execution_count": 7,
   "id": "a1e451cd",
   "metadata": {},
   "outputs": [
    {
     "name": "stdout",
     "output_type": "stream",
     "text": [
      "2 Record's inserted\n"
     ]
    }
   ],
   "source": [
    "#multiple record insertion\n",
    "\n",
    "cur.execute(\"insert into student values (7,'Kiara',75),(8,'Jack',94)\")\n",
    "db.commit\n",
    "\n",
    "#count of records inserted\n",
    "print(cur.rowcount,\"Record's inserted\")"
   ]
  },
  {
   "cell_type": "code",
   "execution_count": 8,
   "id": "b11dc23a",
   "metadata": {},
   "outputs": [],
   "source": [
    "db1=sqlite3.connect(\"C:/MySQlite_Databse/studentdb.db\")"
   ]
  },
  {
   "cell_type": "code",
   "execution_count": 9,
   "id": "8855ad1f",
   "metadata": {},
   "outputs": [],
   "source": [
    "cur1=db1.cursor()"
   ]
  },
  {
   "cell_type": "code",
   "execution_count": 11,
   "id": "04307162",
   "metadata": {},
   "outputs": [
    {
     "data": {
      "text/plain": [
       "<sqlite3.Cursor at 0x12dbfaaee30>"
      ]
     },
     "execution_count": 11,
     "metadata": {},
     "output_type": "execute_result"
    }
   ],
   "source": [
    "cur1.execute(\"create table employee (id int,name text,age int)\")"
   ]
  },
  {
   "cell_type": "code",
   "execution_count": 13,
   "id": "32fb093c",
   "metadata": {},
   "outputs": [],
   "source": [
    "cur1.execute(\"insert into employee values (1,'Melina',32)\")\n",
    "db1.commit()"
   ]
  },
  {
   "cell_type": "code",
   "execution_count": 14,
   "id": "df7027c4",
   "metadata": {},
   "outputs": [
    {
     "name": "stdout",
     "output_type": "stream",
     "text": [
      "1 Record's inserted\n"
     ]
    }
   ],
   "source": [
    "print(cur1.rowcount,\"Record's inserted\")"
   ]
  },
  {
   "cell_type": "code",
   "execution_count": 15,
   "id": "ca897225",
   "metadata": {},
   "outputs": [],
   "source": [
    "results=cur1.execute(\"select * from employee\")"
   ]
  },
  {
   "cell_type": "code",
   "execution_count": 16,
   "id": "cc33fcbf",
   "metadata": {},
   "outputs": [
    {
     "name": "stdout",
     "output_type": "stream",
     "text": [
      "(1, 'Melina', 32)\n"
     ]
    }
   ],
   "source": [
    "for row in results:\n",
    "    print(row)"
   ]
  },
  {
   "cell_type": "code",
   "execution_count": 17,
   "id": "e59d05be",
   "metadata": {},
   "outputs": [],
   "source": [
    "cur1.execute(\"insert into employee values (2,'Shlok',54)\")\n",
    "db1.commit()"
   ]
  },
  {
   "cell_type": "code",
   "execution_count": 18,
   "id": "a1b2918d",
   "metadata": {},
   "outputs": [
    {
     "name": "stdout",
     "output_type": "stream",
     "text": [
      "1 Record's inserted\n"
     ]
    }
   ],
   "source": [
    "print(cur1.rowcount,\"Record's inserted\")"
   ]
  },
  {
   "cell_type": "code",
   "execution_count": 19,
   "id": "c9a80449",
   "metadata": {},
   "outputs": [
    {
     "name": "stdout",
     "output_type": "stream",
     "text": [
      "(1, 'Melina', 32)\n",
      "(2, 'Shlok', 54)\n"
     ]
    }
   ],
   "source": [
    "results=cur1.execute(\"select * from employee\")\n",
    "for row in results:\n",
    "    print(row)"
   ]
  },
  {
   "cell_type": "markdown",
   "id": "b9f002f3",
   "metadata": {},
   "source": [
    "# Accessing the data stored in SQlite using Python"
   ]
  },
  {
   "cell_type": "code",
   "execution_count": 23,
   "id": "e183bf69",
   "metadata": {},
   "outputs": [
    {
     "name": "stdout",
     "output_type": "stream",
     "text": [
      "(1, 'Ram', 90)\n",
      "(2, 'Shalu', 100)\n",
      "(3, 'Bulbul', 5)\n",
      "(4, 'Abhilash', 10)\n",
      "(5, 'Siddharth', 99)\n",
      "(6, 'Mummy', 40)\n",
      "(7, 'Kiara', 75)\n",
      "(8, 'Jack', 94)\n",
      "(9, 'Alok', 79)\n",
      "(10, 'Babubhaiya', 99)\n"
     ]
    }
   ],
   "source": [
    "results=cur.execute(\"select * from student\")\n",
    "for i in results:\n",
    "    print(i)"
   ]
  },
  {
   "cell_type": "code",
   "execution_count": 25,
   "id": "cb47abde",
   "metadata": {},
   "outputs": [
    {
     "name": "stdout",
     "output_type": "stream",
     "text": [
      "(1, 'Ram')\n",
      "(2, 'Shalu')\n",
      "(3, 'Bulbul')\n",
      "(4, 'Abhilash')\n",
      "(5, 'Siddharth')\n",
      "(6, 'Mummy')\n",
      "(7, 'Kiara')\n",
      "(8, 'Jack')\n",
      "(9, 'Alok')\n",
      "(10, 'Babubhaiya')\n"
     ]
    }
   ],
   "source": [
    "results=cur.execute('select id,name from student')\n",
    "for i in results:\n",
    "    print(i)"
   ]
  },
  {
   "cell_type": "code",
   "execution_count": 28,
   "id": "793ff8b7",
   "metadata": {},
   "outputs": [
    {
     "name": "stdout",
     "output_type": "stream",
     "text": [
      "(1, 90)\n",
      "(2, 100)\n",
      "(3, 5)\n",
      "(4, 10)\n",
      "(5, 99)\n",
      "(6, 40)\n",
      "(7, 75)\n",
      "(8, 94)\n",
      "(9, 79)\n",
      "(10, 99)\n"
     ]
    }
   ],
   "source": [
    "results=cur.execute('select id,marks from student')\n",
    "for i in results:\n",
    "    print(i)"
   ]
  },
  {
   "cell_type": "code",
   "execution_count": 29,
   "id": "3ce37a34",
   "metadata": {},
   "outputs": [
    {
     "name": "stdout",
     "output_type": "stream",
     "text": [
      "(8, 'Jack', 94)\n"
     ]
    }
   ],
   "source": [
    "results=cur.execute(\"select * from student where id=8\")\n",
    "for i in results:\n",
    "    print(i)"
   ]
  },
  {
   "cell_type": "code",
   "execution_count": 30,
   "id": "b8cc4ffa",
   "metadata": {},
   "outputs": [
    {
     "name": "stdout",
     "output_type": "stream",
     "text": [
      "(5, 'Siddharth', 99)\n"
     ]
    }
   ],
   "source": [
    "results=cur.execute(\"select * from student where id=5\")\n",
    "for i in results:\n",
    "    print(i)"
   ]
  },
  {
   "cell_type": "code",
   "execution_count": 31,
   "id": "1f05108c",
   "metadata": {},
   "outputs": [
    {
     "name": "stdout",
     "output_type": "stream",
     "text": [
      "(3, 'Bulbul', 5)\n"
     ]
    }
   ],
   "source": [
    "results=cur.execute(\"select * from student where id=3\")\n",
    "for i in results:\n",
    "    print(i)"
   ]
  },
  {
   "cell_type": "code",
   "execution_count": 32,
   "id": "4e7f0e28",
   "metadata": {},
   "outputs": [
    {
     "name": "stdout",
     "output_type": "stream",
     "text": [
      "(1, 'Ram', 90)\n",
      "(2, 'Shalu', 100)\n",
      "(3, 'Bulbul', 5)\n",
      "(4, 'Abhilash', 10)\n"
     ]
    }
   ],
   "source": [
    "results=cur.execute(\"select * from student limit 4\")\n",
    "for i in results:\n",
    "    print(i)"
   ]
  },
  {
   "cell_type": "code",
   "execution_count": 33,
   "id": "329c35f0",
   "metadata": {},
   "outputs": [
    {
     "name": "stdout",
     "output_type": "stream",
     "text": [
      "(1, 'Ram', 90)\n",
      "(2, 'Shalu', 100)\n",
      "(3, 'Bulbul', 5)\n",
      "(4, 'Abhilash', 10)\n",
      "(5, 'Siddharth', 99)\n",
      "(6, 'Mummy', 40)\n"
     ]
    }
   ],
   "source": [
    "results=cur.execute(\"select * from student limit 6\")\n",
    "for i in results:\n",
    "    print(i)"
   ]
  },
  {
   "cell_type": "code",
   "execution_count": 34,
   "id": "cde3a621",
   "metadata": {},
   "outputs": [
    {
     "name": "stdout",
     "output_type": "stream",
     "text": [
      "('Babubhaiya',)\n"
     ]
    }
   ],
   "source": [
    "results=cur.execute(\"select name from student where id=10\")\n",
    "for i in results:\n",
    "    print(i)"
   ]
  },
  {
   "cell_type": "code",
   "execution_count": 35,
   "id": "d87d3437",
   "metadata": {},
   "outputs": [
    {
     "name": "stdout",
     "output_type": "stream",
     "text": [
      "(99,)\n"
     ]
    }
   ],
   "source": [
    "results=cur.execute(\"select marks from student where id=10\")\n",
    "for i in results:\n",
    "    print(i)"
   ]
  },
  {
   "cell_type": "code",
   "execution_count": 36,
   "id": "a1b14113",
   "metadata": {},
   "outputs": [
    {
     "name": "stdout",
     "output_type": "stream",
     "text": [
      "(3, 'Bulbul', 5)\n"
     ]
    }
   ],
   "source": [
    "results=cur.execute(\"select * from student where name='Bulbul'\")\n",
    "for i in results:\n",
    "    print(i)"
   ]
  },
  {
   "cell_type": "code",
   "execution_count": 37,
   "id": "d50b5661",
   "metadata": {},
   "outputs": [
    {
     "name": "stdout",
     "output_type": "stream",
     "text": [
      "('Kiara',)\n",
      "('Alok',)\n"
     ]
    }
   ],
   "source": [
    "# and = * , or = +\n",
    "results=cur.execute(\"select name from student where marks>60 and marks<90\")\n",
    "for i in results:\n",
    "    print(i)"
   ]
  },
  {
   "cell_type": "code",
   "execution_count": 40,
   "id": "d298a388",
   "metadata": {},
   "outputs": [
    {
     "name": "stdout",
     "output_type": "stream",
     "text": [
      "('Kiara',)\n",
      "('Alok',)\n"
     ]
    }
   ],
   "source": [
    "results=cur.execute(\"select name from student where marks>40 and marks<80\")\n",
    "for i in results:\n",
    "    print(i)"
   ]
  },
  {
   "cell_type": "code",
   "execution_count": 7,
   "id": "b4b76370",
   "metadata": {},
   "outputs": [
    {
     "data": {
      "text/plain": [
       "[(1, 'Ram', 90),\n",
       " (2, 'Shalu', 100),\n",
       " (3, 'Bulbul', 5),\n",
       " (4, 'Abhilash', 10),\n",
       " (5, 'Siddharth', 99),\n",
       " (6, 'Mummy', 40)]"
      ]
     },
     "execution_count": 7,
     "metadata": {},
     "output_type": "execute_result"
    }
   ],
   "source": [
    "#fetchall will display all rows\n",
    "\n",
    "results=cur.execute(\"select * from student\")\n",
    "results.fetchall()"
   ]
  },
  {
   "cell_type": "code",
   "execution_count": 42,
   "id": "8270d006",
   "metadata": {},
   "outputs": [
    {
     "name": "stdout",
     "output_type": "stream",
     "text": [
      "(4, 'Abhilash', 10)\n",
      "(9, 'Alok', 79)\n",
      "(10, 'Babubhaiya', 99)\n",
      "(3, 'Bulbul', 5)\n",
      "(8, 'Jack', 94)\n",
      "(7, 'Kiara', 75)\n",
      "(6, 'Mummy', 40)\n",
      "(1, 'Ram', 90)\n",
      "(2, 'Shalu', 100)\n",
      "(5, 'Siddharth', 99)\n"
     ]
    }
   ],
   "source": [
    "results=cur.execute(\"select * from student order by name asc\")\n",
    "for i in results:\n",
    "    print(i)"
   ]
  },
  {
   "cell_type": "code",
   "execution_count": 43,
   "id": "2dd90596",
   "metadata": {},
   "outputs": [
    {
     "name": "stdout",
     "output_type": "stream",
     "text": [
      "(5, 'Siddharth', 99)\n",
      "(2, 'Shalu', 100)\n",
      "(1, 'Ram', 90)\n",
      "(6, 'Mummy', 40)\n",
      "(7, 'Kiara', 75)\n",
      "(8, 'Jack', 94)\n",
      "(3, 'Bulbul', 5)\n",
      "(10, 'Babubhaiya', 99)\n",
      "(9, 'Alok', 79)\n",
      "(4, 'Abhilash', 10)\n"
     ]
    }
   ],
   "source": [
    "results=cur.execute(\"select * from student order by name desc\")\n",
    "for i in results:\n",
    "    print(i)"
   ]
  },
  {
   "cell_type": "code",
   "execution_count": 44,
   "id": "20f38c92",
   "metadata": {},
   "outputs": [
    {
     "data": {
      "text/plain": [
       "[(5, 'Siddharth', 99),\n",
       " (2, 'Shalu', 100),\n",
       " (1, 'Ram', 90),\n",
       " (6, 'Mummy', 40),\n",
       " (7, 'Kiara', 75),\n",
       " (8, 'Jack', 94),\n",
       " (3, 'Bulbul', 5),\n",
       " (10, 'Babubhaiya', 99),\n",
       " (9, 'Alok', 79),\n",
       " (4, 'Abhilash', 10)]"
      ]
     },
     "execution_count": 44,
     "metadata": {},
     "output_type": "execute_result"
    }
   ],
   "source": [
    "results=cur.execute(\"select * from student order by name desc\")\n",
    "results.fetchall()"
   ]
  },
  {
   "cell_type": "code",
   "execution_count": 46,
   "id": "64f47acc",
   "metadata": {},
   "outputs": [
    {
     "name": "stdout",
     "output_type": "stream",
     "text": [
      "(5, 'Siddharth', 99)\n"
     ]
    }
   ],
   "source": [
    "results=cur.execute(\"select * from student where name='Siddharth' and marks=99\")\n",
    "for i in results:\n",
    "    print(i)"
   ]
  },
  {
   "cell_type": "code",
   "execution_count": 47,
   "id": "649adc3b",
   "metadata": {},
   "outputs": [],
   "source": [
    "results=cur.execute(\"select * from student where name='Siddharth' and marks=90\")\n",
    "for i in results:\n",
    "    print(i)"
   ]
  },
  {
   "cell_type": "code",
   "execution_count": 48,
   "id": "dc18d9eb",
   "metadata": {},
   "outputs": [
    {
     "name": "stdout",
     "output_type": "stream",
     "text": [
      "(9, 'Alok', 79)\n"
     ]
    }
   ],
   "source": [
    "results=cur.execute(\"select * from student where name='Alok' and marks=79\")\n",
    "for i in results:\n",
    "    print(i)"
   ]
  },
  {
   "cell_type": "code",
   "execution_count": 49,
   "id": "58fe5463",
   "metadata": {},
   "outputs": [
    {
     "name": "stdout",
     "output_type": "stream",
     "text": [
      "(9, 'Alok', 79)\n"
     ]
    }
   ],
   "source": [
    "results=cur.execute(\"select * from student where name='Alok' or marks=59\")\n",
    "for i in results:\n",
    "    print(i)"
   ]
  },
  {
   "cell_type": "code",
   "execution_count": 50,
   "id": "e839da88",
   "metadata": {},
   "outputs": [
    {
     "name": "stdout",
     "output_type": "stream",
     "text": [
      "(2, 'Shalu', 100)\n",
      "(5, 'Siddharth', 99)\n",
      "(10, 'Babubhaiya', 99)\n"
     ]
    }
   ],
   "source": [
    "results=cur.execute(\"select * from student where id=2 or marks=99\")\n",
    "for i in results:\n",
    "    print(i)"
   ]
  },
  {
   "cell_type": "code",
   "execution_count": 51,
   "id": "f6f5d6d0",
   "metadata": {},
   "outputs": [
    {
     "name": "stdout",
     "output_type": "stream",
     "text": [
      "(5,)\n"
     ]
    }
   ],
   "source": [
    "#fetchone\n",
    "results=cur.execute(\"select min(marks) from student \")\n",
    "for i in results:\n",
    "    print(i)"
   ]
  },
  {
   "cell_type": "code",
   "execution_count": 52,
   "id": "2413e9bd",
   "metadata": {},
   "outputs": [
    {
     "data": {
      "text/plain": [
       "[(5,)]"
      ]
     },
     "execution_count": 52,
     "metadata": {},
     "output_type": "execute_result"
    }
   ],
   "source": [
    "results=cur.execute(\"select min(marks) from student \")\n",
    "results.fetchall()"
   ]
  },
  {
   "cell_type": "code",
   "execution_count": 53,
   "id": "9711a526",
   "metadata": {},
   "outputs": [
    {
     "data": {
      "text/plain": [
       "[(100,)]"
      ]
     },
     "execution_count": 53,
     "metadata": {},
     "output_type": "execute_result"
    }
   ],
   "source": [
    "results=cur.execute(\"select max(marks) from student \")\n",
    "results.fetchall()"
   ]
  },
  {
   "cell_type": "code",
   "execution_count": 54,
   "id": "0dece1c2",
   "metadata": {},
   "outputs": [
    {
     "data": {
      "text/plain": [
       "[(691,)]"
      ]
     },
     "execution_count": 54,
     "metadata": {},
     "output_type": "execute_result"
    }
   ],
   "source": [
    "results=cur.execute(\"select sum(marks) from student \")\n",
    "results.fetchall()"
   ]
  },
  {
   "cell_type": "code",
   "execution_count": 55,
   "id": "c35c9ed2",
   "metadata": {},
   "outputs": [
    {
     "name": "stdout",
     "output_type": "stream",
     "text": [
      "('Mummy',)\n",
      "('Kiara',)\n",
      "('Alok',)\n"
     ]
    }
   ],
   "source": [
    "results=cur.execute(\"select name from student where marks between 40 and 80\")\n",
    "for i in results:\n",
    "    print(i)"
   ]
  },
  {
   "cell_type": "code",
   "execution_count": 56,
   "id": "97cba8e3",
   "metadata": {},
   "outputs": [
    {
     "name": "stdout",
     "output_type": "stream",
     "text": [
      "(10,)\n"
     ]
    }
   ],
   "source": [
    "results=cur.execute(\"select count(id) from student \")\n",
    "for i in results:\n",
    "    print(i)"
   ]
  },
  {
   "cell_type": "code",
   "execution_count": 57,
   "id": "8852c4a3",
   "metadata": {},
   "outputs": [
    {
     "data": {
      "text/plain": [
       "(10,)"
      ]
     },
     "execution_count": 57,
     "metadata": {},
     "output_type": "execute_result"
    }
   ],
   "source": [
    "results=cur.execute(\"select count(id) from student \")\n",
    "results.fetchone()"
   ]
  },
  {
   "cell_type": "code",
   "execution_count": 58,
   "id": "518a4b0d",
   "metadata": {},
   "outputs": [
    {
     "data": {
      "text/plain": [
       "(69.1,)"
      ]
     },
     "execution_count": 58,
     "metadata": {},
     "output_type": "execute_result"
    }
   ],
   "source": [
    "results=cur.execute(\"select avg(marks) from student \")\n",
    "results.fetchone()"
   ]
  },
  {
   "cell_type": "code",
   "execution_count": 6,
   "id": "039b6993",
   "metadata": {},
   "outputs": [],
   "source": [
    "results=cur.execute(\"select * from student where marks is null \")\n",
    "for i in results:\n",
    "    print(i)"
   ]
  },
  {
   "cell_type": "code",
   "execution_count": 8,
   "id": "e7d7a529",
   "metadata": {},
   "outputs": [
    {
     "name": "stdout",
     "output_type": "stream",
     "text": [
      "(1, 'Ram', 90)\n",
      "(2, 'Shalu', 100)\n",
      "(3, 'Bulbul', 5)\n",
      "(4, 'Abhilash', 10)\n",
      "(5, 'Siddharth', 99)\n",
      "(6, 'Mummy', 40)\n"
     ]
    }
   ],
   "source": [
    "results=cur.execute(\"select * from student where marks is not null \")\n",
    "for i in results:\n",
    "    print(i)"
   ]
  },
  {
   "cell_type": "markdown",
   "id": "525dc991",
   "metadata": {},
   "source": [
    "LIKE OPERATORS"
   ]
  },
  {
   "cell_type": "code",
   "execution_count": 10,
   "id": "91767fbf",
   "metadata": {},
   "outputs": [],
   "source": [
    "results=cur.execute(\"select * from student where name like 'D%' \")\n",
    "for i in results:\n",
    "    print(i)"
   ]
  },
  {
   "cell_type": "code",
   "execution_count": 11,
   "id": "6a968349",
   "metadata": {},
   "outputs": [
    {
     "name": "stdout",
     "output_type": "stream",
     "text": [
      "(2, 'Shalu', 100)\n",
      "(5, 'Siddharth', 99)\n"
     ]
    }
   ],
   "source": [
    "results=cur.execute(\"select * from student where name like 'S%' \")\n",
    "for i in results:\n",
    "    print(i)"
   ]
  },
  {
   "cell_type": "code",
   "execution_count": 12,
   "id": "48e0a4e9",
   "metadata": {},
   "outputs": [
    {
     "name": "stdout",
     "output_type": "stream",
     "text": [
      "(6, 'Mummy', 40)\n"
     ]
    }
   ],
   "source": [
    "results=cur.execute(\"select * from student where name like '%y' \")\n",
    "for i in results:\n",
    "    print(i)"
   ]
  },
  {
   "cell_type": "code",
   "execution_count": 14,
   "id": "359818e5",
   "metadata": {},
   "outputs": [
    {
     "name": "stdout",
     "output_type": "stream",
     "text": [
      "(1, 'Ram', 90)\n"
     ]
    }
   ],
   "source": [
    "results=cur.execute(\"select * from student where name like '_a%' \")\n",
    "for i in results:\n",
    "    print(i)"
   ]
  },
  {
   "cell_type": "code",
   "execution_count": 16,
   "id": "fb588d1f",
   "metadata": {},
   "outputs": [
    {
     "name": "stdout",
     "output_type": "stream",
     "text": [
      "(2, 'Shalu', 100)\n"
     ]
    }
   ],
   "source": [
    "results=cur.execute(\"select * from student where name like '__a%' \")\n",
    "for i in results:\n",
    "    print(i)"
   ]
  },
  {
   "cell_type": "code",
   "execution_count": 18,
   "id": "71679b3b",
   "metadata": {},
   "outputs": [
    {
     "name": "stdout",
     "output_type": "stream",
     "text": [
      "(5, 'Siddharth', 99)\n"
     ]
    }
   ],
   "source": [
    "results=cur.execute(\"select * from student where name like '%d%' \")\n",
    "for i in results:\n",
    "    print(i)"
   ]
  },
  {
   "cell_type": "code",
   "execution_count": 19,
   "id": "bd24fa09",
   "metadata": {},
   "outputs": [
    {
     "name": "stdout",
     "output_type": "stream",
     "text": [
      "(1, 'Ram', 90)\n"
     ]
    }
   ],
   "source": [
    "results=cur.execute(\"select * from student where name like '___' \")\n",
    "for i in results:\n",
    "    print(i)"
   ]
  },
  {
   "cell_type": "code",
   "execution_count": 20,
   "id": "eb86e12d",
   "metadata": {},
   "outputs": [
    {
     "name": "stdout",
     "output_type": "stream",
     "text": [
      "(2, 'Shalu', 100)\n",
      "(6, 'Mummy', 40)\n"
     ]
    }
   ],
   "source": [
    "results=cur.execute(\"select * from student where name like '_____' \")\n",
    "for i in results:\n",
    "    print(i)"
   ]
  },
  {
   "cell_type": "code",
   "execution_count": 21,
   "id": "db1baa7d",
   "metadata": {},
   "outputs": [
    {
     "name": "stdout",
     "output_type": "stream",
     "text": [
      "(1, 'Ram', 90)\n",
      "(2, 'Shalu', 100)\n",
      "(3, 'Bulbul', 5)\n",
      "(4, 'Abhilash', 10)\n",
      "(6, 'Mummy', 40)\n"
     ]
    }
   ],
   "source": [
    "results=cur.execute(\"select * from student where marks Not in (99) \")\n",
    "for i in results:\n",
    "    print(i)"
   ]
  },
  {
   "cell_type": "code",
   "execution_count": 22,
   "id": "a447996a",
   "metadata": {},
   "outputs": [
    {
     "name": "stdout",
     "output_type": "stream",
     "text": [
      "(1, 'Ram', 90)\n",
      "(2, 'Shalu', 100)\n",
      "(4, 'Abhilash', 10)\n",
      "(5, 'Siddharth', 99)\n",
      "(6, 'Mummy', 40)\n"
     ]
    }
   ],
   "source": [
    "results=cur.execute(\"select * from student where name Not in ('Bulbul') \")\n",
    "for i in results:\n",
    "    print(i)"
   ]
  },
  {
   "cell_type": "markdown",
   "id": "67d01322",
   "metadata": {},
   "source": [
    "Update the Records "
   ]
  },
  {
   "cell_type": "code",
   "execution_count": 23,
   "id": "fa39ddfd",
   "metadata": {},
   "outputs": [
    {
     "data": {
      "text/plain": [
       "<sqlite3.Cursor at 0x210cbbe0c00>"
      ]
     },
     "execution_count": 23,
     "metadata": {},
     "output_type": "execute_result"
    }
   ],
   "source": [
    "#update the record\n",
    "\n",
    "sql=\"update student set marks=80 where id=4\"\n",
    "cur.execute(sql)"
   ]
  },
  {
   "cell_type": "code",
   "execution_count": 25,
   "id": "23adbc39",
   "metadata": {},
   "outputs": [
    {
     "name": "stdout",
     "output_type": "stream",
     "text": [
      "(4, 'Abhilash', 80)\n"
     ]
    }
   ],
   "source": [
    "results=cur.execute(\"select * from student where id=4\")\n",
    "for i in results:\n",
    "    print(i)"
   ]
  },
  {
   "cell_type": "code",
   "execution_count": 27,
   "id": "31c468be",
   "metadata": {},
   "outputs": [
    {
     "name": "stdout",
     "output_type": "stream",
     "text": [
      "(5, 'Siddharth', 99)\n"
     ]
    }
   ],
   "source": [
    "results=cur.execute(\"select * from student where id=5\")\n",
    "for i in results:\n",
    "    print(i)"
   ]
  },
  {
   "cell_type": "code",
   "execution_count": 30,
   "id": "c8d04d37",
   "metadata": {},
   "outputs": [],
   "source": [
    "sql=\"update student set marks=100 where id=5\"\n",
    "cur.execute(sql)\n",
    "db.commit()"
   ]
  },
  {
   "cell_type": "code",
   "execution_count": 31,
   "id": "7eebde0d",
   "metadata": {},
   "outputs": [
    {
     "name": "stdout",
     "output_type": "stream",
     "text": [
      "(5, 'Siddharth', 100)\n"
     ]
    }
   ],
   "source": [
    "results=cur.execute(\"select * from student where id=5\")\n",
    "for i in results:\n",
    "    print(i)"
   ]
  },
  {
   "cell_type": "code",
   "execution_count": 32,
   "id": "62a7ae01",
   "metadata": {},
   "outputs": [
    {
     "name": "stdout",
     "output_type": "stream",
     "text": [
      "(1, 'Ram', 90)\n",
      "(2, 'Shalu', 100)\n",
      "(3, 'Bulbul', 5)\n",
      "(4, 'Abhilash', 80)\n",
      "(5, 'Siddharth', 100)\n",
      "(6, 'Mummy', 40)\n"
     ]
    }
   ],
   "source": [
    "results=cur.execute(\"select * from student\")\n",
    "for i in results:\n",
    "    print(i)"
   ]
  },
  {
   "cell_type": "code",
   "execution_count": 34,
   "id": "01a35ddf",
   "metadata": {},
   "outputs": [
    {
     "data": {
      "text/plain": [
       "<sqlite3.Cursor at 0x210cbbe0c00>"
      ]
     },
     "execution_count": 34,
     "metadata": {},
     "output_type": "execute_result"
    }
   ],
   "source": [
    "#multiple record updates using 'IN'\n",
    "sql= \"update student set marks=92 where id in(5,6)\"\n",
    "cur.execute(sql)\n",
    "\n",
    "\n"
   ]
  },
  {
   "cell_type": "code",
   "execution_count": 35,
   "id": "69c6a8e1",
   "metadata": {},
   "outputs": [
    {
     "name": "stdout",
     "output_type": "stream",
     "text": [
      "(1, 'Ram', 90)\n",
      "(2, 'Shalu', 100)\n",
      "(3, 'Bulbul', 5)\n",
      "(4, 'Abhilash', 80)\n",
      "(5, 'Siddharth', 92)\n",
      "(6, 'Mummy', 92)\n"
     ]
    }
   ],
   "source": [
    "#verify if its executed\n",
    "results=cur.execute(\"select * from student\")\n",
    "for i in results:\n",
    "    print(i)"
   ]
  },
  {
   "cell_type": "markdown",
   "id": "e94ae922",
   "metadata": {},
   "source": [
    "Delete any unwanted record"
   ]
  },
  {
   "cell_type": "code",
   "execution_count": 36,
   "id": "05b94bd2",
   "metadata": {},
   "outputs": [
    {
     "data": {
      "text/plain": [
       "<sqlite3.Cursor at 0x210cbbe0c00>"
      ]
     },
     "execution_count": 36,
     "metadata": {},
     "output_type": "execute_result"
    }
   ],
   "source": [
    "sql= \"delete from student where id=6\"\n",
    "cur.execute(sql)\n"
   ]
  },
  {
   "cell_type": "code",
   "execution_count": 37,
   "id": "65004087",
   "metadata": {},
   "outputs": [
    {
     "name": "stdout",
     "output_type": "stream",
     "text": [
      "(1, 'Ram', 90)\n",
      "(2, 'Shalu', 100)\n",
      "(3, 'Bulbul', 5)\n",
      "(4, 'Abhilash', 80)\n",
      "(5, 'Siddharth', 92)\n"
     ]
    }
   ],
   "source": [
    "results=cur.execute(\"select* from student\")\n",
    "for i in results:\n",
    "    print(i)"
   ]
  },
  {
   "cell_type": "markdown",
   "id": "39527d22",
   "metadata": {},
   "source": [
    "Drop table student"
   ]
  },
  {
   "cell_type": "code",
   "execution_count": 39,
   "id": "e8ceeaf6",
   "metadata": {},
   "outputs": [],
   "source": [
    "sql=\"drop table student\"\n",
    "results=cur.execute(sql)"
   ]
  },
  {
   "cell_type": "code",
   "execution_count": 40,
   "id": "472278df",
   "metadata": {},
   "outputs": [
    {
     "ename": "OperationalError",
     "evalue": "no such table: student",
     "output_type": "error",
     "traceback": [
      "\u001b[1;31m---------------------------------------------------------------------------\u001b[0m",
      "\u001b[1;31mOperationalError\u001b[0m                          Traceback (most recent call last)",
      "\u001b[1;32m~\\AppData\\Local\\Temp/ipykernel_5768/286099439.py\u001b[0m in \u001b[0;36m<module>\u001b[1;34m\u001b[0m\n\u001b[1;32m----> 1\u001b[1;33m \u001b[0mresults\u001b[0m\u001b[1;33m=\u001b[0m\u001b[0mcur\u001b[0m\u001b[1;33m.\u001b[0m\u001b[0mexecute\u001b[0m\u001b[1;33m(\u001b[0m\u001b[1;34m\"select* from student\"\u001b[0m\u001b[1;33m)\u001b[0m\u001b[1;33m\u001b[0m\u001b[1;33m\u001b[0m\u001b[0m\n\u001b[0m\u001b[0;32m      2\u001b[0m \u001b[0mresults\u001b[0m\u001b[1;33m.\u001b[0m\u001b[0mfetchall\u001b[0m\u001b[1;33m(\u001b[0m\u001b[1;33m)\u001b[0m\u001b[1;33m\u001b[0m\u001b[1;33m\u001b[0m\u001b[0m\n",
      "\u001b[1;31mOperationalError\u001b[0m: no such table: student"
     ]
    }
   ],
   "source": [
    "results=cur.execute(\"select* from student\")\n",
    "results.fetchall()"
   ]
  },
  {
   "cell_type": "code",
   "execution_count": 41,
   "id": "67ffcf65",
   "metadata": {},
   "outputs": [],
   "source": [
    "db.close()"
   ]
  },
  {
   "cell_type": "markdown",
   "id": "d172274a",
   "metadata": {},
   "source": [
    "# Adding Data in table with csv( Comma Separated Values) file directly"
   ]
  },
  {
   "cell_type": "code",
   "execution_count": 42,
   "id": "1dcf29f2",
   "metadata": {},
   "outputs": [],
   "source": [
    "import sqlite3"
   ]
  },
  {
   "cell_type": "code",
   "execution_count": 44,
   "id": "da80b317",
   "metadata": {},
   "outputs": [],
   "source": [
    "db=sqlite3.connect(\"C:/MySQlite_Databse/scores_Database.db\")\n",
    "#Declare cursor\n",
    "cursor=db.cursor()"
   ]
  },
  {
   "cell_type": "code",
   "execution_count": 48,
   "id": "9643afed",
   "metadata": {},
   "outputs": [
    {
     "data": {
      "text/plain": [
       "<sqlite3.Cursor at 0x210cbc0f420>"
      ]
     },
     "execution_count": 48,
     "metadata": {},
     "output_type": "execute_result"
    }
   ],
   "source": [
    "#create table\n",
    "cursor.execute(\"CREATE TABLE scores (gender TEXT,student_id INT PRIMARY KEY,marks INT)\")"
   ]
  },
  {
   "cell_type": "code",
   "execution_count": 49,
   "id": "226b2a56",
   "metadata": {},
   "outputs": [
    {
     "name": "stdout",
     "output_type": "stream",
     "text": [
      "1 record(s) inserted\n"
     ]
    }
   ],
   "source": [
    "#insert record into the table single record inserting\n",
    "cursor.execute(\"INSERT INTO scores(gender,student_id,marks) values ('male',100,500)\")\n",
    "\n",
    "#save the records permanently\n",
    "db.commit()\n",
    "#counts of records inserted\n",
    "print(cursor.rowcount,\"record(s) inserted\")"
   ]
  },
  {
   "cell_type": "markdown",
   "id": "83ed2b4a",
   "metadata": {},
   "source": [
    "# Inserting records from CSV"
   ]
  },
  {
   "cell_type": "code",
   "execution_count": 51,
   "id": "1b143e87",
   "metadata": {},
   "outputs": [
    {
     "name": "stdout",
     "output_type": "stream",
     "text": [
      "21 Records=(s) Inserted\n"
     ]
    }
   ],
   "source": [
    "with open('Scores_file.csv','r') as file:\n",
    "    total_records=0\n",
    "    for row in file:\n",
    "        cursor.execute(\"insert into scores values(?,?,?)\", row.split(\",\"))\n",
    "        db.commit()\n",
    "        total_records+=1\n",
    "print(total_records,\"Records=(s) Inserted\")        "
   ]
  },
  {
   "cell_type": "code",
   "execution_count": 52,
   "id": "45bba045",
   "metadata": {},
   "outputs": [
    {
     "name": "stdout",
     "output_type": "stream",
     "text": [
      "('male', 100, 500)\n",
      "('male', 101, 54)\n",
      "('female', 102, 75)\n",
      "('female', 103, 69)\n",
      "('male', 104, 55)\n",
      "('male', 105, 25)\n",
      "('male', 106, 100)\n",
      "('female', 107, 84)\n",
      "('female', 108, 74)\n",
      "('male', 109, 93)\n",
      "('male', 110, 41)\n",
      "('male', 111, 34)\n",
      "('female', 112, 39)\n",
      "('female', 113, 56)\n",
      "('male', 114, 69)\n",
      "('male', 115, 45)\n",
      "('male', 116, 58)\n",
      "('female', 117, 56)\n",
      "('female', 118, 58)\n",
      "('male', 119, 99)\n",
      "('male', 120, 78)\n",
      "('trans', 121, 47)\n"
     ]
    }
   ],
   "source": [
    "results=cursor.execute(\"select * from scores\")\n",
    "for i in results:\n",
    "    print(i)"
   ]
  },
  {
   "cell_type": "code",
   "execution_count": null,
   "id": "59ca6b11",
   "metadata": {},
   "outputs": [],
   "source": []
  }
 ],
 "metadata": {
  "kernelspec": {
   "display_name": "Python 3 (ipykernel)",
   "language": "python",
   "name": "python3"
  },
  "language_info": {
   "codemirror_mode": {
    "name": "ipython",
    "version": 3
   },
   "file_extension": ".py",
   "mimetype": "text/x-python",
   "name": "python",
   "nbconvert_exporter": "python",
   "pygments_lexer": "ipython3",
   "version": "3.9.7"
  }
 },
 "nbformat": 4,
 "nbformat_minor": 5
}
