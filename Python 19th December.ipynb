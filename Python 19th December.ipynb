{
 "cells": [
  {
   "cell_type": "markdown",
   "id": "c2fa88eb",
   "metadata": {},
   "source": [
    "If Construct"
   ]
  },
  {
   "cell_type": "code",
   "execution_count": 5,
   "id": "2b63b042",
   "metadata": {},
   "outputs": [
    {
     "data": {
      "text/plain": [
       "90"
      ]
     },
     "execution_count": 5,
     "metadata": {},
     "output_type": "execute_result"
    }
   ],
   "source": [
    "marks=90\n",
    "marks"
   ]
  },
  {
   "cell_type": "code",
   "execution_count": 6,
   "id": "7c233912",
   "metadata": {},
   "outputs": [
    {
     "name": "stdout",
     "output_type": "stream",
     "text": [
      "Good\n"
     ]
    }
   ],
   "source": [
    "if marks>80:\n",
    "    print(\"Good\")\n",
    "else:\n",
    "    print(\"Average\")"
   ]
  },
  {
   "cell_type": "code",
   "execution_count": 7,
   "id": "5cfb3950",
   "metadata": {},
   "outputs": [
    {
     "name": "stdout",
     "output_type": "stream",
     "text": [
      "Fail\n"
     ]
    }
   ],
   "source": [
    "marks=10\n",
    "if marks>30:\n",
    "    print(\"Pass\")\n",
    "else:\n",
    "    print('Fail')"
   ]
  },
  {
   "cell_type": "code",
   "execution_count": 9,
   "id": "c7a73dfd",
   "metadata": {},
   "outputs": [
    {
     "name": "stdout",
     "output_type": "stream",
     "text": [
      "even\n"
     ]
    }
   ],
   "source": [
    "#modulu or remainder(%)\n",
    "x=12\n",
    "y=2\n",
    "if(x%y)==0:\n",
    "    print(\"even\")\n",
    "else:\n",
    "    print(\"odd\")\n",
    "    \n",
    "    "
   ]
  },
  {
   "cell_type": "code",
   "execution_count": 10,
   "id": "885ec623",
   "metadata": {},
   "outputs": [
    {
     "name": "stdout",
     "output_type": "stream",
     "text": [
      "odd\n"
     ]
    }
   ],
   "source": [
    "x=15\n",
    "y=2\n",
    "if(x%y)==0:\n",
    "    print(\"even\")\n",
    "else:\n",
    "    print(\"odd\")"
   ]
  },
  {
   "cell_type": "code",
   "execution_count": 11,
   "id": "c10b0427",
   "metadata": {},
   "outputs": [
    {
     "name": "stdout",
     "output_type": "stream",
     "text": [
      "Bad\n",
      "end\n"
     ]
    }
   ],
   "source": [
    "m=40\n",
    "if(m>50):\n",
    "    print(\"Good\")\n",
    "else:\n",
    "    print(\"Bad\")\n",
    "print(\"end\")"
   ]
  },
  {
   "cell_type": "code",
   "execution_count": 13,
   "id": "9994d052",
   "metadata": {},
   "outputs": [
    {
     "name": "stdout",
     "output_type": "stream",
     "text": [
      "enter value29\n",
      "value of k is 29 odd number\n"
     ]
    }
   ],
   "source": [
    "k=int(input(\"enter value\"))\n",
    "if k%2==0:\n",
    "    print(\"value of k is\",k,\"even number\")\n",
    "else:\n",
    "    print(\"value of k is\",k,\"odd number\")"
   ]
  },
  {
   "cell_type": "code",
   "execution_count": 15,
   "id": "6caa5844",
   "metadata": {},
   "outputs": [
    {
     "name": "stdout",
     "output_type": "stream",
     "text": [
      "enter value69\n",
      "value of a is 69 odd number\n"
     ]
    }
   ],
   "source": [
    "a=int(input(\"enter value\"))\n",
    "if a%2==0:\n",
    "    print(\"value of a is\",a,\"even number\")\n",
    "else:\n",
    "    print(\"value of a is\",a,\"odd number\")"
   ]
  },
  {
   "cell_type": "markdown",
   "id": "e901badd",
   "metadata": {},
   "source": [
    "String Functions"
   ]
  },
  {
   "cell_type": "code",
   "execution_count": 17,
   "id": "439a4a18",
   "metadata": {},
   "outputs": [
    {
     "data": {
      "text/plain": [
       "'Welcome to python'"
      ]
     },
     "execution_count": 17,
     "metadata": {},
     "output_type": "execute_result"
    }
   ],
   "source": [
    "word= \"Welcome to python\"\n",
    "word"
   ]
  },
  {
   "cell_type": "markdown",
   "id": "a004bff4",
   "metadata": {},
   "source": [
    "\n",
    "List Comprehension\n"
   ]
  },
  {
   "cell_type": "code",
   "execution_count": 18,
   "id": "70e9d9da",
   "metadata": {},
   "outputs": [],
   "source": [
    "#to assign new variable to the list in long lists we can use list comprehension to take limited values from the long list we use For Loop"
   ]
  },
  {
   "cell_type": "code",
   "execution_count": 19,
   "id": "11010c20",
   "metadata": {},
   "outputs": [
    {
     "name": "stdout",
     "output_type": "stream",
     "text": [
      "[1, 2, 3, 4, 5]\n"
     ]
    }
   ],
   "source": [
    "list1=[1,2,3,4,5]\n",
    "m=[d for d in list1]\n",
    "print(m)"
   ]
  },
  {
   "cell_type": "code",
   "execution_count": 22,
   "id": "ff4248b2",
   "metadata": {},
   "outputs": [
    {
     "name": "stdout",
     "output_type": "stream",
     "text": [
      "[2, 4, 6, 8]\n"
     ]
    }
   ],
   "source": [
    "list2=[1,2,3,4,5,6,7,8]\n",
    "m=[d for d in list2 if d%2==0]\n",
    "print(m)"
   ]
  },
  {
   "cell_type": "code",
   "execution_count": 24,
   "id": "dc3a09bd",
   "metadata": {},
   "outputs": [
    {
     "name": "stdout",
     "output_type": "stream",
     "text": [
      "[2, 4, 6, 8, 10, 12, 14]\n"
     ]
    }
   ],
   "source": [
    "list2=[1,2,3,4,5,6,7,8,9,10,11,12,13,14]\n",
    "m=[i for i in list2 if i%2==0]\n",
    "print(m)"
   ]
  },
  {
   "cell_type": "code",
   "execution_count": null,
   "id": "b0b546ca",
   "metadata": {},
   "outputs": [],
   "source": [
    "#d and i used are the indexes they can be anytrhing a or b or c"
   ]
  },
  {
   "cell_type": "code",
   "execution_count": 23,
   "id": "90246d6d",
   "metadata": {},
   "outputs": [
    {
     "data": {
      "text/plain": [
       "[0, 5, 10, 15, 20, 25]"
      ]
     },
     "execution_count": 23,
     "metadata": {},
     "output_type": "execute_result"
    }
   ],
   "source": [
    "j= [i for i in range(0,30,5)]\n",
    "j"
   ]
  },
  {
   "cell_type": "code",
   "execution_count": 25,
   "id": "2659263f",
   "metadata": {},
   "outputs": [
    {
     "data": {
      "text/plain": [
       "[0, 11, 22, 33, 44, 55, 66, 77, 88]"
      ]
     },
     "execution_count": 25,
     "metadata": {},
     "output_type": "execute_result"
    }
   ],
   "source": [
    "j= [a for a in range(0,99,11)]\n",
    "j"
   ]
  },
  {
   "cell_type": "code",
   "execution_count": 26,
   "id": "5fe19063",
   "metadata": {},
   "outputs": [
    {
     "name": "stdout",
     "output_type": "stream",
     "text": [
      "lemon\n",
      "apple\n",
      "orange\n",
      "banana\n"
     ]
    }
   ],
   "source": [
    "for i in ['lemon','apple','orange','banana']:\n",
    "    print(i)"
   ]
  },
  {
   "cell_type": "code",
   "execution_count": 27,
   "id": "d72697c6",
   "metadata": {},
   "outputs": [
    {
     "name": "stdout",
     "output_type": "stream",
     "text": [
      "lemon apple orange banana "
     ]
    }
   ],
   "source": [
    "for a in ['lemon','apple','orange','banana']:\n",
    "    print(a,end=\" \")"
   ]
  },
  {
   "cell_type": "code",
   "execution_count": null,
   "id": "9bd93ed6",
   "metadata": {},
   "outputs": [],
   "source": [
    "#break statement will break the loop for true conditions"
   ]
  },
  {
   "cell_type": "markdown",
   "id": "bedcab58",
   "metadata": {},
   "source": [
    "Break & Continue statements"
   ]
  },
  {
   "cell_type": "code",
   "execution_count": null,
   "id": "41811049",
   "metadata": {},
   "outputs": [],
   "source": [
    "#one indentation if is a part of for loop two indentations in break and continue loop"
   ]
  },
  {
   "cell_type": "code",
   "execution_count": 30,
   "id": "f3d8dc6b",
   "metadata": {},
   "outputs": [
    {
     "name": "stdout",
     "output_type": "stream",
     "text": [
      "lemon\n",
      "apple\n"
     ]
    }
   ],
   "source": [
    "for i in ['lemon','apple','orange','banana']:\n",
    "    if i=='orange':\n",
    "        break\n",
    "    print(i)"
   ]
  },
  {
   "cell_type": "code",
   "execution_count": 31,
   "id": "588cb5e5",
   "metadata": {},
   "outputs": [
    {
     "name": "stdout",
     "output_type": "stream",
     "text": [
      "lemon\n",
      "apple\n",
      "banana\n"
     ]
    }
   ],
   "source": [
    "for i in ['lemon','apple','orange','banana']:\n",
    "    if i=='orange':\n",
    "        continue\n",
    "    print(i)"
   ]
  },
  {
   "cell_type": "code",
   "execution_count": 34,
   "id": "20eebc32",
   "metadata": {},
   "outputs": [
    {
     "name": "stdout",
     "output_type": "stream",
     "text": [
      "nano\n",
      "suzuki\n"
     ]
    }
   ],
   "source": [
    "for a in ['nano','suzuki','swift','audi']:\n",
    "    if a=='swift':\n",
    "        break\n",
    "    print(a)"
   ]
  },
  {
   "cell_type": "code",
   "execution_count": 35,
   "id": "744ed741",
   "metadata": {},
   "outputs": [
    {
     "name": "stdout",
     "output_type": "stream",
     "text": [
      "nano\n",
      "suzuki\n",
      "audi\n"
     ]
    }
   ],
   "source": [
    "for a in ['nano','suzuki','swift','audi']:\n",
    "    if a=='swift':\n",
    "        continue\n",
    "    print(a)"
   ]
  },
  {
   "cell_type": "code",
   "execution_count": 36,
   "id": "fdf09083",
   "metadata": {},
   "outputs": [
    {
     "name": "stdout",
     "output_type": "stream",
     "text": [
      "nano\n",
      "suzuki\n"
     ]
    }
   ],
   "source": [
    "for a in ['nano','suzuki','swift','audi']:\n",
    "    if a==\"swift\":\n",
    "        break\n",
    "    print(a)"
   ]
  },
  {
   "cell_type": "markdown",
   "id": "b729294b",
   "metadata": {},
   "source": [
    "String Function"
   ]
  },
  {
   "cell_type": "code",
   "execution_count": 41,
   "id": "615d62bf",
   "metadata": {},
   "outputs": [
    {
     "data": {
      "text/plain": [
       "'WELCOME To python'"
      ]
     },
     "execution_count": 41,
     "metadata": {},
     "output_type": "execute_result"
    }
   ],
   "source": [
    "word='WELCOME To python'\n",
    "word"
   ]
  },
  {
   "cell_type": "code",
   "execution_count": 42,
   "id": "eaf2e836",
   "metadata": {},
   "outputs": [
    {
     "data": {
      "text/plain": [
       "'welcome to python'"
      ]
     },
     "execution_count": 42,
     "metadata": {},
     "output_type": "execute_result"
    }
   ],
   "source": [
    "word.lower()"
   ]
  },
  {
   "cell_type": "code",
   "execution_count": 43,
   "id": "7906dd97",
   "metadata": {},
   "outputs": [
    {
     "data": {
      "text/plain": [
       "'WELCOME TO PYTHON'"
      ]
     },
     "execution_count": 43,
     "metadata": {},
     "output_type": "execute_result"
    }
   ],
   "source": [
    "word.upper()"
   ]
  },
  {
   "cell_type": "code",
   "execution_count": 44,
   "id": "154fb5da",
   "metadata": {},
   "outputs": [
    {
     "data": {
      "text/plain": [
       "'welcome tO PYTHON'"
      ]
     },
     "execution_count": 44,
     "metadata": {},
     "output_type": "execute_result"
    }
   ],
   "source": [
    "word.swapcase()"
   ]
  },
  {
   "cell_type": "code",
   "execution_count": 45,
   "id": "81db84fd",
   "metadata": {},
   "outputs": [
    {
     "data": {
      "text/plain": [
       "['WELCOME', 'To', 'python']"
      ]
     },
     "execution_count": 45,
     "metadata": {},
     "output_type": "execute_result"
    }
   ],
   "source": [
    "word.split()"
   ]
  },
  {
   "cell_type": "code",
   "execution_count": 46,
   "id": "090d87f9",
   "metadata": {},
   "outputs": [],
   "source": [
    "#word alphabetic"
   ]
  },
  {
   "cell_type": "code",
   "execution_count": 47,
   "id": "11325dfe",
   "metadata": {},
   "outputs": [
    {
     "data": {
      "text/plain": [
       "True"
      ]
     },
     "execution_count": 47,
     "metadata": {},
     "output_type": "execute_result"
    }
   ],
   "source": [
    "x='123'\n",
    "x.isnumeric()"
   ]
  },
  {
   "cell_type": "code",
   "execution_count": 48,
   "id": "41d23526",
   "metadata": {},
   "outputs": [
    {
     "data": {
      "text/plain": [
       "True"
      ]
     },
     "execution_count": 48,
     "metadata": {},
     "output_type": "execute_result"
    }
   ],
   "source": [
    "y='machine'\n",
    "y.isalpha()"
   ]
  },
  {
   "cell_type": "code",
   "execution_count": 49,
   "id": "07a9d115",
   "metadata": {},
   "outputs": [
    {
     "data": {
      "text/plain": [
       "False"
      ]
     },
     "execution_count": 49,
     "metadata": {},
     "output_type": "execute_result"
    }
   ],
   "source": [
    "y='machine'\n",
    "y.isnumeric()"
   ]
  },
  {
   "cell_type": "code",
   "execution_count": 50,
   "id": "707c009e",
   "metadata": {},
   "outputs": [
    {
     "data": {
      "text/plain": [
       "False"
      ]
     },
     "execution_count": 50,
     "metadata": {},
     "output_type": "execute_result"
    }
   ],
   "source": [
    "x='123'\n",
    "x.isalpha()"
   ]
  },
  {
   "cell_type": "code",
   "execution_count": 51,
   "id": "2d28a673",
   "metadata": {},
   "outputs": [
    {
     "data": {
      "text/plain": [
       "False"
      ]
     },
     "execution_count": 51,
     "metadata": {},
     "output_type": "execute_result"
    }
   ],
   "source": [
    "p=\"Data Science\"\n",
    "p.isalpha()"
   ]
  },
  {
   "cell_type": "code",
   "execution_count": 52,
   "id": "f8603672",
   "metadata": {},
   "outputs": [],
   "source": [
    "#showing false because of space between data and science"
   ]
  },
  {
   "cell_type": "code",
   "execution_count": 53,
   "id": "925440f7",
   "metadata": {},
   "outputs": [
    {
     "data": {
      "text/plain": [
       "True"
      ]
     },
     "execution_count": 53,
     "metadata": {},
     "output_type": "execute_result"
    }
   ],
   "source": [
    "p=\"DataScience\"\n",
    "p.isalpha()"
   ]
  },
  {
   "cell_type": "code",
   "execution_count": 54,
   "id": "a3967fa6",
   "metadata": {},
   "outputs": [
    {
     "data": {
      "text/plain": [
       "['WELCOME', 'To', 'python']"
      ]
     },
     "execution_count": 54,
     "metadata": {},
     "output_type": "execute_result"
    }
   ],
   "source": [
    "word.split()"
   ]
  },
  {
   "cell_type": "code",
   "execution_count": 55,
   "id": "846c06f7",
   "metadata": {},
   "outputs": [
    {
     "data": {
      "text/plain": [
       "True"
      ]
     },
     "execution_count": 55,
     "metadata": {},
     "output_type": "execute_result"
    }
   ],
   "source": [
    "word2=\"python\"\n",
    "word2.isalpha()"
   ]
  },
  {
   "cell_type": "code",
   "execution_count": 56,
   "id": "6c34a6c7",
   "metadata": {},
   "outputs": [
    {
     "data": {
      "text/plain": [
       "'PYTHON'"
      ]
     },
     "execution_count": 56,
     "metadata": {},
     "output_type": "execute_result"
    }
   ],
   "source": [
    "word2.upper()"
   ]
  },
  {
   "cell_type": "code",
   "execution_count": 57,
   "id": "2f295fd0",
   "metadata": {},
   "outputs": [
    {
     "data": {
      "text/plain": [
       "'python'"
      ]
     },
     "execution_count": 57,
     "metadata": {},
     "output_type": "execute_result"
    }
   ],
   "source": [
    "word2.lower()"
   ]
  },
  {
   "cell_type": "code",
   "execution_count": 58,
   "id": "2f8b0fa9",
   "metadata": {},
   "outputs": [
    {
     "data": {
      "text/plain": [
       "False"
      ]
     },
     "execution_count": 58,
     "metadata": {},
     "output_type": "execute_result"
    }
   ],
   "source": [
    "city=\"Sydeny\"\n",
    "city.isupper()"
   ]
  },
  {
   "cell_type": "code",
   "execution_count": 59,
   "id": "f7c5e3e0",
   "metadata": {},
   "outputs": [
    {
     "data": {
      "text/plain": [
       "False"
      ]
     },
     "execution_count": 59,
     "metadata": {},
     "output_type": "execute_result"
    }
   ],
   "source": [
    "city.islower()"
   ]
  },
  {
   "cell_type": "code",
   "execution_count": 60,
   "id": "b12f99d3",
   "metadata": {},
   "outputs": [
    {
     "data": {
      "text/plain": [
       "False"
      ]
     },
     "execution_count": 60,
     "metadata": {},
     "output_type": "execute_result"
    }
   ],
   "source": [
    "city=\"sydeny\"\n",
    "city.isupper()"
   ]
  },
  {
   "cell_type": "code",
   "execution_count": 63,
   "id": "73f8f4f8",
   "metadata": {},
   "outputs": [
    {
     "data": {
      "text/plain": [
       "True"
      ]
     },
     "execution_count": 63,
     "metadata": {},
     "output_type": "execute_result"
    }
   ],
   "source": [
    "city=\"sydeny\"\n",
    "city.islower()"
   ]
  },
  {
   "cell_type": "code",
   "execution_count": 64,
   "id": "803b4f30",
   "metadata": {},
   "outputs": [
    {
     "data": {
      "text/plain": [
       "'Sydeny'"
      ]
     },
     "execution_count": 64,
     "metadata": {},
     "output_type": "execute_result"
    }
   ],
   "source": [
    "city.capitalize()"
   ]
  },
  {
   "cell_type": "code",
   "execution_count": 65,
   "id": "1184dbef",
   "metadata": {},
   "outputs": [
    {
     "data": {
      "text/plain": [
       "'Australia'"
      ]
     },
     "execution_count": 65,
     "metadata": {},
     "output_type": "execute_result"
    }
   ],
   "source": [
    "country=\"australia\"\n",
    "country.capitalize()"
   ]
  },
  {
   "cell_type": "code",
   "execution_count": 66,
   "id": "7e1ce8ac",
   "metadata": {},
   "outputs": [
    {
     "data": {
      "text/plain": [
       "True"
      ]
     },
     "execution_count": 66,
     "metadata": {},
     "output_type": "execute_result"
    }
   ],
   "source": [
    "x='4678'\n",
    "x.isnumeric()"
   ]
  },
  {
   "cell_type": "code",
   "execution_count": 67,
   "id": "8b1d0f4a",
   "metadata": {},
   "outputs": [
    {
     "data": {
      "text/plain": [
       "False"
      ]
     },
     "execution_count": 67,
     "metadata": {},
     "output_type": "execute_result"
    }
   ],
   "source": [
    "x='4,6,7,8'\n",
    "x.isnumeric()"
   ]
  },
  {
   "cell_type": "code",
   "execution_count": 68,
   "id": "d8cfe5fc",
   "metadata": {},
   "outputs": [
    {
     "data": {
      "text/plain": [
       "'Data Science Is An Emerging Field'"
      ]
     },
     "execution_count": 68,
     "metadata": {},
     "output_type": "execute_result"
    }
   ],
   "source": [
    "p=\"data science is an emerging field\"\n",
    "p.title()"
   ]
  },
  {
   "cell_type": "code",
   "execution_count": 69,
   "id": "a3f4f06b",
   "metadata": {},
   "outputs": [
    {
     "data": {
      "text/plain": [
       "True"
      ]
     },
     "execution_count": 69,
     "metadata": {},
     "output_type": "execute_result"
    }
   ],
   "source": [
    "k='1232ABC'\n",
    "k.isalnum()"
   ]
  },
  {
   "cell_type": "code",
   "execution_count": null,
   "id": "ba93ff31",
   "metadata": {},
   "outputs": [],
   "source": []
  }
 ],
 "metadata": {
  "kernelspec": {
   "display_name": "Python 3 (ipykernel)",
   "language": "python",
   "name": "python3"
  },
  "language_info": {
   "codemirror_mode": {
    "name": "ipython",
    "version": 3
   },
   "file_extension": ".py",
   "mimetype": "text/x-python",
   "name": "python",
   "nbconvert_exporter": "python",
   "pygments_lexer": "ipython3",
   "version": "3.9.7"
  }
 },
 "nbformat": 4,
 "nbformat_minor": 5
}
