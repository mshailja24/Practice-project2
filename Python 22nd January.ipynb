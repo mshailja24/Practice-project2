{
 "cells": [
  {
   "cell_type": "markdown",
   "id": "d110d84e",
   "metadata": {},
   "source": [
    "# File input output operations"
   ]
  },
  {
   "cell_type": "markdown",
   "id": "a86d899a",
   "metadata": {},
   "source": [
    " r mode- read mode default mode, w mode- write mode, a mode- append mode\n",
    "\n"
   ]
  },
  {
   "cell_type": "markdown",
   "id": "62454d1e",
   "metadata": {},
   "source": [
    "f=open('E:\\python\\file1.txt','w')"
   ]
  },
  {
   "cell_type": "markdown",
   "id": "1afab756",
   "metadata": {},
   "source": [
    "f=open('E:\\python\\file1.txt','r')"
   ]
  },
  {
   "cell_type": "code",
   "execution_count": 23,
   "id": "15f8482b",
   "metadata": {},
   "outputs": [],
   "source": [
    "file1=open('C:\\\\Python\\\\Jan22file.txt','w')"
   ]
  },
  {
   "cell_type": "code",
   "execution_count": 24,
   "id": "09682f57",
   "metadata": {},
   "outputs": [
    {
     "data": {
      "text/plain": [
       "22"
      ]
     },
     "execution_count": 24,
     "metadata": {},
     "output_type": "execute_result"
    }
   ],
   "source": [
    "file1.write('This is the first line')"
   ]
  },
  {
   "cell_type": "code",
   "execution_count": 25,
   "id": "5a54005f",
   "metadata": {},
   "outputs": [],
   "source": [
    "file1.close()"
   ]
  },
  {
   "cell_type": "code",
   "execution_count": 26,
   "id": "b9fafdd0",
   "metadata": {},
   "outputs": [],
   "source": [
    "file2=open('C:\\\\Python\\\\Jan22file.txt','r')"
   ]
  },
  {
   "cell_type": "code",
   "execution_count": 27,
   "id": "80be9820",
   "metadata": {},
   "outputs": [
    {
     "name": "stdout",
     "output_type": "stream",
     "text": [
      "This is the first line\n"
     ]
    }
   ],
   "source": [
    "print(file2.read())"
   ]
  },
  {
   "cell_type": "code",
   "execution_count": 28,
   "id": "a9ba8b26",
   "metadata": {},
   "outputs": [],
   "source": [
    "file2.close()"
   ]
  },
  {
   "cell_type": "code",
   "execution_count": 29,
   "id": "8b8e2ff1",
   "metadata": {},
   "outputs": [],
   "source": [
    "appendfile=open('C:\\\\Python\\\\Jan22file.txt','a')"
   ]
  },
  {
   "cell_type": "code",
   "execution_count": 30,
   "id": "2c51a12b",
   "metadata": {},
   "outputs": [
    {
     "data": {
      "text/plain": [
       "32"
      ]
     },
     "execution_count": 30,
     "metadata": {},
     "output_type": "execute_result"
    }
   ],
   "source": [
    "appendfile.write(\"\\n Lets add this is the next line\")"
   ]
  },
  {
   "cell_type": "code",
   "execution_count": 31,
   "id": "a47ec186",
   "metadata": {},
   "outputs": [],
   "source": [
    "appendfile.close()"
   ]
  },
  {
   "cell_type": "code",
   "execution_count": 32,
   "id": "4f92ca19",
   "metadata": {},
   "outputs": [],
   "source": [
    "file2=open('C:\\\\Python\\\\jan22file.txt','r')"
   ]
  },
  {
   "cell_type": "code",
   "execution_count": 33,
   "id": "d457e8f7",
   "metadata": {},
   "outputs": [
    {
     "name": "stdout",
     "output_type": "stream",
     "text": [
      "This is the first line\n",
      " Lets add this is the next line\n"
     ]
    }
   ],
   "source": [
    "print(file2.read())"
   ]
  },
  {
   "cell_type": "code",
   "execution_count": 34,
   "id": "016caf69",
   "metadata": {},
   "outputs": [],
   "source": [
    "file2.close()"
   ]
  },
  {
   "cell_type": "markdown",
   "id": "b728df95",
   "metadata": {},
   "source": [
    "# Pickle in Python: Object Serialization"
   ]
  },
  {
   "cell_type": "code",
   "execution_count": 35,
   "id": "0b2e6ae6",
   "metadata": {},
   "outputs": [],
   "source": [
    "import pickle"
   ]
  },
  {
   "cell_type": "code",
   "execution_count": 36,
   "id": "cc176519",
   "metadata": {},
   "outputs": [],
   "source": [
    "flower_dict={1:'Rose',2:'Jasmine',3:'Lilly',4:'Lotus'}"
   ]
  },
  {
   "cell_type": "code",
   "execution_count": 37,
   "id": "1e3e95d2",
   "metadata": {},
   "outputs": [],
   "source": [
    "#file name='flower'\n",
    "#outfile=open(filename,'wb')\n",
    "#wb= write binary\n",
    "# i have not given any path name so flower.obj will be saved in the home page where all the jupiter notebooks are saved automatically"
   ]
  },
  {
   "cell_type": "code",
   "execution_count": 38,
   "id": "5ea481b0",
   "metadata": {},
   "outputs": [],
   "source": [
    "outfile=open('flower.obj','wb')"
   ]
  },
  {
   "cell_type": "code",
   "execution_count": 39,
   "id": "d979a195",
   "metadata": {},
   "outputs": [],
   "source": [
    "#pickling the file\n",
    "#dump method serialize\n",
    "pickle.dump(flower_dict,outfile)\n",
    "outfile.close()"
   ]
  },
  {
   "cell_type": "code",
   "execution_count": 41,
   "id": "fc349b9d",
   "metadata": {},
   "outputs": [],
   "source": [
    "#unpickle the file\n",
    "#infile=open(filename,'rb') ------> rb=read binary mode\n",
    "#infile= reference variable\n"
   ]
  },
  {
   "cell_type": "code",
   "execution_count": 42,
   "id": "ab8acc76",
   "metadata": {},
   "outputs": [],
   "source": [
    "infile=open('flower.obj','rb')"
   ]
  },
  {
   "cell_type": "code",
   "execution_count": 43,
   "id": "733fc38d",
   "metadata": {},
   "outputs": [],
   "source": [
    "#de serialize\n",
    "#load method\n",
    "new_dict=pickle.load(infile)"
   ]
  },
  {
   "cell_type": "code",
   "execution_count": 44,
   "id": "87f8c7e5",
   "metadata": {},
   "outputs": [],
   "source": [
    "infile.close()"
   ]
  },
  {
   "cell_type": "code",
   "execution_count": 45,
   "id": "2523808a",
   "metadata": {},
   "outputs": [
    {
     "name": "stdout",
     "output_type": "stream",
     "text": [
      "{1: 'Rose', 2: 'Jasmine', 3: 'Lilly', 4: 'Lotus'}\n"
     ]
    }
   ],
   "source": [
    "print(new_dict)"
   ]
  },
  {
   "cell_type": "code",
   "execution_count": 47,
   "id": "96b6297a",
   "metadata": {},
   "outputs": [
    {
     "name": "stdout",
     "output_type": "stream",
     "text": [
      "True\n"
     ]
    }
   ],
   "source": [
    "print(new_dict==flower_dict)"
   ]
  },
  {
   "cell_type": "code",
   "execution_count": 48,
   "id": "21607287",
   "metadata": {},
   "outputs": [
    {
     "name": "stdout",
     "output_type": "stream",
     "text": [
      "<class 'dict'>\n"
     ]
    }
   ],
   "source": [
    "print(type(new_dict))"
   ]
  },
  {
   "cell_type": "code",
   "execution_count": null,
   "id": "30407ae5",
   "metadata": {},
   "outputs": [],
   "source": []
  }
 ],
 "metadata": {
  "kernelspec": {
   "display_name": "Python 3 (ipykernel)",
   "language": "python",
   "name": "python3"
  },
  "language_info": {
   "codemirror_mode": {
    "name": "ipython",
    "version": 3
   },
   "file_extension": ".py",
   "mimetype": "text/x-python",
   "name": "python",
   "nbconvert_exporter": "python",
   "pygments_lexer": "ipython3",
   "version": "3.9.7"
  }
 },
 "nbformat": 4,
 "nbformat_minor": 5
}
