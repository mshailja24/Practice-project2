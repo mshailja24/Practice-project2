{
 "cells": [
  {
   "cell_type": "markdown",
   "id": "31f9fd1a",
   "metadata": {},
   "source": [
    "# Loops in Python"
   ]
  },
  {
   "cell_type": "markdown",
   "id": "d6c83269",
   "metadata": {},
   "source": [
    "While loops"
   ]
  },
  {
   "cell_type": "code",
   "execution_count": null,
   "id": "3a15c000",
   "metadata": {},
   "outputs": [],
   "source": [
    "#initialization\n",
    "i=0"
   ]
  },
  {
   "cell_type": "code",
   "execution_count": null,
   "id": "c24b8ae6",
   "metadata": {},
   "outputs": [],
   "source": [
    "#condition\n",
    "while(i<5):\n",
    "    print(i)\n",
    "    i=i+1      #increament.\n",
    "    \n",
    "    \n"
   ]
  },
  {
   "cell_type": "code",
   "execution_count": null,
   "id": "413e258c",
   "metadata": {},
   "outputs": [],
   "source": [
    "i=0\n",
    "while(i<7):\n",
    "    print(i)\n",
    "    i=i+1"
   ]
  },
  {
   "cell_type": "code",
   "execution_count": null,
   "id": "016b3eed",
   "metadata": {},
   "outputs": [],
   "source": [
    "k=0\n",
    "while(k<10):\n",
    "    print(k)\n",
    "    k=k+1"
   ]
  },
  {
   "cell_type": "code",
   "execution_count": null,
   "id": "09c03289",
   "metadata": {},
   "outputs": [],
   "source": [
    "j=0\n",
    "while(j<6):\n",
    "    print(\"j=\",j)\n",
    "    j=j+1\n"
   ]
  },
  {
   "cell_type": "code",
   "execution_count": null,
   "id": "5d960fea",
   "metadata": {},
   "outputs": [],
   "source": [
    "j=0\n",
    "while(j<20):\n",
    "    print(\"j=\",j)\n",
    "    j=j+10\n"
   ]
  },
  {
   "cell_type": "code",
   "execution_count": null,
   "id": "f26f0c76",
   "metadata": {},
   "outputs": [],
   "source": [
    "p=0\n",
    "while(p<25):\n",
    "    print(p,end=\" \")\n",
    "    p=p+5"
   ]
  },
  {
   "cell_type": "code",
   "execution_count": null,
   "id": "9d786b2c",
   "metadata": {},
   "outputs": [],
   "source": [
    "g=0\n",
    "while(g<100):\n",
    "    print(g,end=\" \")\n",
    "    g=g+2"
   ]
  },
  {
   "cell_type": "code",
   "execution_count": null,
   "id": "dc69e063",
   "metadata": {},
   "outputs": [],
   "source": [
    "z=0\n",
    "while(z<50):\n",
    "    print(z,end=\" \")\n",
    "    z=z+6"
   ]
  },
  {
   "cell_type": "code",
   "execution_count": null,
   "id": "533ad80b",
   "metadata": {},
   "outputs": [],
   "source": [
    "a=5\n",
    "while(a<200):\n",
    "    print(a,end=\"  \")\n",
    "    a=a+5"
   ]
  },
  {
   "cell_type": "markdown",
   "id": "0c69ac28",
   "metadata": {},
   "source": [
    "For Loop"
   ]
  },
  {
   "cell_type": "code",
   "execution_count": 18,
   "id": "e14b1ef5",
   "metadata": {},
   "outputs": [
    {
     "name": "stdout",
     "output_type": "stream",
     "text": [
      "11 12 13 "
     ]
    }
   ],
   "source": [
    "for index in [11,12,13]:\n",
    "    print(index,end=\" \")"
   ]
  },
  {
   "cell_type": "code",
   "execution_count": 19,
   "id": "4170c1eb",
   "metadata": {},
   "outputs": [
    {
     "name": "stdout",
     "output_type": "stream",
     "text": [
      "88  99  55  44  66  "
     ]
    }
   ],
   "source": [
    "for index in [88,99,55,44,66]:\n",
    "    print(index,end=\"  \")"
   ]
  },
  {
   "cell_type": "code",
   "execution_count": 20,
   "id": "2f510105",
   "metadata": {},
   "outputs": [
    {
     "name": "stdout",
     "output_type": "stream",
     "text": [
      "1 2 3 4 5 6 7 8 9 "
     ]
    }
   ],
   "source": [
    "for i in[1,2,3,4,5,6,7,8,9]:\n",
    "    print(i,end=\" \")"
   ]
  },
  {
   "cell_type": "code",
   "execution_count": 21,
   "id": "fd7d7728",
   "metadata": {
    "scrolled": true
   },
   "outputs": [
    {
     "name": "stdout",
     "output_type": "stream",
     "text": [
      "101 102 104 105 106 107 108 "
     ]
    }
   ],
   "source": [
    "for m in[101,102,104,105,106,107,108]:\n",
    "    print(m,end=\" \")"
   ]
  },
  {
   "cell_type": "code",
   "execution_count": 22,
   "id": "36a6a635",
   "metadata": {},
   "outputs": [
    {
     "name": "stdout",
     "output_type": "stream",
     "text": [
      "A B C D E "
     ]
    }
   ],
   "source": [
    "for j in[\"A\",\"B\",\"C\",\"D\",\"E\"]:\n",
    "    print(j,end=\" \")"
   ]
  },
  {
   "cell_type": "code",
   "execution_count": 23,
   "id": "2b01182c",
   "metadata": {},
   "outputs": [
    {
     "name": "stdout",
     "output_type": "stream",
     "text": [
      "Apple\n",
      "Mango\n",
      "Banana\n",
      "Grapes\n"
     ]
    }
   ],
   "source": [
    "for k in[\"Apple\",\"Mango\",\"Banana\",\"Grapes\"]:\n",
    "    print(k)"
   ]
  },
  {
   "cell_type": "code",
   "execution_count": 24,
   "id": "26f2f921",
   "metadata": {},
   "outputs": [
    {
     "name": "stdout",
     "output_type": "stream",
     "text": [
      "Apple fruits Mango fruits Banana fruits Grapes fruits "
     ]
    }
   ],
   "source": [
    "for k in[\"Apple\",\"Mango\",\"Banana\",\"Grapes\"]:\n",
    "    print(k,end=\" fruits \")"
   ]
  },
  {
   "cell_type": "markdown",
   "id": "bd70a0f2",
   "metadata": {},
   "source": [
    "Range in Python------gives sequesnce of integers"
   ]
  },
  {
   "cell_type": "code",
   "execution_count": 26,
   "id": "cfdd8e3c",
   "metadata": {},
   "outputs": [
    {
     "data": {
      "text/plain": [
       "range(0, 2)"
      ]
     },
     "execution_count": 26,
     "metadata": {},
     "output_type": "execute_result"
    }
   ],
   "source": [
    "range(2)"
   ]
  },
  {
   "cell_type": "code",
   "execution_count": 27,
   "id": "815e943b",
   "metadata": {},
   "outputs": [
    {
     "data": {
      "text/plain": [
       "range(0, 5)"
      ]
     },
     "execution_count": 27,
     "metadata": {},
     "output_type": "execute_result"
    }
   ],
   "source": [
    "range(5)"
   ]
  },
  {
   "cell_type": "code",
   "execution_count": 28,
   "id": "621a55bf",
   "metadata": {},
   "outputs": [
    {
     "data": {
      "text/plain": [
       "[0, 1, 2, 3, 4, 5, 6, 7, 8, 9]"
      ]
     },
     "execution_count": 28,
     "metadata": {},
     "output_type": "execute_result"
    }
   ],
   "source": [
    "list(range(10))"
   ]
  },
  {
   "cell_type": "code",
   "execution_count": 36,
   "id": "7cff7f6f",
   "metadata": {},
   "outputs": [
    {
     "data": {
      "text/plain": [
       "[0, 1, 2, 3, 4, 5, 6, 7, 8, 9, 10, 11, 12, 13, 14, 15, 16, 17, 18, 19]"
      ]
     },
     "execution_count": 36,
     "metadata": {},
     "output_type": "execute_result"
    }
   ],
   "source": [
    "list(range(20))"
   ]
  },
  {
   "cell_type": "code",
   "execution_count": 40,
   "id": "12d7993c",
   "metadata": {},
   "outputs": [
    {
     "name": "stdout",
     "output_type": "stream",
     "text": [
      "[0, 1, 2, 3, 4, 5, 6, 7, 8, 9, 10, 11, 12, 13, 14, 15, 16, 17, 18, 19, 20, 21, 22, 23, 24, 25, 26, 27, 28, 29, 30, 31, 32, 33, 34, 35, 36, 37, 38, 39] "
     ]
    }
   ],
   "source": [
    "j=list(range(40))\n",
    "print(j,end=\" \")"
   ]
  },
  {
   "cell_type": "code",
   "execution_count": 45,
   "id": "74ba5a08",
   "metadata": {},
   "outputs": [
    {
     "name": "stdout",
     "output_type": "stream",
     "text": [
      "[0, 1, 2, 3, 4, 5, 6, 7, 8, 9, 10, 11, 12, 13, 14, 15, 16, 17, 18, 19, 20, 21, 22, 23, 24, 25, 26, 27, 28, 29, 30, 31, 32, 33, 34, 35, 36, 37, 38, 39] "
     ]
    }
   ],
   "source": [
    "k=list(range(40))\n",
    "print(k,end=\" \")"
   ]
  },
  {
   "cell_type": "code",
   "execution_count": 46,
   "id": "d8f1e15b",
   "metadata": {},
   "outputs": [
    {
     "name": "stdout",
     "output_type": "stream",
     "text": [
      "0\n",
      "1\n",
      "2\n",
      "3\n",
      "4\n"
     ]
    }
   ],
   "source": [
    "for i in range(5):\n",
    "    print(i)"
   ]
  },
  {
   "cell_type": "code",
   "execution_count": 47,
   "id": "79e468fd",
   "metadata": {},
   "outputs": [
    {
     "name": "stdout",
     "output_type": "stream",
     "text": [
      "0 1 2 3 4 5 6 7 8 9 10 11 12 13 14 15 16 17 18 19 20 21 22 23 24 25 26 27 28 29 30 31 32 33 34 35 36 37 38 39 40 41 42 43 44 45 46 47 "
     ]
    }
   ],
   "source": [
    "for j in range(48):\n",
    "    print(j,end=\" \")"
   ]
  },
  {
   "cell_type": "markdown",
   "id": "a55e06fa",
   "metadata": {},
   "source": [
    "range(start,end)"
   ]
  },
  {
   "cell_type": "code",
   "execution_count": 49,
   "id": "d54cf5b3",
   "metadata": {},
   "outputs": [
    {
     "data": {
      "text/plain": [
       "[1, 2, 3, 4, 5, 6, 7, 8, 9]"
      ]
     },
     "execution_count": 49,
     "metadata": {},
     "output_type": "execute_result"
    }
   ],
   "source": [
    "list(range(1,10))"
   ]
  },
  {
   "cell_type": "code",
   "execution_count": 51,
   "id": "247e58d3",
   "metadata": {},
   "outputs": [
    {
     "name": "stdout",
     "output_type": "stream",
     "text": [
      "[4, 5, 6, 7, 8, 9, 10, 11, 12, 13, 14, 15, 16, 17, 18, 19, 20, 21, 22, 23, 24, 25, 26, 27, 28, 29, 30, 31, 32, 33, 34, 35, 36, 37, 38, 39, 40, 41, 42, 43, 44, 45, 46, 47, 48, 49, 50, 51, 52, 53, 54, 55, 56, 57, 58, 59, 60, 61, 62, 63, 64, 65, 66, 67, 68, 69, 70, 71, 72, 73, 74, 75, 76, 77, 78, 79, 80, 81, 82, 83, 84, 85, 86, 87, 88, 89, 90, 91, 92, 93, 94, 95, 96, 97, 98, 99] "
     ]
    }
   ],
   "source": [
    "k=list(range(4,100))\n",
    "print(k,end=\" \")"
   ]
  },
  {
   "cell_type": "code",
   "execution_count": 54,
   "id": "dafcd260",
   "metadata": {},
   "outputs": [
    {
     "name": "stdout",
     "output_type": "stream",
     "text": [
      "1\n",
      "2\n",
      "3\n",
      "4\n",
      "5\n",
      "6\n",
      "7\n",
      "8\n",
      "9\n"
     ]
    }
   ],
   "source": [
    "for k in range(1,10):\n",
    "    print(k)\n",
    "\n"
   ]
  },
  {
   "cell_type": "code",
   "execution_count": 56,
   "id": "17ffe613",
   "metadata": {},
   "outputs": [
    {
     "name": "stdout",
     "output_type": "stream",
     "text": [
      "9  10  11  12  13  14  15  16  17  18  19  20  21  22  23  24  25  26  27  28  29  30  31  32  33  34  35  36  37  38  39  40  41  42  43  44  45  46  47  48  49  50  51  52  53  54  55  56  57  58  59  60  61  62  63  64  65  66  67  68  69  70  71  72  73  74  75  76  77  78  79  80  81  82  83  84  85  86  87  88  89  90  91  92  93  94  95  96  97  98  99  100  101  102  103  104  105  106  107  108  109  110  111  112  113  114  115  116  117  118  119  120  121  122  123  124  125  126  127  128  129  130  131  132  133  134  135  136  137  138  139  140  141  142  143  144  145  146  147  148  149  150  151  152  153  154  155  156  157  158  159  "
     ]
    }
   ],
   "source": [
    "for k in range(9,160):\n",
    "    print(k,end=\"  \")\n"
   ]
  },
  {
   "cell_type": "code",
   "execution_count": 57,
   "id": "83c1ea20",
   "metadata": {},
   "outputs": [
    {
     "name": "stdout",
     "output_type": "stream",
     "text": [
      "1\n",
      "2\n",
      "3\n",
      "4\n",
      "5\n"
     ]
    }
   ],
   "source": [
    "p=list(range(1,6))\n",
    "for i in p:\n",
    "    print(i)"
   ]
  },
  {
   "cell_type": "markdown",
   "id": "618c23f5",
   "metadata": {},
   "source": [
    "Skip/Gaps in any range"
   ]
  },
  {
   "cell_type": "code",
   "execution_count": 59,
   "id": "f6e667af",
   "metadata": {},
   "outputs": [
    {
     "data": {
      "text/plain": [
       "[2, 4, 6, 8, 10, 12, 14, 16, 18]"
      ]
     },
     "execution_count": 59,
     "metadata": {},
     "output_type": "execute_result"
    }
   ],
   "source": [
    "list(range(2,20,2))"
   ]
  },
  {
   "cell_type": "code",
   "execution_count": 64,
   "id": "7bc0fe71",
   "metadata": {},
   "outputs": [
    {
     "name": "stdout",
     "output_type": "stream",
     "text": [
      "0 5 10 15 20 25 30 35 40 45 50 "
     ]
    }
   ],
   "source": [
    "for i in range(0,55,5):\n",
    "    print(i,end=\" \")"
   ]
  },
  {
   "cell_type": "code",
   "execution_count": 66,
   "id": "65695410",
   "metadata": {},
   "outputs": [
    {
     "name": "stdout",
     "output_type": "stream",
     "text": [
      "0 10 20 30 40 50 60 70 80 90 "
     ]
    }
   ],
   "source": [
    "for j in range(0,100,10):\n",
    "    print(j,end=\" \")"
   ]
  },
  {
   "cell_type": "code",
   "execution_count": 70,
   "id": "e0c7abc6",
   "metadata": {},
   "outputs": [
    {
     "name": "stdout",
     "output_type": "stream",
     "text": [
      "0\n",
      "9\n",
      "18\n",
      "27\n",
      "36\n",
      "45\n",
      "54\n",
      "63\n",
      "72\n",
      "81\n",
      "90\n",
      "99\n"
     ]
    }
   ],
   "source": [
    "for z in range(0,100,9):\n",
    "    print(z)"
   ]
  },
  {
   "cell_type": "code",
   "execution_count": 71,
   "id": "feab18e9",
   "metadata": {},
   "outputs": [
    {
     "name": "stdout",
     "output_type": "stream",
     "text": [
      "0 3 6 9 12 15 18 21 24 27 30 33 36 39 42 45 48 51 54 57 60 63 "
     ]
    }
   ],
   "source": [
    "b=list(range(0,66,3))\n",
    "for i in b:\n",
    "    print(i,end=\" \")"
   ]
  },
  {
   "cell_type": "code",
   "execution_count": null,
   "id": "1779e3fe",
   "metadata": {},
   "outputs": [],
   "source": []
  }
 ],
 "metadata": {
  "kernelspec": {
   "display_name": "Python 3 (ipykernel)",
   "language": "python",
   "name": "python3"
  },
  "language_info": {
   "codemirror_mode": {
    "name": "ipython",
    "version": 3
   },
   "file_extension": ".py",
   "mimetype": "text/x-python",
   "name": "python",
   "nbconvert_exporter": "python",
   "pygments_lexer": "ipython3",
   "version": "3.9.7"
  }
 },
 "nbformat": 4,
 "nbformat_minor": 5
}
