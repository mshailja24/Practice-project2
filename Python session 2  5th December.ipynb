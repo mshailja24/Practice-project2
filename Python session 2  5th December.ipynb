{
 "cells": [
  {
   "cell_type": "code",
   "execution_count": 3,
   "id": "0b71dd1e",
   "metadata": {},
   "outputs": [
    {
     "name": "stdout",
     "output_type": "stream",
     "text": [
      "area of rectangle = 100\n",
      "area of rectangle with length= 10 and breadth = 10 is 100\n"
     ]
    }
   ],
   "source": [
    "length=10\n",
    "breadth=10\n",
    "area=length*breadth\n",
    "print(\"area of rectangle =\",area)\n",
    "print(\"area of rectangle with length=\",length,\"and breadth =\",breadth,\"is\",area)\n"
   ]
  },
  {
   "cell_type": "code",
   "execution_count": 6,
   "id": "21d9f11b",
   "metadata": {},
   "outputs": [
    {
     "name": "stdout",
     "output_type": "stream",
     "text": [
      "perimeter of rectangle= 40\n",
      "Perimeter of rectangle with length 15 and breadth 5 is 40\n"
     ]
    }
   ],
   "source": [
    "length=15\n",
    "breadth=5\n",
    "peri=2*(length+breadth)\n",
    "print(\"perimeter of rectangle=\",peri)\n",
    "print(\"Perimeter of rectangle with length\",length,\"and breadth\",breadth,\"is\",peri)"
   ]
  },
  {
   "cell_type": "code",
   "execution_count": 7,
   "id": "19e7cdb2",
   "metadata": {},
   "outputs": [
    {
     "name": "stdout",
     "output_type": "stream",
     "text": [
      "Circumference of circle= 50.24\n",
      "Circumference of circle with radius 8 is 50.24\n"
     ]
    }
   ],
   "source": [
    "#Circumference of circle======2*pi*r\n",
    "\n",
    "radius=8\n",
    "circum=2*pi*radius\n",
    "print(\"Circumference of circle=\",circum)\n",
    "print(\"Circumference of circle with radius\",radius,\"is\",circum)"
   ]
  },
  {
   "cell_type": "code",
   "execution_count": 5,
   "id": "3157cf2e",
   "metadata": {},
   "outputs": [
    {
     "name": "stdout",
     "output_type": "stream",
     "text": [
      "Area of circle =  706.5\n",
      "Area of circle with 15 is 706.5\n"
     ]
    }
   ],
   "source": [
    "#Area of circle ====  pi*(radius**2)\n",
    "\n",
    "\n",
    "pi=3.14\n",
    "\n",
    "radius=5\n",
    "\n",
    "radius=15\n",
    "\n",
    "area_of_circle=pi*radius**2\n",
    "print(\"Area of circle = \" , area_of_circle)\n",
    "print(\"Area of circle with\",radius,\"is\",area_of_circle)\n"
   ]
  },
  {
   "cell_type": "code",
   "execution_count": 2,
   "id": "818baa4d",
   "metadata": {},
   "outputs": [
    {
     "name": "stdout",
     "output_type": "stream",
     "text": [
      "Enter the first number50\n"
     ]
    }
   ],
   "source": [
    "x=input(\"Enter the first number\")"
   ]
  },
  {
   "cell_type": "code",
   "execution_count": 3,
   "id": "7f0e3316",
   "metadata": {},
   "outputs": [
    {
     "data": {
      "text/plain": [
       "'50'"
      ]
     },
     "execution_count": 3,
     "metadata": {},
     "output_type": "execute_result"
    }
   ],
   "source": [
    "x"
   ]
  },
  {
   "cell_type": "code",
   "execution_count": 4,
   "id": "eb4fda4b",
   "metadata": {},
   "outputs": [
    {
     "data": {
      "text/plain": [
       "str"
      ]
     },
     "execution_count": 4,
     "metadata": {},
     "output_type": "execute_result"
    }
   ],
   "source": [
    "type(x)"
   ]
  },
  {
   "cell_type": "code",
   "execution_count": 5,
   "id": "ba6e176c",
   "metadata": {},
   "outputs": [
    {
     "name": "stdout",
     "output_type": "stream",
     "text": [
      "Enter second number10\n"
     ]
    }
   ],
   "source": [
    "y=input(\"Enter second number\")"
   ]
  },
  {
   "cell_type": "code",
   "execution_count": 6,
   "id": "045d2f84",
   "metadata": {},
   "outputs": [
    {
     "data": {
      "text/plain": [
       "'10'"
      ]
     },
     "execution_count": 6,
     "metadata": {},
     "output_type": "execute_result"
    }
   ],
   "source": [
    "y"
   ]
  },
  {
   "cell_type": "code",
   "execution_count": 8,
   "id": "9fb8fb23",
   "metadata": {},
   "outputs": [
    {
     "data": {
      "text/plain": [
       "str"
      ]
     },
     "execution_count": 8,
     "metadata": {},
     "output_type": "execute_result"
    }
   ],
   "source": [
    "type(y)"
   ]
  },
  {
   "cell_type": "code",
   "execution_count": 9,
   "id": "76b1892e",
   "metadata": {},
   "outputs": [
    {
     "data": {
      "text/plain": [
       "'5010'"
      ]
     },
     "execution_count": 9,
     "metadata": {},
     "output_type": "execute_result"
    }
   ],
   "source": [
    "x+y"
   ]
  },
  {
   "cell_type": "code",
   "execution_count": 10,
   "id": "118f6879",
   "metadata": {},
   "outputs": [
    {
     "name": "stdout",
     "output_type": "stream",
     "text": [
      "Enter the first number50\n"
     ]
    }
   ],
   "source": [
    "x=int(input(\"Enter the first number\"))"
   ]
  },
  {
   "cell_type": "code",
   "execution_count": 11,
   "id": "f6d841de",
   "metadata": {},
   "outputs": [
    {
     "data": {
      "text/plain": [
       "50"
      ]
     },
     "execution_count": 11,
     "metadata": {},
     "output_type": "execute_result"
    }
   ],
   "source": [
    "x"
   ]
  },
  {
   "cell_type": "code",
   "execution_count": 12,
   "id": "eebd8e78",
   "metadata": {},
   "outputs": [
    {
     "data": {
      "text/plain": [
       "int"
      ]
     },
     "execution_count": 12,
     "metadata": {},
     "output_type": "execute_result"
    }
   ],
   "source": [
    "type(x)"
   ]
  },
  {
   "cell_type": "code",
   "execution_count": 13,
   "id": "838d35b2",
   "metadata": {},
   "outputs": [
    {
     "name": "stdout",
     "output_type": "stream",
     "text": [
      "Enter second number10\n"
     ]
    }
   ],
   "source": [
    "y=int(input(\"Enter second number\"))"
   ]
  },
  {
   "cell_type": "code",
   "execution_count": 14,
   "id": "eb919492",
   "metadata": {},
   "outputs": [
    {
     "data": {
      "text/plain": [
       "10"
      ]
     },
     "execution_count": 14,
     "metadata": {},
     "output_type": "execute_result"
    }
   ],
   "source": [
    "y"
   ]
  },
  {
   "cell_type": "code",
   "execution_count": 15,
   "id": "23b83b89",
   "metadata": {},
   "outputs": [
    {
     "data": {
      "text/plain": [
       "int"
      ]
     },
     "execution_count": 15,
     "metadata": {},
     "output_type": "execute_result"
    }
   ],
   "source": [
    "type(y)"
   ]
  },
  {
   "cell_type": "code",
   "execution_count": 16,
   "id": "7f697de7",
   "metadata": {},
   "outputs": [
    {
     "data": {
      "text/plain": [
       "60"
      ]
     },
     "execution_count": 16,
     "metadata": {},
     "output_type": "execute_result"
    }
   ],
   "source": [
    "x+y"
   ]
  },
  {
   "cell_type": "code",
   "execution_count": 19,
   "id": "b758f666",
   "metadata": {},
   "outputs": [
    {
     "name": "stdout",
     "output_type": "stream",
     "text": [
      "Enter any number10\n"
     ]
    },
    {
     "data": {
      "text/plain": [
       "'10'"
      ]
     },
     "execution_count": 19,
     "metadata": {},
     "output_type": "execute_result"
    }
   ],
   "source": [
    "m=input(\"Enter any number\")\n",
    "m"
   ]
  },
  {
   "cell_type": "code",
   "execution_count": 20,
   "id": "1e7d6ace",
   "metadata": {},
   "outputs": [
    {
     "name": "stdout",
     "output_type": "stream",
     "text": [
      "Enter any number20\n"
     ]
    },
    {
     "data": {
      "text/plain": [
       "'20'"
      ]
     },
     "execution_count": 20,
     "metadata": {},
     "output_type": "execute_result"
    }
   ],
   "source": [
    "n=input(\"Enter any number\")\n",
    "n"
   ]
  },
  {
   "cell_type": "code",
   "execution_count": 21,
   "id": "93456a31",
   "metadata": {},
   "outputs": [
    {
     "data": {
      "text/plain": [
       "30"
      ]
     },
     "execution_count": 21,
     "metadata": {},
     "output_type": "execute_result"
    }
   ],
   "source": [
    "int(m)+int(n)"
   ]
  },
  {
   "cell_type": "markdown",
   "id": "63e15c22",
   "metadata": {},
   "source": [
    "BOOLEAN OPERATORS"
   ]
  },
  {
   "cell_type": "code",
   "execution_count": 22,
   "id": "2ece1c95",
   "metadata": {},
   "outputs": [
    {
     "data": {
      "text/plain": [
       "True"
      ]
     },
     "execution_count": 22,
     "metadata": {},
     "output_type": "execute_result"
    }
   ],
   "source": [
    "90>40"
   ]
  },
  {
   "cell_type": "code",
   "execution_count": 23,
   "id": "40c70751",
   "metadata": {},
   "outputs": [
    {
     "data": {
      "text/plain": [
       "False"
      ]
     },
     "execution_count": 23,
     "metadata": {},
     "output_type": "execute_result"
    }
   ],
   "source": [
    "85<8"
   ]
  },
  {
   "cell_type": "code",
   "execution_count": 26,
   "id": "e8d0238b",
   "metadata": {},
   "outputs": [
    {
     "data": {
      "text/plain": [
       "False"
      ]
     },
     "execution_count": 26,
     "metadata": {},
     "output_type": "execute_result"
    }
   ],
   "source": [
    "#COMPARE\n",
    "80==25"
   ]
  },
  {
   "cell_type": "code",
   "execution_count": 27,
   "id": "a89194e2",
   "metadata": {},
   "outputs": [
    {
     "data": {
      "text/plain": [
       "True"
      ]
     },
     "execution_count": 27,
     "metadata": {},
     "output_type": "execute_result"
    }
   ],
   "source": [
    "50==50"
   ]
  },
  {
   "cell_type": "code",
   "execution_count": 28,
   "id": "bd83feff",
   "metadata": {},
   "outputs": [
    {
     "data": {
      "text/plain": [
       "False"
      ]
     },
     "execution_count": 28,
     "metadata": {},
     "output_type": "execute_result"
    }
   ],
   "source": [
    "30==90"
   ]
  },
  {
   "cell_type": "code",
   "execution_count": 29,
   "id": "8a6eae77",
   "metadata": {},
   "outputs": [
    {
     "data": {
      "text/plain": [
       "True"
      ]
     },
     "execution_count": 29,
     "metadata": {},
     "output_type": "execute_result"
    }
   ],
   "source": [
    "#NOT EQUALS TO OPERATOR\n",
    "90!=50"
   ]
  },
  {
   "cell_type": "code",
   "execution_count": 30,
   "id": "820e0d2e",
   "metadata": {},
   "outputs": [
    {
     "data": {
      "text/plain": [
       "False"
      ]
     },
     "execution_count": 30,
     "metadata": {},
     "output_type": "execute_result"
    }
   ],
   "source": [
    "90!=90"
   ]
  },
  {
   "cell_type": "code",
   "execution_count": 32,
   "id": "03262b68",
   "metadata": {},
   "outputs": [
    {
     "data": {
      "text/plain": [
       "True"
      ]
     },
     "execution_count": 32,
     "metadata": {},
     "output_type": "execute_result"
    }
   ],
   "source": [
    "j=44\n",
    "k=44\n",
    "\n",
    "j==k"
   ]
  },
  {
   "cell_type": "markdown",
   "id": "00d29ac7",
   "metadata": {},
   "source": [
    "STRING CONCATENATION"
   ]
  },
  {
   "cell_type": "code",
   "execution_count": 37,
   "id": "8e26c09b",
   "metadata": {},
   "outputs": [
    {
     "data": {
      "text/plain": [
       "'DATASCIENCE'"
      ]
     },
     "execution_count": 37,
     "metadata": {},
     "output_type": "execute_result"
    }
   ],
   "source": [
    "\"DATA\"+\"SCIENCE\""
   ]
  },
  {
   "cell_type": "code",
   "execution_count": 38,
   "id": "0277b2a7",
   "metadata": {},
   "outputs": [
    {
     "data": {
      "text/plain": [
       "'MACHINELEARNING'"
      ]
     },
     "execution_count": 38,
     "metadata": {},
     "output_type": "execute_result"
    }
   ],
   "source": [
    "\"MACHINE\"+\"LEARNING\""
   ]
  },
  {
   "cell_type": "code",
   "execution_count": 39,
   "id": "a3ab2556",
   "metadata": {},
   "outputs": [
    {
     "data": {
      "text/plain": [
       "'4557'"
      ]
     },
     "execution_count": 39,
     "metadata": {},
     "output_type": "execute_result"
    }
   ],
   "source": [
    "'45'+'57'"
   ]
  },
  {
   "cell_type": "code",
   "execution_count": 40,
   "id": "df00380d",
   "metadata": {},
   "outputs": [
    {
     "data": {
      "text/plain": [
       "'4557'"
      ]
     },
     "execution_count": 40,
     "metadata": {},
     "output_type": "execute_result"
    }
   ],
   "source": [
    "\"45\"+\"57\""
   ]
  },
  {
   "cell_type": "code",
   "execution_count": 44,
   "id": "f90b99d8",
   "metadata": {},
   "outputs": [
    {
     "data": {
      "text/plain": [
       "'ELON  MUSK CEO TESLA AI CAR'"
      ]
     },
     "execution_count": 44,
     "metadata": {},
     "output_type": "execute_result"
    }
   ],
   "source": [
    "\"ELON \"+\" MUSK\"+\" CEO\"+\" TESLA\"+\" AI\"+\" CAR\""
   ]
  },
  {
   "cell_type": "code",
   "execution_count": 45,
   "id": "3c18b5a1",
   "metadata": {},
   "outputs": [
    {
     "data": {
      "text/plain": [
       "True"
      ]
     },
     "execution_count": 45,
     "metadata": {},
     "output_type": "execute_result"
    }
   ],
   "source": [
    "\"INDIA\"==\"INDIA\""
   ]
  },
  {
   "cell_type": "markdown",
   "id": "5affdc02",
   "metadata": {},
   "source": [
    "# DATA STRUCTURES"
   ]
  },
  {
   "cell_type": "markdown",
   "id": "e1aedc66",
   "metadata": {},
   "source": [
    "LIST"
   ]
  },
  {
   "cell_type": "code",
   "execution_count": 46,
   "id": "bc32d03d",
   "metadata": {},
   "outputs": [],
   "source": [
    "list1=[1,2,3,4]"
   ]
  },
  {
   "cell_type": "code",
   "execution_count": 47,
   "id": "7a7652d3",
   "metadata": {},
   "outputs": [
    {
     "data": {
      "text/plain": [
       "[1, 2, 3, 4]"
      ]
     },
     "execution_count": 47,
     "metadata": {},
     "output_type": "execute_result"
    }
   ],
   "source": [
    "list1"
   ]
  },
  {
   "cell_type": "code",
   "execution_count": 48,
   "id": "cc86d462",
   "metadata": {},
   "outputs": [],
   "source": [
    "list2=[11,22,55,48,65,77]"
   ]
  },
  {
   "cell_type": "code",
   "execution_count": 49,
   "id": "a2bf06e7",
   "metadata": {},
   "outputs": [
    {
     "data": {
      "text/plain": [
       "[11, 22, 55, 48, 65, 77]"
      ]
     },
     "execution_count": 49,
     "metadata": {},
     "output_type": "execute_result"
    }
   ],
   "source": [
    "list2"
   ]
  },
  {
   "cell_type": "code",
   "execution_count": 51,
   "id": "49b2eac1",
   "metadata": {},
   "outputs": [],
   "source": [
    "list3=[11.5,58.5,56.58,98.25]"
   ]
  },
  {
   "cell_type": "code",
   "execution_count": 52,
   "id": "632ef4a4",
   "metadata": {},
   "outputs": [
    {
     "data": {
      "text/plain": [
       "[11.5, 58.5, 56.58, 98.25]"
      ]
     },
     "execution_count": 52,
     "metadata": {},
     "output_type": "execute_result"
    }
   ],
   "source": [
    "list3"
   ]
  },
  {
   "cell_type": "markdown",
   "id": "08cd5909",
   "metadata": {},
   "source": [
    "Indexing"
   ]
  },
  {
   "cell_type": "code",
   "execution_count": 65,
   "id": "2696ec6b",
   "metadata": {},
   "outputs": [
    {
     "data": {
      "text/plain": [
       "98.25"
      ]
     },
     "execution_count": 65,
     "metadata": {},
     "output_type": "execute_result"
    }
   ],
   "source": [
    "list3[3]"
   ]
  },
  {
   "cell_type": "code",
   "execution_count": 67,
   "id": "2a544541",
   "metadata": {},
   "outputs": [
    {
     "data": {
      "text/plain": [
       "11.5"
      ]
     },
     "execution_count": 67,
     "metadata": {},
     "output_type": "execute_result"
    }
   ],
   "source": [
    "list3[0]"
   ]
  },
  {
   "cell_type": "code",
   "execution_count": 53,
   "id": "01932f6c",
   "metadata": {},
   "outputs": [],
   "source": [
    "list4=[\"A\",\"B\",\"c\",\"D\"]"
   ]
  },
  {
   "cell_type": "code",
   "execution_count": 54,
   "id": "3bad67df",
   "metadata": {},
   "outputs": [
    {
     "data": {
      "text/plain": [
       "['A', 'B', 'c', 'D']"
      ]
     },
     "execution_count": 54,
     "metadata": {},
     "output_type": "execute_result"
    }
   ],
   "source": [
    "list4"
   ]
  },
  {
   "cell_type": "code",
   "execution_count": 68,
   "id": "9ef3d230",
   "metadata": {},
   "outputs": [
    {
     "data": {
      "text/plain": [
       "'c'"
      ]
     },
     "execution_count": 68,
     "metadata": {},
     "output_type": "execute_result"
    }
   ],
   "source": [
    "list4[2]"
   ]
  },
  {
   "cell_type": "code",
   "execution_count": 69,
   "id": "3a9152f1",
   "metadata": {},
   "outputs": [
    {
     "data": {
      "text/plain": [
       "'D'"
      ]
     },
     "execution_count": 69,
     "metadata": {},
     "output_type": "execute_result"
    }
   ],
   "source": [
    "list4[3]"
   ]
  },
  {
   "cell_type": "code",
   "execution_count": 55,
   "id": "73c3d408",
   "metadata": {},
   "outputs": [],
   "source": [
    "mixedlist=[11,25,\"Run\",25.56,\"True\"]"
   ]
  },
  {
   "cell_type": "code",
   "execution_count": 56,
   "id": "ed8e1dde",
   "metadata": {},
   "outputs": [
    {
     "data": {
      "text/plain": [
       "[11, 25, 'Run', 25.56, 'True']"
      ]
     },
     "execution_count": 56,
     "metadata": {},
     "output_type": "execute_result"
    }
   ],
   "source": [
    "mixedlist"
   ]
  },
  {
   "cell_type": "code",
   "execution_count": 57,
   "id": "9985daec",
   "metadata": {},
   "outputs": [],
   "source": [
    "planetlist=[\"EARTH\",\"JUPITER\",\"MARS\",\"URANUS\",\"MERCURY\",\"SATURN\",\"NEPTUNE\",\"PLUTO\"]"
   ]
  },
  {
   "cell_type": "code",
   "execution_count": 58,
   "id": "30f0da6c",
   "metadata": {},
   "outputs": [
    {
     "data": {
      "text/plain": [
       "['EARTH', 'JUPITER', 'MARS', 'URANUS', 'MERCURY', 'SATURN', 'NEPTUNE', 'PLUTO']"
      ]
     },
     "execution_count": 58,
     "metadata": {},
     "output_type": "execute_result"
    }
   ],
   "source": [
    "planetlist"
   ]
  },
  {
   "cell_type": "code",
   "execution_count": 59,
   "id": "88ef038b",
   "metadata": {},
   "outputs": [
    {
     "data": {
      "text/plain": [
       "'EARTH'"
      ]
     },
     "execution_count": 59,
     "metadata": {},
     "output_type": "execute_result"
    }
   ],
   "source": [
    "planetlist[0]"
   ]
  },
  {
   "cell_type": "code",
   "execution_count": 60,
   "id": "d631b1ab",
   "metadata": {},
   "outputs": [
    {
     "data": {
      "text/plain": [
       "'SATURN'"
      ]
     },
     "execution_count": 60,
     "metadata": {},
     "output_type": "execute_result"
    }
   ],
   "source": [
    "planetlist[5]"
   ]
  },
  {
   "cell_type": "code",
   "execution_count": 63,
   "id": "a83950c7",
   "metadata": {},
   "outputs": [
    {
     "data": {
      "text/plain": [
       "'PLUTO'"
      ]
     },
     "execution_count": 63,
     "metadata": {},
     "output_type": "execute_result"
    }
   ],
   "source": [
    "planetlist[7]"
   ]
  },
  {
   "cell_type": "markdown",
   "id": "6d919c49",
   "metadata": {},
   "source": [
    "Slicing"
   ]
  },
  {
   "cell_type": "code",
   "execution_count": null,
   "id": "5efd8faa",
   "metadata": {},
   "outputs": [],
   "source": [
    "planetlist=[\"EARTH\",\"JUPITER\",\"MARS\",\"URANUS\",\"MERCURY\",\"SATURN\",\"NEPTUNE\",\"PLUTO\"]"
   ]
  },
  {
   "cell_type": "code",
   "execution_count": 70,
   "id": "318d335e",
   "metadata": {},
   "outputs": [
    {
     "data": {
      "text/plain": [
       "['EARTH']"
      ]
     },
     "execution_count": 70,
     "metadata": {},
     "output_type": "execute_result"
    }
   ],
   "source": [
    "planetlist[0:1]"
   ]
  },
  {
   "cell_type": "code",
   "execution_count": 71,
   "id": "22967836",
   "metadata": {},
   "outputs": [
    {
     "data": {
      "text/plain": [
       "['EARTH', 'JUPITER', 'MARS', 'URANUS', 'MERCURY', 'SATURN']"
      ]
     },
     "execution_count": 71,
     "metadata": {},
     "output_type": "execute_result"
    }
   ],
   "source": [
    "planetlist[0:6]"
   ]
  },
  {
   "cell_type": "code",
   "execution_count": 72,
   "id": "79f6fb97",
   "metadata": {},
   "outputs": [
    {
     "data": {
      "text/plain": [
       "['SATURN']"
      ]
     },
     "execution_count": 72,
     "metadata": {},
     "output_type": "execute_result"
    }
   ],
   "source": [
    "planetlist[5:6]"
   ]
  },
  {
   "cell_type": "code",
   "execution_count": 73,
   "id": "1af1ce08",
   "metadata": {},
   "outputs": [
    {
     "data": {
      "text/plain": [
       "['EARTH', 'JUPITER', 'MARS', 'URANUS', 'MERCURY', 'SATURN', 'NEPTUNE', 'PLUTO']"
      ]
     },
     "execution_count": 73,
     "metadata": {},
     "output_type": "execute_result"
    }
   ],
   "source": [
    "planetlist[0:8]"
   ]
  },
  {
   "cell_type": "code",
   "execution_count": 74,
   "id": "6ce73a12",
   "metadata": {},
   "outputs": [
    {
     "data": {
      "text/plain": [
       "['EARTH', 'JUPITER', 'MARS', 'URANUS', 'MERCURY', 'SATURN', 'NEPTUNE', 'PLUTO']"
      ]
     },
     "execution_count": 74,
     "metadata": {},
     "output_type": "execute_result"
    }
   ],
   "source": [
    "planetlist[:]"
   ]
  },
  {
   "cell_type": "code",
   "execution_count": 75,
   "id": "2d5e2870",
   "metadata": {},
   "outputs": [
    {
     "data": {
      "text/plain": [
       "['EARTH', 'JUPITER', 'MARS', 'URANUS', 'MERCURY', 'SATURN', 'NEPTUNE']"
      ]
     },
     "execution_count": 75,
     "metadata": {},
     "output_type": "execute_result"
    }
   ],
   "source": [
    "planetlist[:7]"
   ]
  },
  {
   "cell_type": "code",
   "execution_count": 76,
   "id": "4374436c",
   "metadata": {},
   "outputs": [
    {
     "data": {
      "text/plain": [
       "['EARTH', 'JUPITER', 'MARS', 'URANUS', 'MERCURY', 'SATURN', 'NEPTUNE', 'PLUTO']"
      ]
     },
     "execution_count": 76,
     "metadata": {},
     "output_type": "execute_result"
    }
   ],
   "source": [
    "planetlist[0:]"
   ]
  },
  {
   "cell_type": "code",
   "execution_count": 77,
   "id": "afc70a11",
   "metadata": {},
   "outputs": [
    {
     "data": {
      "text/plain": [
       "['MARS', 'URANUS', 'MERCURY', 'SATURN', 'NEPTUNE']"
      ]
     },
     "execution_count": 77,
     "metadata": {},
     "output_type": "execute_result"
    }
   ],
   "source": [
    "planetlist[2:7]"
   ]
  },
  {
   "cell_type": "code",
   "execution_count": 78,
   "id": "d6df3d97",
   "metadata": {},
   "outputs": [
    {
     "data": {
      "text/plain": [
       "['URANUS', 'MERCURY', 'SATURN', 'NEPTUNE']"
      ]
     },
     "execution_count": 78,
     "metadata": {},
     "output_type": "execute_result"
    }
   ],
   "source": [
    "planetlist[3:7]"
   ]
  },
  {
   "cell_type": "markdown",
   "id": "12493778",
   "metadata": {},
   "source": [
    "NEGATIVE INDEXING"
   ]
  },
  {
   "cell_type": "code",
   "execution_count": 84,
   "id": "b2d37fa1",
   "metadata": {},
   "outputs": [
    {
     "data": {
      "text/plain": [
       "['EARTH', 'JUPITER', 'MARS', 'URANUS', 'MERCURY', 'SATURN', 'NEPTUNE', 'PLUTO']"
      ]
     },
     "execution_count": 84,
     "metadata": {},
     "output_type": "execute_result"
    }
   ],
   "source": [
    "planetlist=[\"EARTH\",\"JUPITER\",\"MARS\",\"URANUS\",\"MERCURY\",\"SATURN\",\"NEPTUNE\",\"PLUTO\"]\n",
    "planetlist"
   ]
  },
  {
   "cell_type": "code",
   "execution_count": 79,
   "id": "b7f63bf4",
   "metadata": {},
   "outputs": [
    {
     "data": {
      "text/plain": [
       "'PLUTO'"
      ]
     },
     "execution_count": 79,
     "metadata": {},
     "output_type": "execute_result"
    }
   ],
   "source": [
    "planetlist[-1]"
   ]
  },
  {
   "cell_type": "code",
   "execution_count": 80,
   "id": "64e307d0",
   "metadata": {},
   "outputs": [
    {
     "data": {
      "text/plain": [
       "'URANUS'"
      ]
     },
     "execution_count": 80,
     "metadata": {},
     "output_type": "execute_result"
    }
   ],
   "source": [
    "planetlist[-5]"
   ]
  },
  {
   "cell_type": "markdown",
   "id": "4cb5b7fb",
   "metadata": {},
   "source": [
    "NEGATIVE SLICING"
   ]
  },
  {
   "cell_type": "code",
   "execution_count": 85,
   "id": "cfd8d6db",
   "metadata": {},
   "outputs": [
    {
     "data": {
      "text/plain": [
       "['EARTH', 'JUPITER', 'MARS', 'URANUS', 'MERCURY', 'SATURN', 'NEPTUNE', 'PLUTO']"
      ]
     },
     "execution_count": 85,
     "metadata": {},
     "output_type": "execute_result"
    }
   ],
   "source": [
    "planetlist=[\"EARTH\",\"JUPITER\",\"MARS\",\"URANUS\",\"MERCURY\",\"SATURN\",\"NEPTUNE\",\"PLUTO\"]\n",
    "planetlist"
   ]
  },
  {
   "cell_type": "code",
   "execution_count": 81,
   "id": "cd54d923",
   "metadata": {},
   "outputs": [
    {
     "data": {
      "text/plain": [
       "['NEPTUNE']"
      ]
     },
     "execution_count": 81,
     "metadata": {},
     "output_type": "execute_result"
    }
   ],
   "source": [
    "planetlist[-2:-1]"
   ]
  },
  {
   "cell_type": "code",
   "execution_count": 86,
   "id": "f7783a0a",
   "metadata": {},
   "outputs": [
    {
     "data": {
      "text/plain": [
       "['EARTH', 'JUPITER', 'MARS', 'URANUS', 'MERCURY', 'SATURN', 'NEPTUNE']"
      ]
     },
     "execution_count": 86,
     "metadata": {},
     "output_type": "execute_result"
    }
   ],
   "source": [
    "planetlist[-8:-1]"
   ]
  },
  {
   "cell_type": "code",
   "execution_count": 87,
   "id": "f0ef2588",
   "metadata": {},
   "outputs": [
    {
     "data": {
      "text/plain": [
       "['SATURN', 'NEPTUNE']"
      ]
     },
     "execution_count": 87,
     "metadata": {},
     "output_type": "execute_result"
    }
   ],
   "source": [
    "planetlist[-3:-1]"
   ]
  },
  {
   "cell_type": "code",
   "execution_count": 88,
   "id": "81cafa48",
   "metadata": {},
   "outputs": [
    {
     "data": {
      "text/plain": [
       "['URANUS', 'MERCURY', 'SATURN', 'NEPTUNE']"
      ]
     },
     "execution_count": 88,
     "metadata": {},
     "output_type": "execute_result"
    }
   ],
   "source": [
    "planetlist[-5:-1]"
   ]
  },
  {
   "cell_type": "code",
   "execution_count": 89,
   "id": "383f6ef5",
   "metadata": {},
   "outputs": [
    {
     "data": {
      "text/plain": [
       "['EARTH', 'JUPITER', 'MARS', 'URANUS', 'MERCURY', 'SATURN', 'NEPTUNE']"
      ]
     },
     "execution_count": 89,
     "metadata": {},
     "output_type": "execute_result"
    }
   ],
   "source": [
    "planetlist[:-1]"
   ]
  },
  {
   "cell_type": "code",
   "execution_count": 90,
   "id": "4b7f65f5",
   "metadata": {},
   "outputs": [
    {
     "data": {
      "text/plain": [
       "['EARTH', 'JUPITER', 'MARS', 'URANUS', 'MERCURY', 'SATURN', 'NEPTUNE', 'PLUTO']"
      ]
     },
     "execution_count": 90,
     "metadata": {},
     "output_type": "execute_result"
    }
   ],
   "source": [
    "planetlist[:]"
   ]
  },
  {
   "cell_type": "code",
   "execution_count": 92,
   "id": "e20a245a",
   "metadata": {},
   "outputs": [
    {
     "data": {
      "text/plain": [
       "['URANUS', 'MERCURY', 'SATURN', 'NEPTUNE', 'PLUTO']"
      ]
     },
     "execution_count": 92,
     "metadata": {},
     "output_type": "execute_result"
    }
   ],
   "source": [
    "planetlist[-5:]"
   ]
  },
  {
   "cell_type": "code",
   "execution_count": 93,
   "id": "ca016ea1",
   "metadata": {},
   "outputs": [
    {
     "data": {
      "text/plain": [
       "['EARTH', 'JUPITER', 'MARS', 'URANUS', 'MERCURY', 'SATURN', 'NEPTUNE', 'PLUTO']"
      ]
     },
     "execution_count": 93,
     "metadata": {},
     "output_type": "execute_result"
    }
   ],
   "source": [
    "planetlist[-8:]"
   ]
  },
  {
   "cell_type": "code",
   "execution_count": null,
   "id": "a2835c6a",
   "metadata": {},
   "outputs": [],
   "source": []
  }
 ],
 "metadata": {
  "kernelspec": {
   "display_name": "Python 3 (ipykernel)",
   "language": "python",
   "name": "python3"
  },
  "language_info": {
   "codemirror_mode": {
    "name": "ipython",
    "version": 3
   },
   "file_extension": ".py",
   "mimetype": "text/x-python",
   "name": "python",
   "nbconvert_exporter": "python",
   "pygments_lexer": "ipython3",
   "version": "3.9.7"
  }
 },
 "nbformat": 4,
 "nbformat_minor": 5
}
