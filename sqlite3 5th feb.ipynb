{
 "cells": [
  {
   "cell_type": "code",
   "execution_count": 1,
   "id": "2cfc784d",
   "metadata": {},
   "outputs": [],
   "source": [
    "import sqlite3"
   ]
  },
  {
   "cell_type": "code",
   "execution_count": 2,
   "id": "d43845d3",
   "metadata": {},
   "outputs": [],
   "source": [
    "db=sqlite3.connect(\"c:/MySQlite_Databse/student_course_databse.db\")"
   ]
  },
  {
   "cell_type": "code",
   "execution_count": 3,
   "id": "5cba9d98",
   "metadata": {},
   "outputs": [],
   "source": [
    "cur=db.cursor()"
   ]
  },
  {
   "cell_type": "markdown",
   "id": "d7bdd114",
   "metadata": {},
   "source": [
    "constarints----\n",
    "unique and not null"
   ]
  },
  {
   "cell_type": "code",
   "execution_count": 4,
   "id": "efb775ef",
   "metadata": {},
   "outputs": [
    {
     "data": {
      "text/plain": [
       "<sqlite3.Cursor at 0x15f58723b90>"
      ]
     },
     "execution_count": 4,
     "metadata": {},
     "output_type": "execute_result"
    }
   ],
   "source": [
    "cur.execute(\"create table course(courseid int primary key, coursename text,duration int)\")"
   ]
  },
  {
   "cell_type": "code",
   "execution_count": 5,
   "id": "a402e9de",
   "metadata": {},
   "outputs": [
    {
     "data": {
      "text/plain": [
       "<sqlite3.Cursor at 0x15f58723b90>"
      ]
     },
     "execution_count": 5,
     "metadata": {},
     "output_type": "execute_result"
    }
   ],
   "source": [
    "cur.execute(\"create table student(roll_no int primary key,studentname text,age int,courseid int,foreign key(courseid)references course(courseid))\")"
   ]
  },
  {
   "cell_type": "code",
   "execution_count": 6,
   "id": "23478189",
   "metadata": {},
   "outputs": [
    {
     "name": "stdout",
     "output_type": "stream",
     "text": [
      "3 record(s) inserted\n"
     ]
    }
   ],
   "source": [
    "cur.execute(\"insert into course values(78,'data science',12),(56,'python',4),(101,'databse',7)\")\n",
    "print(cur.rowcount,\"record(s) inserted\")\n",
    "db.commit;"
   ]
  },
  {
   "cell_type": "code",
   "execution_count": 7,
   "id": "47e06485",
   "metadata": {},
   "outputs": [
    {
     "name": "stdout",
     "output_type": "stream",
     "text": [
      "4 record(s) inserted\n"
     ]
    }
   ],
   "source": [
    "cur.execute(\"insert into student values(1,'jack',22,78),(2,'john',21,56),(3,'ram',18,78),(4,'shreya',21,56)\")\n",
    "print(cur.rowcount,\"record(s) inserted\")\n",
    "db.commit;"
   ]
  },
  {
   "cell_type": "code",
   "execution_count": 8,
   "id": "04713e78",
   "metadata": {},
   "outputs": [
    {
     "data": {
      "text/plain": [
       "[(78, 'data science', 12), (56, 'python', 4), (101, 'databse', 7)]"
      ]
     },
     "execution_count": 8,
     "metadata": {},
     "output_type": "execute_result"
    }
   ],
   "source": [
    "results=cur.execute('select * from course')\n",
    "results.fetchall()"
   ]
  },
  {
   "cell_type": "code",
   "execution_count": 9,
   "id": "aa91dd32",
   "metadata": {},
   "outputs": [
    {
     "data": {
      "text/plain": [
       "[(1, 'jack', 22, 78),\n",
       " (2, 'john', 21, 56),\n",
       " (3, 'ram', 18, 78),\n",
       " (4, 'shreya', 21, 56)]"
      ]
     },
     "execution_count": 9,
     "metadata": {},
     "output_type": "execute_result"
    }
   ],
   "source": [
    "results=cur.execute('select * from student')\n",
    "results.fetchall()"
   ]
  },
  {
   "cell_type": "code",
   "execution_count": 10,
   "id": "989ea4a8",
   "metadata": {},
   "outputs": [
    {
     "name": "stdout",
     "output_type": "stream",
     "text": [
      "(78,)\n"
     ]
    }
   ],
   "source": [
    "results=cur.execute('select courseid from course where coursename =\"data science\"')\n",
    "for i in results:\n",
    "    print(i)"
   ]
  },
  {
   "cell_type": "markdown",
   "id": "334828c1",
   "metadata": {},
   "source": [
    "# Subquery"
   ]
  },
  {
   "cell_type": "code",
   "execution_count": 11,
   "id": "469fbec0",
   "metadata": {},
   "outputs": [
    {
     "data": {
      "text/plain": [
       "[(1, 'jack', 22, 78), (3, 'ram', 18, 78)]"
      ]
     },
     "execution_count": 11,
     "metadata": {},
     "output_type": "execute_result"
    }
   ],
   "source": [
    "results=cur.execute('select * from student where courseid=(select courseid from course where coursename =\"data science\")')\n",
    "results.fetchall()"
   ]
  },
  {
   "cell_type": "code",
   "execution_count": 12,
   "id": "23444d08",
   "metadata": {},
   "outputs": [
    {
     "data": {
      "text/plain": [
       "[(2, 'john', 21, 56), (4, 'shreya', 21, 56)]"
      ]
     },
     "execution_count": 12,
     "metadata": {},
     "output_type": "execute_result"
    }
   ],
   "source": [
    "results=cur.execute('select * from student where courseid=(select courseid from course where coursename =\"python\")')\n",
    "results.fetchall()"
   ]
  },
  {
   "cell_type": "code",
   "execution_count": 13,
   "id": "52f59e2f",
   "metadata": {
    "scrolled": true
   },
   "outputs": [],
   "source": [
    "import sqlite3"
   ]
  },
  {
   "cell_type": "code",
   "execution_count": 14,
   "id": "f97eb586",
   "metadata": {},
   "outputs": [],
   "source": [
    "con=sqlite3.connect(\"c:/MySQlite_Databse/emp_databse.db\")"
   ]
  },
  {
   "cell_type": "code",
   "execution_count": 15,
   "id": "46b0b031",
   "metadata": {},
   "outputs": [],
   "source": [
    "def sql_table(con):\n",
    "    cur=con.cursor()\n",
    "    cur.execute(\"create table employee(id integer primary key,name text,salary real,department text,position text,hiredate date)\")\n",
    "    con.commit()"
   ]
  },
  {
   "cell_type": "code",
   "execution_count": 16,
   "id": "e84a338b",
   "metadata": {},
   "outputs": [],
   "source": [
    "#calling user defined function\n",
    "sql_table(con)"
   ]
  },
  {
   "cell_type": "code",
   "execution_count": 17,
   "id": "fa2f7ce4",
   "metadata": {},
   "outputs": [
    {
     "data": {
      "text/plain": [
       "<sqlite3.Cursor at 0x15f5882fce0>"
      ]
     },
     "execution_count": 17,
     "metadata": {},
     "output_type": "execute_result"
    }
   ],
   "source": [
    "cur=con.cursor()\n",
    "cur.execute(\"insert into employee values(1,'jack',9000,'HR','Manager','2019-07-09')\")"
   ]
  },
  {
   "cell_type": "code",
   "execution_count": 18,
   "id": "792b3644",
   "metadata": {},
   "outputs": [],
   "source": [
    "con.commit;"
   ]
  },
  {
   "cell_type": "code",
   "execution_count": 19,
   "id": "18308d0a",
   "metadata": {},
   "outputs": [
    {
     "data": {
      "text/plain": [
       "[(1, 'jack', 9000.0, 'HR', 'Manager', '2019-07-09')]"
      ]
     },
     "execution_count": 19,
     "metadata": {},
     "output_type": "execute_result"
    }
   ],
   "source": [
    "results=cur.execute(\"select * from employee\")\n",
    "results.fetchall()"
   ]
  },
  {
   "cell_type": "raw",
   "id": "96d15dd6",
   "metadata": {},
   "source": [
    "Syntax for insert statement"
   ]
  },
  {
   "cell_type": "raw",
   "id": "0f8db919",
   "metadata": {},
   "source": [
    "cur.execute('''insert into employee(id,name,salary,department,position,hiredate) values(?,?,?,?,?,?) ''',entities)\n",
    "entities=(2,'john',4000,'IT','Engineer','2015-04-06')"
   ]
  },
  {
   "cell_type": "code",
   "execution_count": 20,
   "id": "ce9a2e9a",
   "metadata": {},
   "outputs": [],
   "source": [
    "def sql_insert(con,entities):\n",
    "    cur=con.cursor()\n",
    "    cur.execute('insert into employee(id,name,salary,department,position,hiredate) values(?,?,?,?,?,?)',entities)\n",
    "entities=(2,'john',4000,'IT','Engineer','2015-04-06')"
   ]
  },
  {
   "cell_type": "code",
   "execution_count": 21,
   "id": "19d76883",
   "metadata": {},
   "outputs": [],
   "source": [
    "#calling sql insert to insert data\n",
    "sql_insert(con,entities)"
   ]
  },
  {
   "cell_type": "code",
   "execution_count": 22,
   "id": "ae302f11",
   "metadata": {},
   "outputs": [],
   "source": [
    "entities=(3,'Thomas',6000,'HR','Manager','2016-06-14',)"
   ]
  },
  {
   "cell_type": "code",
   "execution_count": 23,
   "id": "c8f23809",
   "metadata": {},
   "outputs": [],
   "source": [
    "sql_insert(con,entities)"
   ]
  },
  {
   "cell_type": "code",
   "execution_count": 24,
   "id": "786bab86",
   "metadata": {},
   "outputs": [
    {
     "data": {
      "text/plain": [
       "[(1, 'jack', 9000.0, 'HR', 'Manager', '2019-07-09'),\n",
       " (2, 'john', 4000.0, 'IT', 'Engineer', '2015-04-06'),\n",
       " (3, 'Thomas', 6000.0, 'HR', 'Manager', '2016-06-14')]"
      ]
     },
     "execution_count": 24,
     "metadata": {},
     "output_type": "execute_result"
    }
   ],
   "source": [
    "results=cur.execute(\"select * from employee\")\n",
    "results.fetchall()"
   ]
  },
  {
   "cell_type": "code",
   "execution_count": 25,
   "id": "3605628c",
   "metadata": {},
   "outputs": [],
   "source": [
    "entities=(4,'Rudolf','8000','IT','Engineer','2012-08-23')\n",
    "\n",
    "sql_insert(con,entities)\n",
    "\n",
    "entities=(5,'Sia','7800','Finance','Accountant','2014-05-29')\n",
    "\n",
    "sql_insert(con,entities)\n"
   ]
  },
  {
   "cell_type": "code",
   "execution_count": 26,
   "id": "bbcab4d9",
   "metadata": {},
   "outputs": [
    {
     "data": {
      "text/plain": [
       "[(1, 'jack', 9000.0, 'HR', 'Manager', '2019-07-09'),\n",
       " (2, 'john', 4000.0, 'IT', 'Engineer', '2015-04-06'),\n",
       " (3, 'Thomas', 6000.0, 'HR', 'Manager', '2016-06-14'),\n",
       " (4, 'Rudolf', 8000.0, 'IT', 'Engineer', '2012-08-23'),\n",
       " (5, 'Sia', 7800.0, 'Finance', 'Accountant', '2014-05-29')]"
      ]
     },
     "execution_count": 26,
     "metadata": {},
     "output_type": "execute_result"
    }
   ],
   "source": [
    "results=cur.execute(\"select * from employee\")\n",
    "results.fetchall()"
   ]
  },
  {
   "cell_type": "code",
   "execution_count": 27,
   "id": "6527ed85",
   "metadata": {},
   "outputs": [],
   "source": [
    "def sql_update(con):\n",
    "    cur=con.cursor()\n",
    "    cur.execute('update employee set name=\"Martin\" where id=1')\n",
    "    con.commit()\n",
    "    \n",
    "    "
   ]
  },
  {
   "cell_type": "code",
   "execution_count": 28,
   "id": "578155fb",
   "metadata": {},
   "outputs": [],
   "source": [
    "sql_update(con)"
   ]
  },
  {
   "cell_type": "code",
   "execution_count": 29,
   "id": "e96e077d",
   "metadata": {},
   "outputs": [
    {
     "data": {
      "text/plain": [
       "[(1, 'Martin', 9000.0, 'HR', 'Manager', '2019-07-09'),\n",
       " (2, 'john', 4000.0, 'IT', 'Engineer', '2015-04-06'),\n",
       " (3, 'Thomas', 6000.0, 'HR', 'Manager', '2016-06-14'),\n",
       " (4, 'Rudolf', 8000.0, 'IT', 'Engineer', '2012-08-23'),\n",
       " (5, 'Sia', 7800.0, 'Finance', 'Accountant', '2014-05-29')]"
      ]
     },
     "execution_count": 29,
     "metadata": {},
     "output_type": "execute_result"
    }
   ],
   "source": [
    "results=cur.execute('select * from employee' )\n",
    "results.fetchall()"
   ]
  },
  {
   "cell_type": "code",
   "execution_count": 30,
   "id": "18bca48d",
   "metadata": {},
   "outputs": [
    {
     "data": {
      "text/plain": [
       "[(1, 'Martin'), (3, 'Thomas'), (4, 'Rudolf'), (5, 'Sia')]"
      ]
     },
     "execution_count": 30,
     "metadata": {},
     "output_type": "execute_result"
    }
   ],
   "source": [
    "results=cur.execute(\"select id,name from employee where salary>4000 \")\n",
    "results.fetchall()"
   ]
  },
  {
   "cell_type": "code",
   "execution_count": 31,
   "id": "5b4e3dc3",
   "metadata": {},
   "outputs": [
    {
     "data": {
      "text/plain": [
       "[(1, 'Martin'), (3, 'Thomas')]"
      ]
     },
     "execution_count": 31,
     "metadata": {},
     "output_type": "execute_result"
    }
   ],
   "source": [
    "results=cur.execute(\"select id,name from employee where department in('HR') \")\n",
    "results.fetchall()"
   ]
  },
  {
   "cell_type": "code",
   "execution_count": 32,
   "id": "fa9b5099",
   "metadata": {},
   "outputs": [
    {
     "data": {
      "text/plain": [
       "[(4000.0,)]"
      ]
     },
     "execution_count": 32,
     "metadata": {},
     "output_type": "execute_result"
    }
   ],
   "source": [
    "results=cur.execute(\"select min(salary) from employee \")\n",
    "results.fetchall()"
   ]
  },
  {
   "cell_type": "code",
   "execution_count": 33,
   "id": "f17c4ecf",
   "metadata": {},
   "outputs": [
    {
     "data": {
      "text/plain": [
       "[(5,)]"
      ]
     },
     "execution_count": 33,
     "metadata": {},
     "output_type": "execute_result"
    }
   ],
   "source": [
    "results=cur.execute(\"select count (id) from employee \")\n",
    "results.fetchall()"
   ]
  },
  {
   "cell_type": "code",
   "execution_count": 34,
   "id": "7966649d",
   "metadata": {},
   "outputs": [
    {
     "data": {
      "text/plain": [
       "[('HR',), ('IT',), ('Finance',)]"
      ]
     },
     "execution_count": 34,
     "metadata": {},
     "output_type": "execute_result"
    }
   ],
   "source": [
    "results=cur.execute(\"select distinct (department) from employee\")\n",
    "results.fetchall()"
   ]
  },
  {
   "cell_type": "code",
   "execution_count": 35,
   "id": "7db32d02",
   "metadata": {},
   "outputs": [
    {
     "data": {
      "text/plain": [
       "[(3,)]"
      ]
     },
     "execution_count": 35,
     "metadata": {},
     "output_type": "execute_result"
    }
   ],
   "source": [
    "results=cur.execute(\"select count (distinct (department) ) from employee \")\n",
    "results.fetchall()"
   ]
  },
  {
   "cell_type": "code",
   "execution_count": 36,
   "id": "2e5bd765",
   "metadata": {},
   "outputs": [
    {
     "data": {
      "text/plain": [
       "[(7800.0, 'Accountant'), (12000.0, 'Engineer'), (15000.0, 'Manager')]"
      ]
     },
     "execution_count": 36,
     "metadata": {},
     "output_type": "execute_result"
    }
   ],
   "source": [
    "results=cur.execute(\"select sum(salary),position from employee group by position \")\n",
    "results.fetchall()"
   ]
  },
  {
   "cell_type": "code",
   "execution_count": 37,
   "id": "a1ed3e5e",
   "metadata": {},
   "outputs": [
    {
     "data": {
      "text/plain": [
       "[(7800.0, 'Finance'), (15000.0, 'HR'), (12000.0, 'IT')]"
      ]
     },
     "execution_count": 37,
     "metadata": {},
     "output_type": "execute_result"
    }
   ],
   "source": [
    "results=cur.execute(\"select sum(salary),department from employee group by department \")\n",
    "results.fetchall()"
   ]
  },
  {
   "cell_type": "raw",
   "id": "424bd73a",
   "metadata": {},
   "source": [
    "sql queries user defined functions"
   ]
  },
  {
   "cell_type": "code",
   "execution_count": 38,
   "id": "b5247c58",
   "metadata": {},
   "outputs": [],
   "source": [
    "def sql_query(sql):\n",
    "    cur=con.cursor()\n",
    "    results=cur.execute(sql)\n",
    "    return results"
   ]
  },
  {
   "cell_type": "code",
   "execution_count": 39,
   "id": "a8efe054",
   "metadata": {},
   "outputs": [
    {
     "data": {
      "text/plain": [
       "[(1, 'Martin', 9000.0, 'HR', 'Manager', '2019-07-09'),\n",
       " (2, 'john', 4000.0, 'IT', 'Engineer', '2015-04-06'),\n",
       " (3, 'Thomas', 6000.0, 'HR', 'Manager', '2016-06-14'),\n",
       " (4, 'Rudolf', 8000.0, 'IT', 'Engineer', '2012-08-23'),\n",
       " (5, 'Sia', 7800.0, 'Finance', 'Accountant', '2014-05-29')]"
      ]
     },
     "execution_count": 39,
     "metadata": {},
     "output_type": "execute_result"
    }
   ],
   "source": [
    "#make query\n",
    "sql=\"select * from employee\"\n",
    "\n",
    "#pass query in function\n",
    "respond=sql_query(sql)\n",
    "respond.fetchall()"
   ]
  },
  {
   "cell_type": "raw",
   "id": "43f7d290",
   "metadata": {},
   "source": [
    "Bulk insertion executemany"
   ]
  },
  {
   "cell_type": "code",
   "execution_count": 40,
   "id": "5289e899",
   "metadata": {},
   "outputs": [],
   "source": [
    "entities=[(6,'Joseph',4000,'Sales','sales manager','2016-05-15'),(7,'Priya',9000,'Accounts','CA','2017-06-25')]\n"
   ]
  },
  {
   "cell_type": "code",
   "execution_count": 41,
   "id": "023770ef",
   "metadata": {},
   "outputs": [
    {
     "data": {
      "text/plain": [
       "<sqlite3.Cursor at 0x15f5882fce0>"
      ]
     },
     "execution_count": 41,
     "metadata": {},
     "output_type": "execute_result"
    }
   ],
   "source": [
    "cur.executemany('insert into employee(id,name,salary,department,position,hiredate) values(?,?,?,?,?,?)',entities)"
   ]
  },
  {
   "cell_type": "code",
   "execution_count": 42,
   "id": "8cb7ac57",
   "metadata": {},
   "outputs": [
    {
     "name": "stdout",
     "output_type": "stream",
     "text": [
      "(1, 'Martin', 9000.0, 'HR', 'Manager', '2019-07-09')\n",
      "(2, 'john', 4000.0, 'IT', 'Engineer', '2015-04-06')\n",
      "(3, 'Thomas', 6000.0, 'HR', 'Manager', '2016-06-14')\n",
      "(4, 'Rudolf', 8000.0, 'IT', 'Engineer', '2012-08-23')\n",
      "(5, 'Sia', 7800.0, 'Finance', 'Accountant', '2014-05-29')\n",
      "(6, 'Joseph', 4000.0, 'Sales', 'sales manager', '2016-05-15')\n",
      "(7, 'Priya', 9000.0, 'Accounts', 'CA', '2017-06-25')\n"
     ]
    }
   ],
   "source": [
    "results=cur.execute(\"select * from employee\")\n",
    "for i in results:\n",
    "    print(i)"
   ]
  },
  {
   "cell_type": "code",
   "execution_count": null,
   "id": "b429bc67",
   "metadata": {},
   "outputs": [],
   "source": []
  }
 ],
 "metadata": {
  "kernelspec": {
   "display_name": "Python 3 (ipykernel)",
   "language": "python",
   "name": "python3"
  },
  "language_info": {
   "codemirror_mode": {
    "name": "ipython",
    "version": 3
   },
   "file_extension": ".py",
   "mimetype": "text/x-python",
   "name": "python",
   "nbconvert_exporter": "python",
   "pygments_lexer": "ipython3",
   "version": "3.9.7"
  }
 },
 "nbformat": 4,
 "nbformat_minor": 5
}
