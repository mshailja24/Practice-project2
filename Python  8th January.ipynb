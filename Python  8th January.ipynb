{
 "cells": [
  {
   "cell_type": "markdown",
   "id": "62ec5cb3",
   "metadata": {},
   "source": [
    "# Anonymous Functions Lamba Functions"
   ]
  },
  {
   "cell_type": "code",
   "execution_count": null,
   "id": "c8b6bd56",
   "metadata": {},
   "outputs": [],
   "source": [
    "# For simple mathematical expressions.Lambda Functions can also helps as anonymous function where they don't require any name. Helpful in performing small tasks with less code.\n",
    " The expression is composed of \n",
    "    keyword : lambda\n",
    "    A bound vaeriable : x\n",
    "    A body:x*2"
   ]
  },
  {
   "cell_type": "code",
   "execution_count": 1,
   "id": "0325fa32",
   "metadata": {},
   "outputs": [
    {
     "data": {
      "text/plain": [
       "10"
      ]
     },
     "execution_count": 1,
     "metadata": {},
     "output_type": "execute_result"
    }
   ],
   "source": [
    "test = lambda x:x*2;\n",
    "test(5)"
   ]
  },
  {
   "cell_type": "code",
   "execution_count": 2,
   "id": "f560cebd",
   "metadata": {},
   "outputs": [
    {
     "data": {
      "text/plain": [
       "16"
      ]
     },
     "execution_count": 2,
     "metadata": {},
     "output_type": "execute_result"
    }
   ],
   "source": [
    "test(8)"
   ]
  },
  {
   "cell_type": "code",
   "execution_count": 3,
   "id": "055f92b5",
   "metadata": {},
   "outputs": [
    {
     "data": {
      "text/plain": [
       "7"
      ]
     },
     "execution_count": 3,
     "metadata": {},
     "output_type": "execute_result"
    }
   ],
   "source": [
    "test1add= lambda x,y :x+y;\n",
    "test1add(3,4)"
   ]
  },
  {
   "cell_type": "code",
   "execution_count": 4,
   "id": "075eb256",
   "metadata": {},
   "outputs": [
    {
     "data": {
      "text/plain": [
       "13"
      ]
     },
     "execution_count": 4,
     "metadata": {},
     "output_type": "execute_result"
    }
   ],
   "source": [
    "m= lambda x,y,z : x+y+z;\n",
    "m(2,5,6)"
   ]
  },
  {
   "cell_type": "code",
   "execution_count": 5,
   "id": "5f2eb0ca",
   "metadata": {},
   "outputs": [
    {
     "data": {
      "text/plain": [
       "16"
      ]
     },
     "execution_count": 5,
     "metadata": {},
     "output_type": "execute_result"
    }
   ],
   "source": [
    "#find square\n",
    "square= lambda x: x**2;\n",
    "square(4)\n"
   ]
  },
  {
   "cell_type": "code",
   "execution_count": 6,
   "id": "64739d62",
   "metadata": {},
   "outputs": [
    {
     "data": {
      "text/plain": [
       "4"
      ]
     },
     "execution_count": 6,
     "metadata": {},
     "output_type": "execute_result"
    }
   ],
   "source": [
    "square= lambda x: x**2\n",
    "square(2)"
   ]
  },
  {
   "cell_type": "code",
   "execution_count": 8,
   "id": "a3c2d5d1",
   "metadata": {},
   "outputs": [
    {
     "data": {
      "text/plain": [
       "4.0"
      ]
     },
     "execution_count": 8,
     "metadata": {},
     "output_type": "execute_result"
    }
   ],
   "source": [
    "#find the squareroot\n",
    "\n",
    "squareroot= lambda x: x**(1/2)\n",
    "squareroot(16)"
   ]
  },
  {
   "cell_type": "code",
   "execution_count": 10,
   "id": "bfd18e16",
   "metadata": {},
   "outputs": [
    {
     "data": {
      "text/plain": [
       "8.0"
      ]
     },
     "execution_count": 10,
     "metadata": {},
     "output_type": "execute_result"
    }
   ],
   "source": [
    "squareroot= lambda x: x**(1/2)\n",
    "squareroot(64)"
   ]
  },
  {
   "cell_type": "code",
   "execution_count": 11,
   "id": "e828011f",
   "metadata": {},
   "outputs": [
    {
     "data": {
      "text/plain": [
       "5.0"
      ]
     },
     "execution_count": 11,
     "metadata": {},
     "output_type": "execute_result"
    }
   ],
   "source": [
    "squareroot(25)"
   ]
  },
  {
   "cell_type": "code",
   "execution_count": 12,
   "id": "24e623c6",
   "metadata": {},
   "outputs": [
    {
     "data": {
      "text/plain": [
       "8"
      ]
     },
     "execution_count": 12,
     "metadata": {},
     "output_type": "execute_result"
    }
   ],
   "source": [
    "#cube\n",
    "cube= lambda x: x**3\n",
    "cube(2)"
   ]
  },
  {
   "cell_type": "code",
   "execution_count": 13,
   "id": "3e8ae949",
   "metadata": {},
   "outputs": [
    {
     "data": {
      "text/plain": [
       "27"
      ]
     },
     "execution_count": 13,
     "metadata": {},
     "output_type": "execute_result"
    }
   ],
   "source": [
    "cube(3)"
   ]
  },
  {
   "cell_type": "code",
   "execution_count": 14,
   "id": "9d6d191d",
   "metadata": {},
   "outputs": [
    {
     "data": {
      "text/plain": [
       "3.0"
      ]
     },
     "execution_count": 14,
     "metadata": {},
     "output_type": "execute_result"
    }
   ],
   "source": [
    "#cuberoot\n",
    "curoot= lambda x: x**(1/3)\n",
    "curoot(27)"
   ]
  },
  {
   "cell_type": "code",
   "execution_count": 17,
   "id": "deb82a25",
   "metadata": {},
   "outputs": [
    {
     "data": {
      "text/plain": [
       "5.0"
      ]
     },
     "execution_count": 17,
     "metadata": {},
     "output_type": "execute_result"
    }
   ],
   "source": [
    "curoot(125)"
   ]
  },
  {
   "cell_type": "code",
   "execution_count": 19,
   "id": "f3efbb65",
   "metadata": {},
   "outputs": [
    {
     "name": "stdout",
     "output_type": "stream",
     "text": [
      "Value of total (4, 5)\n",
      "value of total (10, 6)\n"
     ]
    }
   ],
   "source": [
    "addvar= lambda arg1,arg2: arg1 + arg2;\n",
    "#now you can call sum as a function\n",
    "print('Value of total',(4,5))\n",
    "print(\"value of total\",(10,6))"
   ]
  },
  {
   "cell_type": "code",
   "execution_count": 20,
   "id": "20188213",
   "metadata": {},
   "outputs": [],
   "source": [
    "#converting temperature in fahrenhiet\n",
    "def fahrenheit(T):\n",
    "    return((9/5)*T + 32)"
   ]
  },
  {
   "cell_type": "code",
   "execution_count": 21,
   "id": "873d9952",
   "metadata": {},
   "outputs": [
    {
     "data": {
      "text/plain": [
       "95.0"
      ]
     },
     "execution_count": 21,
     "metadata": {},
     "output_type": "execute_result"
    }
   ],
   "source": [
    "f= fahrenheit(35)\n",
    "f"
   ]
  },
  {
   "cell_type": "code",
   "execution_count": 25,
   "id": "010f1e7d",
   "metadata": {},
   "outputs": [],
   "source": [
    "#converting temperature in celcius\n",
    "\n",
    "def celcius(T):\n",
    "    return ((5)/9)*(T-32)\n"
   ]
  },
  {
   "cell_type": "code",
   "execution_count": 26,
   "id": "86f47503",
   "metadata": {},
   "outputs": [
    {
     "data": {
      "text/plain": [
       "35.0"
      ]
     },
     "execution_count": 26,
     "metadata": {},
     "output_type": "execute_result"
    }
   ],
   "source": [
    "c= celcius(95)\n",
    "c"
   ]
  },
  {
   "cell_type": "code",
   "execution_count": 28,
   "id": "8f714d5f",
   "metadata": {},
   "outputs": [
    {
     "data": {
      "text/plain": [
       "101.12"
      ]
     },
     "execution_count": 28,
     "metadata": {},
     "output_type": "execute_result"
    }
   ],
   "source": [
    "#lambda with fahrenheit.\n",
    "F= lambda x: ((9)/5)* x +32;\n",
    "F(38.4)"
   ]
  },
  {
   "cell_type": "markdown",
   "id": "e5d5e061",
   "metadata": {},
   "source": [
    "map in lambda......> it applies on list"
   ]
  },
  {
   "cell_type": "code",
   "execution_count": 29,
   "id": "0e7bb102",
   "metadata": {},
   "outputs": [],
   "source": [
    "mylist= [1,2,3,4,5]\n",
    "#map(lambda x : x*2,mylist)\n"
   ]
  },
  {
   "cell_type": "code",
   "execution_count": 30,
   "id": "89ec8e52",
   "metadata": {},
   "outputs": [
    {
     "data": {
      "text/plain": [
       "[2, 4, 6, 8, 10]"
      ]
     },
     "execution_count": 30,
     "metadata": {},
     "output_type": "execute_result"
    }
   ],
   "source": [
    "list(map(lambda x: x*2,mylist))"
   ]
  },
  {
   "cell_type": "code",
   "execution_count": 31,
   "id": "a9287baa",
   "metadata": {},
   "outputs": [],
   "source": [
    "c= [35.5,36.5,37.3,38.5, 39]"
   ]
  },
  {
   "cell_type": "code",
   "execution_count": 32,
   "id": "40be65a7",
   "metadata": {},
   "outputs": [
    {
     "name": "stdout",
     "output_type": "stream",
     "text": [
      "[95.9, 97.7, 99.14, 101.3, 102.2]\n"
     ]
    }
   ],
   "source": [
    "F=list(map(lambda x:((9)/5)* x + 32,c))\n",
    "print(F)"
   ]
  },
  {
   "cell_type": "code",
   "execution_count": 33,
   "id": "a06a7fe6",
   "metadata": {},
   "outputs": [
    {
     "name": "stdout",
     "output_type": "stream",
     "text": [
      "[35.50000000000001, 36.5, 37.300000000000004, 38.5, 39.0]\n"
     ]
    }
   ],
   "source": [
    "C= list(map(lambda x:((5)/9)* (x-32), F))\n",
    "print (C)\n",
    "        "
   ]
  },
  {
   "cell_type": "code",
   "execution_count": 34,
   "id": "23f23091",
   "metadata": {},
   "outputs": [
    {
     "data": {
      "text/plain": [
       "[35.5, 36.5, 37.3, 38.5, 39.0]"
      ]
     },
     "execution_count": 34,
     "metadata": {},
     "output_type": "execute_result"
    }
   ],
   "source": [
    "newClist= [round(x,2) for x in C]\n",
    "newClist"
   ]
  },
  {
   "cell_type": "code",
   "execution_count": 36,
   "id": "a1c7ca58",
   "metadata": {},
   "outputs": [
    {
     "data": {
      "text/plain": [
       "['35.50', '36.50', '37.30', '38.50', '39.00']"
      ]
     },
     "execution_count": 36,
     "metadata": {},
     "output_type": "execute_result"
    }
   ],
   "source": [
    "newlist =['%.2f' % j for j in C]\n",
    "newlist"
   ]
  },
  {
   "cell_type": "markdown",
   "id": "35ec6ae1",
   "metadata": {},
   "source": [
    "# Filters in Lambda"
   ]
  },
  {
   "cell_type": "code",
   "execution_count": 37,
   "id": "2ab4b453",
   "metadata": {},
   "outputs": [
    {
     "data": {
      "text/plain": [
       "[3, 4, 5, 6]"
      ]
     },
     "execution_count": 37,
     "metadata": {},
     "output_type": "execute_result"
    }
   ],
   "source": [
    "mylist=[1,2,3,4,5,6]\n",
    "list(filter(lambda x: x>2,mylist))"
   ]
  },
  {
   "cell_type": "code",
   "execution_count": 38,
   "id": "4337e032",
   "metadata": {},
   "outputs": [
    {
     "data": {
      "text/plain": [
       "[0, 2, 4, 6, 8, 10]"
      ]
     },
     "execution_count": 38,
     "metadata": {},
     "output_type": "execute_result"
    }
   ],
   "source": [
    "even= lambda x: x%2==0\n",
    "list(filter(even,range(11)))"
   ]
  },
  {
   "cell_type": "code",
   "execution_count": 39,
   "id": "0ca9ce01",
   "metadata": {},
   "outputs": [
    {
     "data": {
      "text/plain": [
       "[0, 2, 4, 6, 8, 10]"
      ]
     },
     "execution_count": 39,
     "metadata": {},
     "output_type": "execute_result"
    }
   ],
   "source": [
    "#you can do it be list comprehension\n",
    "[x for x in range(11) if x%2==0]"
   ]
  },
  {
   "cell_type": "code",
   "execution_count": null,
   "id": "178e8460",
   "metadata": {},
   "outputs": [],
   "source": []
  }
 ],
 "metadata": {
  "kernelspec": {
   "display_name": "Python 3 (ipykernel)",
   "language": "python",
   "name": "python3"
  },
  "language_info": {
   "codemirror_mode": {
    "name": "ipython",
    "version": 3
   },
   "file_extension": ".py",
   "mimetype": "text/x-python",
   "name": "python",
   "nbconvert_exporter": "python",
   "pygments_lexer": "ipython3",
   "version": "3.9.7"
  }
 },
 "nbformat": 4,
 "nbformat_minor": 5
}
