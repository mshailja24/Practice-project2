{
 "cells": [
  {
   "cell_type": "code",
   "execution_count": 2,
   "id": "5d226c66",
   "metadata": {},
   "outputs": [],
   "source": [
    "planetlist=[\"Mercury\",\"Venus\",\"Earth\"]"
   ]
  },
  {
   "cell_type": "code",
   "execution_count": 3,
   "id": "bb69db97",
   "metadata": {},
   "outputs": [
    {
     "data": {
      "text/plain": [
       "['Mercury', 'Venus', 'Earth']"
      ]
     },
     "execution_count": 3,
     "metadata": {},
     "output_type": "execute_result"
    }
   ],
   "source": [
    "planetlist"
   ]
  },
  {
   "cell_type": "code",
   "execution_count": 4,
   "id": "4011091a",
   "metadata": {},
   "outputs": [
    {
     "data": {
      "text/plain": [
       "3"
      ]
     },
     "execution_count": 4,
     "metadata": {},
     "output_type": "execute_result"
    }
   ],
   "source": [
    "len(planetlist)"
   ]
  },
  {
   "cell_type": "code",
   "execution_count": 5,
   "id": "70bea797",
   "metadata": {},
   "outputs": [],
   "source": [
    "planetlist.append(\"Mars\")"
   ]
  },
  {
   "cell_type": "code",
   "execution_count": 6,
   "id": "2824f076",
   "metadata": {},
   "outputs": [
    {
     "data": {
      "text/plain": [
       "['Mercury', 'Venus', 'Earth', 'Mars']"
      ]
     },
     "execution_count": 6,
     "metadata": {},
     "output_type": "execute_result"
    }
   ],
   "source": [
    "planetlist"
   ]
  },
  {
   "cell_type": "code",
   "execution_count": 7,
   "id": "2209e79e",
   "metadata": {},
   "outputs": [],
   "source": [
    "planetlist.sort()"
   ]
  },
  {
   "cell_type": "code",
   "execution_count": 8,
   "id": "93d0dd4b",
   "metadata": {},
   "outputs": [
    {
     "data": {
      "text/plain": [
       "['Earth', 'Mars', 'Mercury', 'Venus']"
      ]
     },
     "execution_count": 8,
     "metadata": {},
     "output_type": "execute_result"
    }
   ],
   "source": [
    "planetlist"
   ]
  },
  {
   "cell_type": "code",
   "execution_count": 9,
   "id": "d3c57b00",
   "metadata": {},
   "outputs": [],
   "source": [
    "planetlist.reverse()"
   ]
  },
  {
   "cell_type": "code",
   "execution_count": 10,
   "id": "a9b96240",
   "metadata": {},
   "outputs": [
    {
     "data": {
      "text/plain": [
       "['Venus', 'Mercury', 'Mars', 'Earth']"
      ]
     },
     "execution_count": 10,
     "metadata": {},
     "output_type": "execute_result"
    }
   ],
   "source": [
    "planetlist"
   ]
  },
  {
   "cell_type": "code",
   "execution_count": 11,
   "id": "cd8d3504",
   "metadata": {},
   "outputs": [],
   "source": [
    "planetlist.insert(2,\"Pluto\")"
   ]
  },
  {
   "cell_type": "code",
   "execution_count": 12,
   "id": "163eb245",
   "metadata": {},
   "outputs": [
    {
     "data": {
      "text/plain": [
       "['Venus', 'Mercury', 'Pluto', 'Mars', 'Earth']"
      ]
     },
     "execution_count": 12,
     "metadata": {},
     "output_type": "execute_result"
    }
   ],
   "source": [
    "planetlist"
   ]
  },
  {
   "cell_type": "code",
   "execution_count": 13,
   "id": "e9782426",
   "metadata": {},
   "outputs": [
    {
     "data": {
      "text/plain": [
       "['Venus', 'Mercury', 'Pluto', 'Mars', 'Earth']"
      ]
     },
     "execution_count": 13,
     "metadata": {},
     "output_type": "execute_result"
    }
   ],
   "source": [
    "planetlist[0:]"
   ]
  },
  {
   "cell_type": "code",
   "execution_count": 14,
   "id": "afe55623",
   "metadata": {},
   "outputs": [
    {
     "data": {
      "text/plain": [
       "'Earth'"
      ]
     },
     "execution_count": 14,
     "metadata": {},
     "output_type": "execute_result"
    }
   ],
   "source": [
    "planetlist.pop()"
   ]
  },
  {
   "cell_type": "code",
   "execution_count": 15,
   "id": "22b38591",
   "metadata": {},
   "outputs": [
    {
     "data": {
      "text/plain": [
       "'Pluto'"
      ]
     },
     "execution_count": 15,
     "metadata": {},
     "output_type": "execute_result"
    }
   ],
   "source": [
    "planetlist.pop(2)"
   ]
  },
  {
   "cell_type": "code",
   "execution_count": 16,
   "id": "ba1c467b",
   "metadata": {},
   "outputs": [
    {
     "data": {
      "text/plain": [
       "['Venus', 'Mercury', 'Mars']"
      ]
     },
     "execution_count": 16,
     "metadata": {},
     "output_type": "execute_result"
    }
   ],
   "source": [
    "planetlist"
   ]
  },
  {
   "cell_type": "code",
   "execution_count": 17,
   "id": "076a337e",
   "metadata": {},
   "outputs": [],
   "source": [
    "planetlist.remove(\"Mars\")"
   ]
  },
  {
   "cell_type": "code",
   "execution_count": 18,
   "id": "c4cc69a7",
   "metadata": {},
   "outputs": [
    {
     "data": {
      "text/plain": [
       "['Venus', 'Mercury']"
      ]
     },
     "execution_count": 18,
     "metadata": {},
     "output_type": "execute_result"
    }
   ],
   "source": [
    "planetlist"
   ]
  },
  {
   "cell_type": "code",
   "execution_count": 19,
   "id": "a73d7275",
   "metadata": {},
   "outputs": [],
   "source": [
    "planetlist.clear()"
   ]
  },
  {
   "cell_type": "code",
   "execution_count": 20,
   "id": "d502bbf4",
   "metadata": {},
   "outputs": [
    {
     "data": {
      "text/plain": [
       "[]"
      ]
     },
     "execution_count": 20,
     "metadata": {},
     "output_type": "execute_result"
    }
   ],
   "source": [
    "planetlist"
   ]
  },
  {
   "cell_type": "code",
   "execution_count": 21,
   "id": "89f79a27",
   "metadata": {},
   "outputs": [],
   "source": [
    "del planetlist"
   ]
  },
  {
   "cell_type": "code",
   "execution_count": 25,
   "id": "01a7d488",
   "metadata": {},
   "outputs": [
    {
     "ename": "NameError",
     "evalue": "name 'planetlist' is not defined",
     "output_type": "error",
     "traceback": [
      "\u001b[1;31m---------------------------------------------------------------------------\u001b[0m",
      "\u001b[1;31mNameError\u001b[0m                                 Traceback (most recent call last)",
      "\u001b[1;32m~\\AppData\\Local\\Temp/ipykernel_24176/3676854626.py\u001b[0m in \u001b[0;36m<module>\u001b[1;34m\u001b[0m\n\u001b[1;32m----> 1\u001b[1;33m \u001b[0mplanetlist\u001b[0m\u001b[1;33m\u001b[0m\u001b[1;33m\u001b[0m\u001b[0m\n\u001b[0m",
      "\u001b[1;31mNameError\u001b[0m: name 'planetlist' is not defined"
     ]
    }
   ],
   "source": [
    "planetlist"
   ]
  },
  {
   "cell_type": "code",
   "execution_count": 26,
   "id": "3089b100",
   "metadata": {},
   "outputs": [
    {
     "data": {
      "text/plain": [
       "[1, 2, 3, 4, [5, 6, 7]]"
      ]
     },
     "execution_count": 26,
     "metadata": {},
     "output_type": "execute_result"
    }
   ],
   "source": [
    "a=[1,2,3,4]\n",
    "a.append([5,6,7])\n",
    "a"
   ]
  },
  {
   "cell_type": "code",
   "execution_count": 27,
   "id": "d8e2e1fd",
   "metadata": {},
   "outputs": [
    {
     "data": {
      "text/plain": [
       "[1, 2, 3, 4, 5, 6, 7]"
      ]
     },
     "execution_count": 27,
     "metadata": {},
     "output_type": "execute_result"
    }
   ],
   "source": [
    "a=[1,2,3,4]\n",
    "a.extend([5,6,7])\n",
    "a"
   ]
  },
  {
   "cell_type": "code",
   "execution_count": 28,
   "id": "974a70b0",
   "metadata": {},
   "outputs": [
    {
     "data": {
      "text/plain": [
       "['apple', 'banana', 'kiwi', ['mango', 'Grapes']]"
      ]
     },
     "execution_count": 28,
     "metadata": {},
     "output_type": "execute_result"
    }
   ],
   "source": [
    "fruits=[\"apple\",\"banana\",\"kiwi\"]\n",
    "fruits.append([\"mango\",\"Grapes\"])\n",
    "fruits"
   ]
  },
  {
   "cell_type": "code",
   "execution_count": 29,
   "id": "9af9de71",
   "metadata": {},
   "outputs": [
    {
     "data": {
      "text/plain": [
       "['apple', 'banana', 'kiwi', 'mango', 'Grapes']"
      ]
     },
     "execution_count": 29,
     "metadata": {},
     "output_type": "execute_result"
    }
   ],
   "source": [
    "fruits=[\"apple\",\"banana\",\"kiwi\"]\n",
    "fruits.extend([\"mango\",\"Grapes\"])\n",
    "fruits"
   ]
  },
  {
   "cell_type": "code",
   "execution_count": 30,
   "id": "05ea9a7d",
   "metadata": {},
   "outputs": [
    {
     "data": {
      "text/plain": [
       "['apple', 'banana', 'kiwi', ['potato', 'Tomato', 'brinjal']]"
      ]
     },
     "execution_count": 30,
     "metadata": {},
     "output_type": "execute_result"
    }
   ],
   "source": [
    "fruits=[\"apple\",\"banana\",\"kiwi\"]\n",
    "vegies=[\"potato\",\"Tomato\",\"brinjal\"]\n",
    "fruits.append(vegies)\n",
    "fruits"
   ]
  },
  {
   "cell_type": "code",
   "execution_count": 31,
   "id": "c0aae10f",
   "metadata": {},
   "outputs": [
    {
     "data": {
      "text/plain": [
       "['apple', 'banana', 'kiwi', 'potato', 'Tomato', 'brinjal']"
      ]
     },
     "execution_count": 31,
     "metadata": {},
     "output_type": "execute_result"
    }
   ],
   "source": [
    "fruits=[\"apple\",\"banana\",\"kiwi\"]\n",
    "vegies=[\"potato\",\"Tomato\",\"brinjal\"]\n",
    "fruits.extend(vegies)\n",
    "fruits"
   ]
  },
  {
   "cell_type": "code",
   "execution_count": 32,
   "id": "4c3c1b79",
   "metadata": {},
   "outputs": [
    {
     "data": {
      "text/plain": [
       "['apple',\n",
       " 'banana',\n",
       " 'kiwi',\n",
       " ['potato', 'Tomato', 'brinjal'],\n",
       " 'potato',\n",
       " 'Tomato',\n",
       " 'brinjal']"
      ]
     },
     "execution_count": 32,
     "metadata": {},
     "output_type": "execute_result"
    }
   ],
   "source": [
    "fruits=[\"apple\",\"banana\",\"kiwi\"]\n",
    "vegies=[\"potato\",\"Tomato\",\"brinjal\"]\n",
    "fruits.append(vegies)\n",
    "fruits.extend(vegies)\n",
    "fruits"
   ]
  },
  {
   "cell_type": "code",
   "execution_count": 33,
   "id": "0ad56365",
   "metadata": {},
   "outputs": [
    {
     "data": {
      "text/plain": [
       "'kiwi'"
      ]
     },
     "execution_count": 33,
     "metadata": {},
     "output_type": "execute_result"
    }
   ],
   "source": [
    "fruits.pop(2)"
   ]
  },
  {
   "cell_type": "code",
   "execution_count": 34,
   "id": "8c2446e3",
   "metadata": {},
   "outputs": [
    {
     "data": {
      "text/plain": [
       "['Dhoni', 'Kohli', 'Yuvraj', ['PV Sindhu', 'Saina'], 'PV Sindhu', 'Saina']"
      ]
     },
     "execution_count": 34,
     "metadata": {},
     "output_type": "execute_result"
    }
   ],
   "source": [
    "player=[\"Dhoni\",\"Kohli\",\"Yuvraj\"]\n",
    "Batmintonplayer=[\"PV Sindhu\",\"Saina\"]\n",
    "player.append(Batmintonplayer)\n",
    "player.extend(Batmintonplayer)\n",
    "player"
   ]
  },
  {
   "cell_type": "code",
   "execution_count": 35,
   "id": "a5b10f04",
   "metadata": {},
   "outputs": [],
   "source": [
    "player=[\"Dhoni\",\"Kohli\",\"Yuvraj\"]"
   ]
  },
  {
   "cell_type": "code",
   "execution_count": 36,
   "id": "cb648af8",
   "metadata": {},
   "outputs": [],
   "source": [
    "player.insert(2,\"Sehwag\")"
   ]
  },
  {
   "cell_type": "code",
   "execution_count": 37,
   "id": "09fcf0c5",
   "metadata": {},
   "outputs": [
    {
     "data": {
      "text/plain": [
       "['Dhoni', 'Kohli', 'Sehwag', 'Yuvraj']"
      ]
     },
     "execution_count": 37,
     "metadata": {},
     "output_type": "execute_result"
    }
   ],
   "source": [
    "player"
   ]
  },
  {
   "cell_type": "code",
   "execution_count": 38,
   "id": "d30b95c0",
   "metadata": {},
   "outputs": [
    {
     "data": {
      "text/plain": [
       "'Yuvraj'"
      ]
     },
     "execution_count": 38,
     "metadata": {},
     "output_type": "execute_result"
    }
   ],
   "source": [
    "player.pop(3)"
   ]
  },
  {
   "cell_type": "code",
   "execution_count": 40,
   "id": "383a39d1",
   "metadata": {},
   "outputs": [
    {
     "data": {
      "text/plain": [
       "'Dhoni'"
      ]
     },
     "execution_count": 40,
     "metadata": {},
     "output_type": "execute_result"
    }
   ],
   "source": [
    "player.pop(0)"
   ]
  },
  {
   "cell_type": "code",
   "execution_count": 41,
   "id": "b80dbc11",
   "metadata": {},
   "outputs": [],
   "source": [
    "player.sort()"
   ]
  },
  {
   "cell_type": "code",
   "execution_count": 42,
   "id": "88a2dbbc",
   "metadata": {},
   "outputs": [
    {
     "data": {
      "text/plain": [
       "['Kohli', 'Sehwag']"
      ]
     },
     "execution_count": 42,
     "metadata": {},
     "output_type": "execute_result"
    }
   ],
   "source": [
    "player"
   ]
  },
  {
   "cell_type": "code",
   "execution_count": 43,
   "id": "83c87dae",
   "metadata": {},
   "outputs": [],
   "source": [
    "player.reverse()"
   ]
  },
  {
   "cell_type": "code",
   "execution_count": 44,
   "id": "8da07926",
   "metadata": {},
   "outputs": [
    {
     "data": {
      "text/plain": [
       "['Sehwag', 'Kohli']"
      ]
     },
     "execution_count": 44,
     "metadata": {},
     "output_type": "execute_result"
    }
   ],
   "source": [
    "player"
   ]
  },
  {
   "cell_type": "markdown",
   "id": "10f27df6",
   "metadata": {},
   "source": [
    "Property- Mutable means changing"
   ]
  },
  {
   "cell_type": "code",
   "execution_count": 45,
   "id": "f2c85d74",
   "metadata": {},
   "outputs": [],
   "source": [
    "mobilelist=[\"nokia\",\"Samsung\",\"oneplus\"]"
   ]
  },
  {
   "cell_type": "code",
   "execution_count": 46,
   "id": "47f6e4d5",
   "metadata": {},
   "outputs": [
    {
     "data": {
      "text/plain": [
       "['nokia', 'Samsung', 'oneplus']"
      ]
     },
     "execution_count": 46,
     "metadata": {},
     "output_type": "execute_result"
    }
   ],
   "source": [
    "mobilelist"
   ]
  },
  {
   "cell_type": "code",
   "execution_count": 47,
   "id": "584de0dc",
   "metadata": {},
   "outputs": [
    {
     "data": {
      "text/plain": [
       "'nokia'"
      ]
     },
     "execution_count": 47,
     "metadata": {},
     "output_type": "execute_result"
    }
   ],
   "source": [
    "mobilelist[0]"
   ]
  },
  {
   "cell_type": "code",
   "execution_count": 48,
   "id": "dde1e31e",
   "metadata": {},
   "outputs": [
    {
     "data": {
      "text/plain": [
       "'Samsung'"
      ]
     },
     "execution_count": 48,
     "metadata": {},
     "output_type": "execute_result"
    }
   ],
   "source": [
    "mobilelist[1]"
   ]
  },
  {
   "cell_type": "code",
   "execution_count": 52,
   "id": "97973880",
   "metadata": {},
   "outputs": [],
   "source": [
    "mobilelist[1]=\"TeslaPI\""
   ]
  },
  {
   "cell_type": "code",
   "execution_count": 53,
   "id": "f1dd18d2",
   "metadata": {},
   "outputs": [
    {
     "data": {
      "text/plain": [
       "['nokia', 'TeslaPI', 'oneplus']"
      ]
     },
     "execution_count": 53,
     "metadata": {},
     "output_type": "execute_result"
    }
   ],
   "source": [
    "mobilelist"
   ]
  },
  {
   "cell_type": "code",
   "execution_count": 54,
   "id": "7a39a017",
   "metadata": {},
   "outputs": [
    {
     "data": {
      "text/plain": [
       "'TeslaPI'"
      ]
     },
     "execution_count": 54,
     "metadata": {},
     "output_type": "execute_result"
    }
   ],
   "source": [
    "mobilelist[1]"
   ]
  },
  {
   "cell_type": "code",
   "execution_count": 56,
   "id": "10b4377f",
   "metadata": {},
   "outputs": [],
   "source": [
    "list1=[100,200,300]"
   ]
  },
  {
   "cell_type": "code",
   "execution_count": 57,
   "id": "b059208a",
   "metadata": {},
   "outputs": [],
   "source": [
    "list1[2]=650"
   ]
  },
  {
   "cell_type": "code",
   "execution_count": 58,
   "id": "ef66ff5c",
   "metadata": {},
   "outputs": [
    {
     "data": {
      "text/plain": [
       "[100, 200, 650]"
      ]
     },
     "execution_count": 58,
     "metadata": {},
     "output_type": "execute_result"
    }
   ],
   "source": [
    "list1"
   ]
  },
  {
   "cell_type": "markdown",
   "id": "524ed50f",
   "metadata": {},
   "source": [
    "Tuples"
   ]
  },
  {
   "cell_type": "code",
   "execution_count": 61,
   "id": "780d77db",
   "metadata": {},
   "outputs": [],
   "source": [
    "my_tuple=(1,2,55.5,\"Rani\")"
   ]
  },
  {
   "cell_type": "code",
   "execution_count": 62,
   "id": "269131e4",
   "metadata": {},
   "outputs": [
    {
     "data": {
      "text/plain": [
       "(1, 2, 55.5, 'Rani')"
      ]
     },
     "execution_count": 62,
     "metadata": {},
     "output_type": "execute_result"
    }
   ],
   "source": [
    "my_tuple"
   ]
  },
  {
   "cell_type": "code",
   "execution_count": 63,
   "id": "468bf71d",
   "metadata": {},
   "outputs": [
    {
     "data": {
      "text/plain": [
       "2"
      ]
     },
     "execution_count": 63,
     "metadata": {},
     "output_type": "execute_result"
    }
   ],
   "source": [
    "my_tuple[1]"
   ]
  },
  {
   "cell_type": "code",
   "execution_count": 65,
   "id": "ba4d7080",
   "metadata": {},
   "outputs": [
    {
     "data": {
      "text/plain": [
       "(1, 2, 55.5, 'Rani', 8, 12, 155.5, 'Raja')"
      ]
     },
     "execution_count": 65,
     "metadata": {},
     "output_type": "execute_result"
    }
   ],
   "source": [
    "my_tuple1=(1,2,55.5,\"Rani\")\n",
    "my_tuple2=(8,12,155.5,\"Raja\")\n",
    "tuple3=my_tuple1+my_tuple2\n",
    "tuple3"
   ]
  },
  {
   "cell_type": "code",
   "execution_count": 66,
   "id": "23663412",
   "metadata": {},
   "outputs": [
    {
     "data": {
      "text/plain": [
       "55.5"
      ]
     },
     "execution_count": 66,
     "metadata": {},
     "output_type": "execute_result"
    }
   ],
   "source": [
    "#accessing the element\n",
    "tuple3[2]"
   ]
  },
  {
   "cell_type": "code",
   "execution_count": 67,
   "id": "fc341791",
   "metadata": {},
   "outputs": [
    {
     "ename": "TypeError",
     "evalue": "'tuple' object does not support item assignment",
     "output_type": "error",
     "traceback": [
      "\u001b[1;31m---------------------------------------------------------------------------\u001b[0m",
      "\u001b[1;31mTypeError\u001b[0m                                 Traceback (most recent call last)",
      "\u001b[1;32m~\\AppData\\Local\\Temp/ipykernel_24176/3008407797.py\u001b[0m in \u001b[0;36m<module>\u001b[1;34m\u001b[0m\n\u001b[0;32m      1\u001b[0m \u001b[1;31m#tuple values cannot be changed after creation it is immutable\u001b[0m\u001b[1;33m\u001b[0m\u001b[1;33m\u001b[0m\u001b[0m\n\u001b[1;32m----> 2\u001b[1;33m \u001b[0mtuple3\u001b[0m\u001b[1;33m[\u001b[0m\u001b[1;36m2\u001b[0m\u001b[1;33m]\u001b[0m\u001b[1;33m=\u001b[0m\u001b[1;36m83\u001b[0m\u001b[1;33m\u001b[0m\u001b[1;33m\u001b[0m\u001b[0m\n\u001b[0m",
      "\u001b[1;31mTypeError\u001b[0m: 'tuple' object does not support item assignment"
     ]
    }
   ],
   "source": [
    "#tuple values cannot be changed after creation it is immutable\n",
    "tuple3[2]=83"
   ]
  },
  {
   "cell_type": "markdown",
   "id": "16684fde",
   "metadata": {},
   "source": [
    "Dictionary"
   ]
  },
  {
   "cell_type": "code",
   "execution_count": 69,
   "id": "ca686c27",
   "metadata": {},
   "outputs": [],
   "source": [
    "d1={'id':1,'name':'Ram','Class':2}"
   ]
  },
  {
   "cell_type": "code",
   "execution_count": 70,
   "id": "2af881fe",
   "metadata": {},
   "outputs": [
    {
     "data": {
      "text/plain": [
       "{'id': 1, 'name': 'Ram', 'Class': 2}"
      ]
     },
     "execution_count": 70,
     "metadata": {},
     "output_type": "execute_result"
    }
   ],
   "source": [
    "d1"
   ]
  },
  {
   "cell_type": "code",
   "execution_count": 72,
   "id": "4d213483",
   "metadata": {},
   "outputs": [
    {
     "data": {
      "text/plain": [
       "1"
      ]
     },
     "execution_count": 72,
     "metadata": {},
     "output_type": "execute_result"
    }
   ],
   "source": [
    "d1['id']"
   ]
  },
  {
   "cell_type": "code",
   "execution_count": 73,
   "id": "d2871695",
   "metadata": {},
   "outputs": [
    {
     "data": {
      "text/plain": [
       "'Ram'"
      ]
     },
     "execution_count": 73,
     "metadata": {},
     "output_type": "execute_result"
    }
   ],
   "source": [
    "d1['name']"
   ]
  },
  {
   "cell_type": "code",
   "execution_count": 75,
   "id": "731544dc",
   "metadata": {},
   "outputs": [
    {
     "data": {
      "text/plain": [
       "2"
      ]
     },
     "execution_count": 75,
     "metadata": {},
     "output_type": "execute_result"
    }
   ],
   "source": [
    "d1['Class']"
   ]
  },
  {
   "cell_type": "code",
   "execution_count": 76,
   "id": "c688e9d9",
   "metadata": {},
   "outputs": [
    {
     "data": {
      "text/plain": [
       "dict_keys(['id', 'name', 'Class'])"
      ]
     },
     "execution_count": 76,
     "metadata": {},
     "output_type": "execute_result"
    }
   ],
   "source": [
    "d1.keys()"
   ]
  },
  {
   "cell_type": "code",
   "execution_count": 77,
   "id": "4a65a92a",
   "metadata": {},
   "outputs": [
    {
     "data": {
      "text/plain": [
       "dict_values([1, 'Ram', 2])"
      ]
     },
     "execution_count": 77,
     "metadata": {},
     "output_type": "execute_result"
    }
   ],
   "source": [
    "d1.values()"
   ]
  },
  {
   "cell_type": "code",
   "execution_count": 78,
   "id": "ba4dbdd1",
   "metadata": {},
   "outputs": [
    {
     "data": {
      "text/plain": [
       "dict_items([('id', 1), ('name', 'Ram'), ('Class', 2)])"
      ]
     },
     "execution_count": 78,
     "metadata": {},
     "output_type": "execute_result"
    }
   ],
   "source": [
    "d1.items()"
   ]
  },
  {
   "cell_type": "code",
   "execution_count": 79,
   "id": "e1f955a0",
   "metadata": {},
   "outputs": [],
   "source": [
    "numdict={1:100,2:300,3:400,4:500,5:600}"
   ]
  },
  {
   "cell_type": "code",
   "execution_count": 80,
   "id": "e1986365",
   "metadata": {},
   "outputs": [
    {
     "data": {
      "text/plain": [
       "{1: 100, 2: 300, 3: 400, 4: 500, 5: 600}"
      ]
     },
     "execution_count": 80,
     "metadata": {},
     "output_type": "execute_result"
    }
   ],
   "source": [
    "numdict"
   ]
  },
  {
   "cell_type": "code",
   "execution_count": 81,
   "id": "d1be5e2f",
   "metadata": {},
   "outputs": [
    {
     "data": {
      "text/plain": [
       "100"
      ]
     },
     "execution_count": 81,
     "metadata": {},
     "output_type": "execute_result"
    }
   ],
   "source": [
    "numdict[1]"
   ]
  },
  {
   "cell_type": "code",
   "execution_count": 83,
   "id": "9721600e",
   "metadata": {},
   "outputs": [
    {
     "data": {
      "text/plain": [
       "600"
      ]
     },
     "execution_count": 83,
     "metadata": {},
     "output_type": "execute_result"
    }
   ],
   "source": [
    "numdict[5]"
   ]
  },
  {
   "cell_type": "code",
   "execution_count": 84,
   "id": "a3d41e03",
   "metadata": {},
   "outputs": [
    {
     "data": {
      "text/plain": [
       "dict_keys([1, 2, 3, 4, 5])"
      ]
     },
     "execution_count": 84,
     "metadata": {},
     "output_type": "execute_result"
    }
   ],
   "source": [
    "numdict.keys()"
   ]
  },
  {
   "cell_type": "code",
   "execution_count": 85,
   "id": "892bfa3f",
   "metadata": {},
   "outputs": [
    {
     "data": {
      "text/plain": [
       "dict_values([100, 300, 400, 500, 600])"
      ]
     },
     "execution_count": 85,
     "metadata": {},
     "output_type": "execute_result"
    }
   ],
   "source": [
    "numdict.values()"
   ]
  },
  {
   "cell_type": "code",
   "execution_count": 86,
   "id": "dbbe551c",
   "metadata": {},
   "outputs": [
    {
     "data": {
      "text/plain": [
       "dict_items([(1, 100), (2, 300), (3, 400), (4, 500), (5, 600)])"
      ]
     },
     "execution_count": 86,
     "metadata": {},
     "output_type": "execute_result"
    }
   ],
   "source": [
    "numdict.items()"
   ]
  },
  {
   "cell_type": "code",
   "execution_count": 3,
   "id": "5fb11918",
   "metadata": {},
   "outputs": [],
   "source": [
    "dict1= {'name':'Zara','age':5,'class':'first'}"
   ]
  },
  {
   "cell_type": "code",
   "execution_count": 4,
   "id": "837d9881",
   "metadata": {},
   "outputs": [
    {
     "data": {
      "text/plain": [
       "{'name': 'Zara', 'age': 5, 'class': 'first'}"
      ]
     },
     "execution_count": 4,
     "metadata": {},
     "output_type": "execute_result"
    }
   ],
   "source": [
    "dict1"
   ]
  },
  {
   "cell_type": "code",
   "execution_count": 5,
   "id": "0ce2d29d",
   "metadata": {},
   "outputs": [
    {
     "data": {
      "text/plain": [
       "'Zara'"
      ]
     },
     "execution_count": 5,
     "metadata": {},
     "output_type": "execute_result"
    }
   ],
   "source": [
    "dict1['name']"
   ]
  },
  {
   "cell_type": "code",
   "execution_count": 6,
   "id": "800ff9e3",
   "metadata": {},
   "outputs": [
    {
     "name": "stdout",
     "output_type": "stream",
     "text": [
      "5\n"
     ]
    }
   ],
   "source": [
    "print(dict1['age'])"
   ]
  },
  {
   "cell_type": "code",
   "execution_count": 8,
   "id": "f2f02a4b",
   "metadata": {},
   "outputs": [],
   "source": [
    "dict1['age']=10"
   ]
  },
  {
   "cell_type": "code",
   "execution_count": 9,
   "id": "566dfb18",
   "metadata": {},
   "outputs": [
    {
     "data": {
      "text/plain": [
       "{'name': 'Zara', 'age': 10, 'class': 'first'}"
      ]
     },
     "execution_count": 9,
     "metadata": {},
     "output_type": "execute_result"
    }
   ],
   "source": [
    "dict1"
   ]
  },
  {
   "cell_type": "code",
   "execution_count": 11,
   "id": "18e6969a",
   "metadata": {},
   "outputs": [
    {
     "name": "stdout",
     "output_type": "stream",
     "text": [
      "first\n"
     ]
    }
   ],
   "source": [
    "print(dict1['class'])"
   ]
  },
  {
   "cell_type": "code",
   "execution_count": 12,
   "id": "e917c573",
   "metadata": {},
   "outputs": [
    {
     "name": "stdout",
     "output_type": "stream",
     "text": [
      "dict1['name':] Zara\n"
     ]
    }
   ],
   "source": [
    "print(\"dict1['name':]\",dict1['name'])"
   ]
  },
  {
   "cell_type": "code",
   "execution_count": 13,
   "id": "c8fe3bec",
   "metadata": {},
   "outputs": [
    {
     "data": {
      "text/plain": [
       "3"
      ]
     },
     "execution_count": 13,
     "metadata": {},
     "output_type": "execute_result"
    }
   ],
   "source": [
    "len(dict1)"
   ]
  },
  {
   "cell_type": "code",
   "execution_count": 14,
   "id": "33aedc19",
   "metadata": {},
   "outputs": [
    {
     "data": {
      "text/plain": [
       "dict_keys(['name', 'age', 'class'])"
      ]
     },
     "execution_count": 14,
     "metadata": {},
     "output_type": "execute_result"
    }
   ],
   "source": [
    "dict1.keys()"
   ]
  },
  {
   "cell_type": "code",
   "execution_count": 15,
   "id": "4577c635",
   "metadata": {},
   "outputs": [
    {
     "data": {
      "text/plain": [
       "dict_values(['Zara', 10, 'first'])"
      ]
     },
     "execution_count": 15,
     "metadata": {},
     "output_type": "execute_result"
    }
   ],
   "source": [
    "dict1.values()"
   ]
  },
  {
   "cell_type": "code",
   "execution_count": 17,
   "id": "6fadfc7a",
   "metadata": {},
   "outputs": [
    {
     "data": {
      "text/plain": [
       "dict_items([('name', 'Zara'), ('age', 10), ('class', 'first')])"
      ]
     },
     "execution_count": 17,
     "metadata": {},
     "output_type": "execute_result"
    }
   ],
   "source": [
    "dict1.items()"
   ]
  },
  {
   "cell_type": "code",
   "execution_count": 18,
   "id": "b7e80dab",
   "metadata": {},
   "outputs": [],
   "source": [
    "#adding a new value pair\n",
    "dict1.update({'fee':5000})"
   ]
  },
  {
   "cell_type": "code",
   "execution_count": 19,
   "id": "ed16e3e0",
   "metadata": {},
   "outputs": [
    {
     "data": {
      "text/plain": [
       "{'name': 'Zara', 'age': 10, 'class': 'first', 'fee': 5000}"
      ]
     },
     "execution_count": 19,
     "metadata": {},
     "output_type": "execute_result"
    }
   ],
   "source": [
    "dict1"
   ]
  },
  {
   "cell_type": "code",
   "execution_count": 20,
   "id": "e7eae9f5",
   "metadata": {},
   "outputs": [
    {
     "data": {
      "text/plain": [
       "{'name': 'Zara', 'age': 10, 'class': 'first', 'fee': 6854}"
      ]
     },
     "execution_count": 20,
     "metadata": {},
     "output_type": "execute_result"
    }
   ],
   "source": [
    "#updating existing key's values\n",
    "dict1['fee']=6854\n",
    "dict1"
   ]
  },
  {
   "cell_type": "code",
   "execution_count": 23,
   "id": "451b21d9",
   "metadata": {},
   "outputs": [
    {
     "name": "stdout",
     "output_type": "stream",
     "text": [
      "{'rock': 'brown', 'trees': 'green', 'apple': 'red', 'banana': 'yellow'}\n"
     ]
    }
   ],
   "source": [
    "colourdict={'rock':'brown','trees':'green','apple':'red','banana':'yellow'}\n",
    "print(colourdict)"
   ]
  },
  {
   "cell_type": "markdown",
   "id": "582b95fa",
   "metadata": {},
   "source": [
    "# Enhanced dictionary operations"
   ]
  },
  {
   "cell_type": "code",
   "execution_count": 26,
   "id": "050310c4",
   "metadata": {},
   "outputs": [],
   "source": [
    "#dictionary with integer keys\n",
    "indict={10:'c++',20:'python',30:'java',40:'ruby'}"
   ]
  },
  {
   "cell_type": "code",
   "execution_count": 27,
   "id": "e1e6b3da",
   "metadata": {},
   "outputs": [
    {
     "data": {
      "text/plain": [
       "{10: 'c++', 20: 'python', 30: 'java', 40: 'ruby'}"
      ]
     },
     "execution_count": 27,
     "metadata": {},
     "output_type": "execute_result"
    }
   ],
   "source": [
    "indict"
   ]
  },
  {
   "cell_type": "code",
   "execution_count": 28,
   "id": "c2c7f095",
   "metadata": {},
   "outputs": [
    {
     "data": {
      "text/plain": [
       "dict_keys([10, 20, 30, 40])"
      ]
     },
     "execution_count": 28,
     "metadata": {},
     "output_type": "execute_result"
    }
   ],
   "source": [
    "indict.keys()"
   ]
  },
  {
   "cell_type": "code",
   "execution_count": 29,
   "id": "55a32c67",
   "metadata": {},
   "outputs": [
    {
     "data": {
      "text/plain": [
       "dict_values(['c++', 'python', 'java', 'ruby'])"
      ]
     },
     "execution_count": 29,
     "metadata": {},
     "output_type": "execute_result"
    }
   ],
   "source": [
    "indict.values()"
   ]
  },
  {
   "cell_type": "code",
   "execution_count": 30,
   "id": "041ac6c6",
   "metadata": {},
   "outputs": [
    {
     "data": {
      "text/plain": [
       "dict_items([(10, 'c++'), (20, 'python'), (30, 'java'), (40, 'ruby')])"
      ]
     },
     "execution_count": 30,
     "metadata": {},
     "output_type": "execute_result"
    }
   ],
   "source": [
    "indict.items()"
   ]
  },
  {
   "cell_type": "code",
   "execution_count": 31,
   "id": "133d7f36",
   "metadata": {},
   "outputs": [],
   "source": [
    "#adding a new key to a dictionary\n",
    "indict.update({50:'csharp'})\n"
   ]
  },
  {
   "cell_type": "code",
   "execution_count": 32,
   "id": "1c6cf74d",
   "metadata": {},
   "outputs": [
    {
     "data": {
      "text/plain": [
       "{10: 'c++', 20: 'python', 30: 'java', 40: 'ruby', 50: 'csharp'}"
      ]
     },
     "execution_count": 32,
     "metadata": {},
     "output_type": "execute_result"
    }
   ],
   "source": [
    "indict"
   ]
  },
  {
   "cell_type": "code",
   "execution_count": 33,
   "id": "33ec7c79",
   "metadata": {},
   "outputs": [],
   "source": [
    "#updating a new value in given key\n",
    "indict[50]='rails'"
   ]
  },
  {
   "cell_type": "code",
   "execution_count": 34,
   "id": "2c7ac112",
   "metadata": {},
   "outputs": [
    {
     "data": {
      "text/plain": [
       "{10: 'c++', 20: 'python', 30: 'java', 40: 'ruby', 50: 'rails'}"
      ]
     },
     "execution_count": 34,
     "metadata": {},
     "output_type": "execute_result"
    }
   ],
   "source": [
    "indict"
   ]
  },
  {
   "cell_type": "code",
   "execution_count": 36,
   "id": "45a11d9f",
   "metadata": {},
   "outputs": [],
   "source": [
    "#delete a key.\n",
    "del indict[50]"
   ]
  },
  {
   "cell_type": "code",
   "execution_count": 37,
   "id": "9e136f98",
   "metadata": {},
   "outputs": [
    {
     "data": {
      "text/plain": [
       "{10: 'c++', 20: 'python', 30: 'java', 40: 'ruby'}"
      ]
     },
     "execution_count": 37,
     "metadata": {},
     "output_type": "execute_result"
    }
   ],
   "source": [
    "indict"
   ]
  },
  {
   "cell_type": "code",
   "execution_count": 38,
   "id": "ce4093f5",
   "metadata": {},
   "outputs": [
    {
     "data": {
      "text/plain": [
       "'java'"
      ]
     },
     "execution_count": 38,
     "metadata": {},
     "output_type": "execute_result"
    }
   ],
   "source": [
    "#delete with pop\n",
    "indict.pop(30)"
   ]
  },
  {
   "cell_type": "code",
   "execution_count": 39,
   "id": "b03bbf6a",
   "metadata": {},
   "outputs": [
    {
     "data": {
      "text/plain": [
       "{10: 'c++', 20: 'python', 40: 'ruby'}"
      ]
     },
     "execution_count": 39,
     "metadata": {},
     "output_type": "execute_result"
    }
   ],
   "source": [
    "indict"
   ]
  },
  {
   "cell_type": "code",
   "execution_count": 40,
   "id": "e83aeb89",
   "metadata": {},
   "outputs": [
    {
     "data": {
      "text/plain": [
       "3"
      ]
     },
     "execution_count": 40,
     "metadata": {},
     "output_type": "execute_result"
    }
   ],
   "source": [
    "len(indict)"
   ]
  },
  {
   "cell_type": "code",
   "execution_count": 41,
   "id": "5f2863b1",
   "metadata": {},
   "outputs": [
    {
     "data": {
      "text/plain": [
       "dict_items([(10, 'c++'), (20, 'python'), (40, 'ruby')])"
      ]
     },
     "execution_count": 41,
     "metadata": {},
     "output_type": "execute_result"
    }
   ],
   "source": [
    "indict.items()"
   ]
  },
  {
   "cell_type": "code",
   "execution_count": 42,
   "id": "d61f5d8b",
   "metadata": {},
   "outputs": [
    {
     "data": {
      "text/plain": [
       "dict_keys([10, 20, 40])"
      ]
     },
     "execution_count": 42,
     "metadata": {},
     "output_type": "execute_result"
    }
   ],
   "source": [
    "indict.keys()"
   ]
  },
  {
   "cell_type": "code",
   "execution_count": 43,
   "id": "2579bd18",
   "metadata": {},
   "outputs": [
    {
     "data": {
      "text/plain": [
       "dict_values(['c++', 'python', 'ruby'])"
      ]
     },
     "execution_count": 43,
     "metadata": {},
     "output_type": "execute_result"
    }
   ],
   "source": [
    "indict.values()"
   ]
  },
  {
   "cell_type": "code",
   "execution_count": 44,
   "id": "71765b9d",
   "metadata": {},
   "outputs": [
    {
     "data": {
      "text/plain": [
       "{'id': [1, 2, 3],\n",
       " 'Name': ['Jack', 'John', 'Ram'],\n",
       " 'grade': ['first', 'second', 'third']}"
      ]
     },
     "execution_count": 44,
     "metadata": {},
     "output_type": "execute_result"
    }
   ],
   "source": [
    "dict2={'id':[1,2,3],'Name':['Jack','John','Ram'],'grade':['first','second','third']}\n",
    "dict2"
   ]
  },
  {
   "cell_type": "code",
   "execution_count": 45,
   "id": "519b5663",
   "metadata": {},
   "outputs": [
    {
     "data": {
      "text/plain": [
       "dict_keys(['id', 'Name', 'grade'])"
      ]
     },
     "execution_count": 45,
     "metadata": {},
     "output_type": "execute_result"
    }
   ],
   "source": [
    "dict2.keys()"
   ]
  },
  {
   "cell_type": "code",
   "execution_count": 46,
   "id": "284728ad",
   "metadata": {},
   "outputs": [
    {
     "data": {
      "text/plain": [
       "dict_values([[1, 2, 3], ['Jack', 'John', 'Ram'], ['first', 'second', 'third']])"
      ]
     },
     "execution_count": 46,
     "metadata": {},
     "output_type": "execute_result"
    }
   ],
   "source": [
    "dict2.values()"
   ]
  },
  {
   "cell_type": "code",
   "execution_count": 48,
   "id": "fdb4d5e8",
   "metadata": {},
   "outputs": [
    {
     "data": {
      "text/plain": [
       "dict_items([('id', [1, 2, 3]), ('Name', ['Jack', 'John', 'Ram']), ('grade', ['first', 'second', 'third'])])"
      ]
     },
     "execution_count": 48,
     "metadata": {},
     "output_type": "execute_result"
    }
   ],
   "source": [
    "dict2.items()"
   ]
  },
  {
   "cell_type": "markdown",
   "id": "77dca85d",
   "metadata": {},
   "source": [
    "dictionary with multiple values"
   ]
  },
  {
   "cell_type": "code",
   "execution_count": 51,
   "id": "7ea4af52",
   "metadata": {},
   "outputs": [],
   "source": [
    "dict3={1:['red','green','yellow'],2:['pink','blue','black'],3:['white','brown','grey']}"
   ]
  },
  {
   "cell_type": "code",
   "execution_count": 52,
   "id": "eaa1259b",
   "metadata": {},
   "outputs": [
    {
     "data": {
      "text/plain": [
       "{1: ['red', 'green', 'yellow'],\n",
       " 2: ['pink', 'blue', 'black'],\n",
       " 3: ['white', 'brown', 'grey']}"
      ]
     },
     "execution_count": 52,
     "metadata": {},
     "output_type": "execute_result"
    }
   ],
   "source": [
    "dict3"
   ]
  },
  {
   "cell_type": "code",
   "execution_count": 53,
   "id": "ee73c058",
   "metadata": {},
   "outputs": [
    {
     "data": {
      "text/plain": [
       "dict_keys([1, 2, 3])"
      ]
     },
     "execution_count": 53,
     "metadata": {},
     "output_type": "execute_result"
    }
   ],
   "source": [
    "dict3.keys()"
   ]
  },
  {
   "cell_type": "code",
   "execution_count": 57,
   "id": "926c93aa",
   "metadata": {},
   "outputs": [
    {
     "data": {
      "text/plain": [
       "dict_values([['red', 'green', 'yellow'], ['pink', 'blue', 'black'], ['white', 'brown', 'grey']])"
      ]
     },
     "execution_count": 57,
     "metadata": {},
     "output_type": "execute_result"
    }
   ],
   "source": [
    "dict3.values()"
   ]
  },
  {
   "cell_type": "code",
   "execution_count": 56,
   "id": "d827328d",
   "metadata": {},
   "outputs": [
    {
     "data": {
      "text/plain": [
       "dict_items([(1, ['red', 'green', 'yellow']), (2, ['pink', 'blue', 'black']), (3, ['white', 'brown', 'grey'])])"
      ]
     },
     "execution_count": 56,
     "metadata": {},
     "output_type": "execute_result"
    }
   ],
   "source": [
    "dict3.items()"
   ]
  },
  {
   "cell_type": "code",
   "execution_count": 58,
   "id": "daa203cd",
   "metadata": {},
   "outputs": [],
   "source": [
    "dict3.clear()"
   ]
  },
  {
   "cell_type": "code",
   "execution_count": 59,
   "id": "1b151059",
   "metadata": {},
   "outputs": [
    {
     "data": {
      "text/plain": [
       "{}"
      ]
     },
     "execution_count": 59,
     "metadata": {},
     "output_type": "execute_result"
    }
   ],
   "source": [
    "dict3"
   ]
  },
  {
   "cell_type": "code",
   "execution_count": 60,
   "id": "04587d39",
   "metadata": {},
   "outputs": [],
   "source": [
    "del (dict3)"
   ]
  },
  {
   "cell_type": "code",
   "execution_count": 61,
   "id": "1c3864cd",
   "metadata": {},
   "outputs": [
    {
     "ename": "NameError",
     "evalue": "name 'dict3' is not defined",
     "output_type": "error",
     "traceback": [
      "\u001b[1;31m---------------------------------------------------------------------------\u001b[0m",
      "\u001b[1;31mNameError\u001b[0m                                 Traceback (most recent call last)",
      "\u001b[1;32m~\\AppData\\Local\\Temp/ipykernel_38432/2084836329.py\u001b[0m in \u001b[0;36m<module>\u001b[1;34m\u001b[0m\n\u001b[1;32m----> 1\u001b[1;33m \u001b[0mdict3\u001b[0m\u001b[1;33m\u001b[0m\u001b[1;33m\u001b[0m\u001b[0m\n\u001b[0m",
      "\u001b[1;31mNameError\u001b[0m: name 'dict3' is not defined"
     ]
    }
   ],
   "source": [
    "dict3"
   ]
  },
  {
   "cell_type": "markdown",
   "id": "248d8d56",
   "metadata": {},
   "source": [
    "Accessing Elements"
   ]
  },
  {
   "cell_type": "code",
   "execution_count": 64,
   "id": "ee21a86c",
   "metadata": {},
   "outputs": [],
   "source": [
    "d2={'id':[1,2,3],'name':['ABC','GGG','DDD'],'age':[2,4,5]}"
   ]
  },
  {
   "cell_type": "code",
   "execution_count": 65,
   "id": "53323080",
   "metadata": {},
   "outputs": [
    {
     "data": {
      "text/plain": [
       "{'id': [1, 2, 3], 'name': ['ABC', 'GGG', 'DDD'], 'age': [2, 4, 5]}"
      ]
     },
     "execution_count": 65,
     "metadata": {},
     "output_type": "execute_result"
    }
   ],
   "source": [
    "d2"
   ]
  },
  {
   "cell_type": "code",
   "execution_count": 66,
   "id": "753612cc",
   "metadata": {},
   "outputs": [
    {
     "data": {
      "text/plain": [
       "[1, 2, 3]"
      ]
     },
     "execution_count": 66,
     "metadata": {},
     "output_type": "execute_result"
    }
   ],
   "source": [
    "d2['id']"
   ]
  },
  {
   "cell_type": "code",
   "execution_count": 67,
   "id": "60a0664d",
   "metadata": {},
   "outputs": [
    {
     "data": {
      "text/plain": [
       "3"
      ]
     },
     "execution_count": 67,
     "metadata": {},
     "output_type": "execute_result"
    }
   ],
   "source": [
    "d2['id'][2]"
   ]
  },
  {
   "cell_type": "code",
   "execution_count": 68,
   "id": "7e9ea095",
   "metadata": {},
   "outputs": [
    {
     "data": {
      "text/plain": [
       "1"
      ]
     },
     "execution_count": 68,
     "metadata": {},
     "output_type": "execute_result"
    }
   ],
   "source": [
    "d2['id'][0]"
   ]
  },
  {
   "cell_type": "code",
   "execution_count": 69,
   "id": "51ac72a4",
   "metadata": {},
   "outputs": [],
   "source": [
    "d2['id'][0]=900"
   ]
  },
  {
   "cell_type": "code",
   "execution_count": 70,
   "id": "d8aa4656",
   "metadata": {},
   "outputs": [
    {
     "data": {
      "text/plain": [
       "{'id': [900, 2, 3], 'name': ['ABC', 'GGG', 'DDD'], 'age': [2, 4, 5]}"
      ]
     },
     "execution_count": 70,
     "metadata": {},
     "output_type": "execute_result"
    }
   ],
   "source": [
    "d2"
   ]
  },
  {
   "cell_type": "code",
   "execution_count": 71,
   "id": "226de675",
   "metadata": {},
   "outputs": [],
   "source": [
    "d2['name'][1]= 'shalu'"
   ]
  },
  {
   "cell_type": "code",
   "execution_count": 72,
   "id": "c43dbead",
   "metadata": {},
   "outputs": [
    {
     "data": {
      "text/plain": [
       "{'id': [900, 2, 3], 'name': ['ABC', 'shalu', 'DDD'], 'age': [2, 4, 5]}"
      ]
     },
     "execution_count": 72,
     "metadata": {},
     "output_type": "execute_result"
    }
   ],
   "source": [
    "d2"
   ]
  },
  {
   "cell_type": "code",
   "execution_count": 75,
   "id": "90e5856c",
   "metadata": {},
   "outputs": [
    {
     "data": {
      "text/plain": [
       "{'id': [900, 2, 3], 'name': ['ABC', 'shalu', 'DDD'], 'age': [2, 55, 5]}"
      ]
     },
     "execution_count": 75,
     "metadata": {},
     "output_type": "execute_result"
    }
   ],
   "source": [
    "d2['age'][1]=55\n",
    "d2"
   ]
  },
  {
   "cell_type": "code",
   "execution_count": 76,
   "id": "c878be2d",
   "metadata": {},
   "outputs": [
    {
     "data": {
      "text/plain": [
       "5"
      ]
     },
     "execution_count": 76,
     "metadata": {},
     "output_type": "execute_result"
    }
   ],
   "source": [
    "d2['age'][2]"
   ]
  },
  {
   "cell_type": "markdown",
   "id": "80adf215",
   "metadata": {},
   "source": [
    "# SETS"
   ]
  },
  {
   "cell_type": "markdown",
   "id": "707b8d8a",
   "metadata": {},
   "source": [
    "SETS\n",
    "A python set is the collection of the unordered items with no indexing and repeatation and does not support item assignment i.e immutable. We can print all the elements together but cannot access the perticiular element."
   ]
  },
  {
   "cell_type": "code",
   "execution_count": 77,
   "id": "f47146b3",
   "metadata": {},
   "outputs": [
    {
     "data": {
      "text/plain": [
       "{22, 33, 44, 55, 66}"
      ]
     },
     "execution_count": 77,
     "metadata": {},
     "output_type": "execute_result"
    }
   ],
   "source": [
    "set1={22,33,44,55,66}\n",
    "set1"
   ]
  },
  {
   "cell_type": "code",
   "execution_count": 78,
   "id": "3b3c8fa1",
   "metadata": {},
   "outputs": [
    {
     "data": {
      "text/plain": [
       "{77, 88, 99, 100}"
      ]
     },
     "execution_count": 78,
     "metadata": {},
     "output_type": "execute_result"
    }
   ],
   "source": [
    "set2={77,88,99,100}\n",
    "set2"
   ]
  },
  {
   "cell_type": "code",
   "execution_count": 79,
   "id": "7cdf9453",
   "metadata": {},
   "outputs": [
    {
     "data": {
      "text/plain": [
       "{2, 4, 5, 6}"
      ]
     },
     "execution_count": 79,
     "metadata": {},
     "output_type": "execute_result"
    }
   ],
   "source": [
    "x={2,5,4,6,2}\n",
    "x"
   ]
  },
  {
   "cell_type": "code",
   "execution_count": 80,
   "id": "0d156c9d",
   "metadata": {},
   "outputs": [
    {
     "data": {
      "text/plain": [
       "set"
      ]
     },
     "execution_count": 80,
     "metadata": {},
     "output_type": "execute_result"
    }
   ],
   "source": [
    "days={\"Monday\",\"tuesday\",\"Saturday\"}\n",
    "type(days)"
   ]
  },
  {
   "cell_type": "code",
   "execution_count": 81,
   "id": "9daeb46d",
   "metadata": {},
   "outputs": [
    {
     "data": {
      "text/plain": [
       "{'Monday', 'Saturday', 'Sunday', 'tuesday'}"
      ]
     },
     "execution_count": 81,
     "metadata": {},
     "output_type": "execute_result"
    }
   ],
   "source": [
    "days.add(\"Sunday\")\n",
    "days"
   ]
  },
  {
   "cell_type": "code",
   "execution_count": 84,
   "id": "4a7174d5",
   "metadata": {},
   "outputs": [
    {
     "ename": "TypeError",
     "evalue": "'set' object is not subscriptable",
     "output_type": "error",
     "traceback": [
      "\u001b[1;31m---------------------------------------------------------------------------\u001b[0m",
      "\u001b[1;31mTypeError\u001b[0m                                 Traceback (most recent call last)",
      "\u001b[1;32m~\\AppData\\Local\\Temp/ipykernel_38432/393391452.py\u001b[0m in \u001b[0;36m<module>\u001b[1;34m\u001b[0m\n\u001b[1;32m----> 1\u001b[1;33m \u001b[0mprint\u001b[0m\u001b[1;33m(\u001b[0m\u001b[0mdays\u001b[0m\u001b[1;33m[\u001b[0m\u001b[1;36m0\u001b[0m\u001b[1;33m]\u001b[0m\u001b[1;33m)\u001b[0m\u001b[1;33m\u001b[0m\u001b[1;33m\u001b[0m\u001b[0m\n\u001b[0m",
      "\u001b[1;31mTypeError\u001b[0m: 'set' object is not subscriptable"
     ]
    }
   ],
   "source": [
    "print(days[0])"
   ]
  },
  {
   "cell_type": "code",
   "execution_count": 83,
   "id": "15335d5b",
   "metadata": {},
   "outputs": [
    {
     "ename": "TypeError",
     "evalue": "'set' object does not support item assignment",
     "output_type": "error",
     "traceback": [
      "\u001b[1;31m---------------------------------------------------------------------------\u001b[0m",
      "\u001b[1;31mTypeError\u001b[0m                                 Traceback (most recent call last)",
      "\u001b[1;32m~\\AppData\\Local\\Temp/ipykernel_38432/3677605653.py\u001b[0m in \u001b[0;36m<module>\u001b[1;34m\u001b[0m\n\u001b[1;32m----> 1\u001b[1;33m \u001b[0mdays\u001b[0m\u001b[1;33m[\u001b[0m\u001b[1;36m1\u001b[0m\u001b[1;33m]\u001b[0m\u001b[1;33m=\u001b[0m\u001b[1;34m\"June\"\u001b[0m\u001b[1;33m\u001b[0m\u001b[1;33m\u001b[0m\u001b[0m\n\u001b[0m",
      "\u001b[1;31mTypeError\u001b[0m: 'set' object does not support item assignment"
     ]
    }
   ],
   "source": [
    "days[1]=\"June\""
   ]
  },
  {
   "cell_type": "code",
   "execution_count": 85,
   "id": "8febe3ca",
   "metadata": {},
   "outputs": [
    {
     "data": {
      "text/plain": [
       "{'Monday', 'Sunday', 'tuesday'}"
      ]
     },
     "execution_count": 85,
     "metadata": {},
     "output_type": "execute_result"
    }
   ],
   "source": [
    "days.remove(\"Saturday\")\n",
    "days"
   ]
  },
  {
   "cell_type": "code",
   "execution_count": 86,
   "id": "c65210bb",
   "metadata": {},
   "outputs": [
    {
     "data": {
      "text/plain": [
       "'Sunday'"
      ]
     },
     "execution_count": 86,
     "metadata": {},
     "output_type": "execute_result"
    }
   ],
   "source": [
    "days.pop()"
   ]
  },
  {
   "cell_type": "code",
   "execution_count": 87,
   "id": "63cbd250",
   "metadata": {},
   "outputs": [
    {
     "data": {
      "text/plain": [
       "{'Monday', 'tuesday'}"
      ]
     },
     "execution_count": 87,
     "metadata": {},
     "output_type": "execute_result"
    }
   ],
   "source": [
    "days"
   ]
  },
  {
   "cell_type": "code",
   "execution_count": 88,
   "id": "f52ef342",
   "metadata": {},
   "outputs": [
    {
     "data": {
      "text/plain": [
       "set()"
      ]
     },
     "execution_count": 88,
     "metadata": {},
     "output_type": "execute_result"
    }
   ],
   "source": [
    "days.clear()\n",
    "days"
   ]
  },
  {
   "cell_type": "code",
   "execution_count": null,
   "id": "c08b591b",
   "metadata": {},
   "outputs": [],
   "source": []
  }
 ],
 "metadata": {
  "kernelspec": {
   "display_name": "Python 3 (ipykernel)",
   "language": "python",
   "name": "python3"
  },
  "language_info": {
   "codemirror_mode": {
    "name": "ipython",
    "version": 3
   },
   "file_extension": ".py",
   "mimetype": "text/x-python",
   "name": "python",
   "nbconvert_exporter": "python",
   "pygments_lexer": "ipython3",
   "version": "3.9.7"
  }
 },
 "nbformat": 4,
 "nbformat_minor": 5
}
