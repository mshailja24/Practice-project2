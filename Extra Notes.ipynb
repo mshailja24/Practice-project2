{
 "cells": [
  {
   "cell_type": "markdown",
   "id": "080bdca6",
   "metadata": {},
   "source": [
    "# Boolean Evaluation"
   ]
  },
  {
   "cell_type": "markdown",
   "id": "f4f1d6f4",
   "metadata": {},
   "source": [
    "and or not is "
   ]
  },
  {
   "cell_type": "code",
   "execution_count": 1,
   "id": "09bc3c17",
   "metadata": {},
   "outputs": [
    {
     "data": {
      "text/plain": [
       "False"
      ]
     },
     "execution_count": 1,
     "metadata": {},
     "output_type": "execute_result"
    }
   ],
   "source": [
    "True and False"
   ]
  },
  {
   "cell_type": "code",
   "execution_count": 2,
   "id": "345b6a33",
   "metadata": {},
   "outputs": [
    {
     "data": {
      "text/plain": [
       "True"
      ]
     },
     "execution_count": 2,
     "metadata": {},
     "output_type": "execute_result"
    }
   ],
   "source": [
    "True or False"
   ]
  },
  {
   "cell_type": "code",
   "execution_count": 2,
   "id": "188d928c",
   "metadata": {},
   "outputs": [
    {
     "data": {
      "text/plain": [
       "True"
      ]
     },
     "execution_count": 2,
     "metadata": {},
     "output_type": "execute_result"
    }
   ],
   "source": [
    " False or True"
   ]
  },
  {
   "cell_type": "code",
   "execution_count": 3,
   "id": "ddd060e2",
   "metadata": {},
   "outputs": [
    {
     "data": {
      "text/plain": [
       "False"
      ]
     },
     "execution_count": 3,
     "metadata": {},
     "output_type": "execute_result"
    }
   ],
   "source": [
    "False or False"
   ]
  },
  {
   "cell_type": "code",
   "execution_count": 4,
   "id": "037a480e",
   "metadata": {},
   "outputs": [
    {
     "data": {
      "text/plain": [
       "True"
      ]
     },
     "execution_count": 4,
     "metadata": {},
     "output_type": "execute_result"
    }
   ],
   "source": [
    "True or False"
   ]
  },
  {
   "cell_type": "code",
   "execution_count": 5,
   "id": "48b2ae4f",
   "metadata": {},
   "outputs": [
    {
     "data": {
      "text/plain": [
       "False"
      ]
     },
     "execution_count": 5,
     "metadata": {},
     "output_type": "execute_result"
    }
   ],
   "source": [
    "True is False"
   ]
  },
  {
   "cell_type": "code",
   "execution_count": 6,
   "id": "c426cacb",
   "metadata": {},
   "outputs": [
    {
     "data": {
      "text/plain": [
       "False"
      ]
     },
     "execution_count": 6,
     "metadata": {},
     "output_type": "execute_result"
    }
   ],
   "source": [
    "False is True"
   ]
  },
  {
   "cell_type": "code",
   "execution_count": 7,
   "id": "cde8cde0",
   "metadata": {},
   "outputs": [
    {
     "data": {
      "text/plain": [
       "False"
      ]
     },
     "execution_count": 7,
     "metadata": {},
     "output_type": "execute_result"
    }
   ],
   "source": [
    "not True"
   ]
  },
  {
   "cell_type": "code",
   "execution_count": 8,
   "id": "3fcd1b0b",
   "metadata": {},
   "outputs": [
    {
     "data": {
      "text/plain": [
       "True"
      ]
     },
     "execution_count": 8,
     "metadata": {},
     "output_type": "execute_result"
    }
   ],
   "source": [
    "not False"
   ]
  },
  {
   "cell_type": "code",
   "execution_count": 9,
   "id": "0206ec44",
   "metadata": {},
   "outputs": [
    {
     "data": {
      "text/plain": [
       "True"
      ]
     },
     "execution_count": 9,
     "metadata": {},
     "output_type": "execute_result"
    }
   ],
   "source": [
    "True is True"
   ]
  },
  {
   "cell_type": "code",
   "execution_count": 10,
   "id": "1f46eb3d",
   "metadata": {},
   "outputs": [
    {
     "data": {
      "text/plain": [
       "2"
      ]
     },
     "execution_count": 10,
     "metadata": {},
     "output_type": "execute_result"
    }
   ],
   "source": [
    "True + True"
   ]
  },
  {
   "cell_type": "code",
   "execution_count": 11,
   "id": "a5c0866d",
   "metadata": {},
   "outputs": [
    {
     "data": {
      "text/plain": [
       "1"
      ]
     },
     "execution_count": 11,
     "metadata": {},
     "output_type": "execute_result"
    }
   ],
   "source": [
    "True +  False"
   ]
  },
  {
   "cell_type": "code",
   "execution_count": 12,
   "id": "4f64f2f5",
   "metadata": {},
   "outputs": [
    {
     "data": {
      "text/plain": [
       "0"
      ]
     },
     "execution_count": 12,
     "metadata": {},
     "output_type": "execute_result"
    }
   ],
   "source": [
    "True - True"
   ]
  },
  {
   "cell_type": "code",
   "execution_count": 13,
   "id": "9274f6bd",
   "metadata": {},
   "outputs": [
    {
     "data": {
      "text/plain": [
       "0"
      ]
     },
     "execution_count": 13,
     "metadata": {},
     "output_type": "execute_result"
    }
   ],
   "source": [
    "False - False"
   ]
  },
  {
   "cell_type": "code",
   "execution_count": 14,
   "id": "3c151334",
   "metadata": {},
   "outputs": [
    {
     "data": {
      "text/plain": [
       "1"
      ]
     },
     "execution_count": 14,
     "metadata": {},
     "output_type": "execute_result"
    }
   ],
   "source": [
    "True - False"
   ]
  },
  {
   "cell_type": "code",
   "execution_count": 15,
   "id": "d3c68c8c",
   "metadata": {},
   "outputs": [
    {
     "data": {
      "text/plain": [
       "True"
      ]
     },
     "execution_count": 15,
     "metadata": {},
     "output_type": "execute_result"
    }
   ],
   "source": [
    "10==10"
   ]
  },
  {
   "cell_type": "code",
   "execution_count": 18,
   "id": "de235280",
   "metadata": {},
   "outputs": [
    {
     "data": {
      "text/plain": [
       "False"
      ]
     },
     "execution_count": 18,
     "metadata": {},
     "output_type": "execute_result"
    }
   ],
   "source": [
    "10<=9"
   ]
  },
  {
   "cell_type": "code",
   "execution_count": 19,
   "id": "5a14fd71",
   "metadata": {},
   "outputs": [
    {
     "data": {
      "text/plain": [
       "True"
      ]
     },
     "execution_count": 19,
     "metadata": {},
     "output_type": "execute_result"
    }
   ],
   "source": [
    "10>=9"
   ]
  },
  {
   "cell_type": "code",
   "execution_count": 20,
   "id": "552fa827",
   "metadata": {},
   "outputs": [
    {
     "data": {
      "text/plain": [
       "-1"
      ]
     },
     "execution_count": 20,
     "metadata": {},
     "output_type": "execute_result"
    }
   ],
   "source": [
    "False - True"
   ]
  },
  {
   "cell_type": "code",
   "execution_count": 21,
   "id": "50edff2f",
   "metadata": {},
   "outputs": [
    {
     "data": {
      "text/plain": [
       "True"
      ]
     },
     "execution_count": 21,
     "metadata": {},
     "output_type": "execute_result"
    }
   ],
   "source": [
    "True and False or True"
   ]
  },
  {
   "cell_type": "markdown",
   "id": "93949afb",
   "metadata": {},
   "source": [
    "# Heading"
   ]
  },
  {
   "cell_type": "markdown",
   "id": "430c8003",
   "metadata": {},
   "source": [
    "## Heading"
   ]
  },
  {
   "cell_type": "markdown",
   "id": "f586183a",
   "metadata": {},
   "source": [
    "### Heading"
   ]
  },
  {
   "cell_type": "markdown",
   "id": "bd22db3c",
   "metadata": {},
   "source": [
    "# If/Else/Elif"
   ]
  },
  {
   "cell_type": "code",
   "execution_count": 25,
   "id": "e44326bb",
   "metadata": {},
   "outputs": [
    {
     "name": "stdout",
     "output_type": "stream",
     "text": [
      "a\n",
      "b\n"
     ]
    }
   ],
   "source": [
    "x=50\n",
    "\n",
    "if x<100:\n",
    "    print('a')\n",
    "    if x<200:\n",
    "        print('b')\n",
    "else:\n",
    "    print('c')        "
   ]
  },
  {
   "cell_type": "code",
   "execution_count": 27,
   "id": "312486b3",
   "metadata": {},
   "outputs": [
    {
     "name": "stdout",
     "output_type": "stream",
     "text": [
      "c\n"
     ]
    }
   ],
   "source": [
    "i=35\n",
    "j=32\n",
    "k=35\n",
    "\n",
    "if i>j:\n",
    "    if j>k:\n",
    "        if k=='20':\n",
    "            print('a')\n",
    "                \n",
    "        else:\n",
    "            print('b')\n",
    "    else:\n",
    "        print('c')\n",
    "else:\n",
    "    print('d')\n",
    "        "
   ]
  },
  {
   "cell_type": "markdown",
   "id": "bc5ff375",
   "metadata": {},
   "source": [
    "# LIST"
   ]
  },
  {
   "cell_type": "code",
   "execution_count": 33,
   "id": "669c047f",
   "metadata": {},
   "outputs": [
    {
     "data": {
      "text/plain": [
       "['a', 21, 25.5, 'b']"
      ]
     },
     "execution_count": 33,
     "metadata": {},
     "output_type": "execute_result"
    }
   ],
   "source": [
    "l=['a',21,25.5,'b']\n",
    "l"
   ]
  },
  {
   "cell_type": "code",
   "execution_count": 36,
   "id": "1cee38ef",
   "metadata": {},
   "outputs": [
    {
     "data": {
      "text/plain": [
       "['a', 'b', 's', 'd', 'e', 'f', 'g', 'h']"
      ]
     },
     "execution_count": 36,
     "metadata": {},
     "output_type": "execute_result"
    }
   ],
   "source": [
    "list('absdefgh')"
   ]
  },
  {
   "cell_type": "code",
   "execution_count": 37,
   "id": "4f17c691",
   "metadata": {},
   "outputs": [
    {
     "data": {
      "text/plain": [
       "['a', 'b']"
      ]
     },
     "execution_count": 37,
     "metadata": {},
     "output_type": "execute_result"
    }
   ],
   "source": [
    "l=[]\n",
    "l.append('a')\n",
    "l.append('b')\n",
    "l"
   ]
  },
  {
   "cell_type": "code",
   "execution_count": 43,
   "id": "8e627fb4",
   "metadata": {},
   "outputs": [
    {
     "data": {
      "text/plain": [
       "['c', 'c', 'c', 'c', 'a', 'b']"
      ]
     },
     "execution_count": 43,
     "metadata": {},
     "output_type": "execute_result"
    }
   ],
   "source": [
    "l.insert(1,'c')\n",
    "l"
   ]
  },
  {
   "cell_type": "code",
   "execution_count": 46,
   "id": "75be7dcf",
   "metadata": {},
   "outputs": [
    {
     "data": {
      "text/plain": [
       "6"
      ]
     },
     "execution_count": 46,
     "metadata": {},
     "output_type": "execute_result"
    }
   ],
   "source": [
    "len(l)"
   ]
  },
  {
   "cell_type": "code",
   "execution_count": 47,
   "id": "6eb91d5e",
   "metadata": {},
   "outputs": [
    {
     "data": {
      "text/plain": [
       "['c', 'c', 'c', 'c', 'a', 'b']"
      ]
     },
     "execution_count": 47,
     "metadata": {},
     "output_type": "execute_result"
    }
   ],
   "source": [
    "l[:]"
   ]
  },
  {
   "cell_type": "code",
   "execution_count": 48,
   "id": "3d3653a3",
   "metadata": {},
   "outputs": [
    {
     "data": {
      "text/plain": [
       "['c', 'c', 'c', 'c', 'a']"
      ]
     },
     "execution_count": 48,
     "metadata": {},
     "output_type": "execute_result"
    }
   ],
   "source": [
    "l[0:5]"
   ]
  },
  {
   "cell_type": "code",
   "execution_count": 49,
   "id": "c1512f84",
   "metadata": {},
   "outputs": [
    {
     "data": {
      "text/plain": [
       "['c', 'c', 'c', 'c', 'a', 'b']"
      ]
     },
     "execution_count": 49,
     "metadata": {},
     "output_type": "execute_result"
    }
   ],
   "source": [
    "l[0:6]"
   ]
  },
  {
   "cell_type": "code",
   "execution_count": 50,
   "id": "1c00b623",
   "metadata": {},
   "outputs": [
    {
     "data": {
      "text/plain": [
       "['c', 'c', 'c']"
      ]
     },
     "execution_count": 50,
     "metadata": {},
     "output_type": "execute_result"
    }
   ],
   "source": [
    "l[0:3]"
   ]
  },
  {
   "cell_type": "code",
   "execution_count": 51,
   "id": "3928fcdb",
   "metadata": {},
   "outputs": [
    {
     "data": {
      "text/plain": [
       "['c', 'c', 'c', 'c', 'a', 'b']"
      ]
     },
     "execution_count": 51,
     "metadata": {},
     "output_type": "execute_result"
    }
   ],
   "source": [
    "l[:6]"
   ]
  },
  {
   "cell_type": "code",
   "execution_count": 52,
   "id": "814b15fe",
   "metadata": {},
   "outputs": [
    {
     "data": {
      "text/plain": [
       "['c']"
      ]
     },
     "execution_count": 52,
     "metadata": {},
     "output_type": "execute_result"
    }
   ],
   "source": [
    "l[:1]"
   ]
  },
  {
   "cell_type": "code",
   "execution_count": 53,
   "id": "0f3e6eb6",
   "metadata": {},
   "outputs": [
    {
     "data": {
      "text/plain": [
       "['c', 'c', 'c', 'a', 'b']"
      ]
     },
     "execution_count": 53,
     "metadata": {},
     "output_type": "execute_result"
    }
   ],
   "source": [
    "l[1:]"
   ]
  },
  {
   "cell_type": "code",
   "execution_count": 54,
   "id": "683d8792",
   "metadata": {},
   "outputs": [
    {
     "data": {
      "text/plain": [
       "['c', 'c', 'c', 'c', 'a', 'b']"
      ]
     },
     "execution_count": 54,
     "metadata": {},
     "output_type": "execute_result"
    }
   ],
   "source": [
    "l"
   ]
  },
  {
   "cell_type": "code",
   "execution_count": 55,
   "id": "c40d39d4",
   "metadata": {},
   "outputs": [
    {
     "data": {
      "text/plain": [
       "0"
      ]
     },
     "execution_count": 55,
     "metadata": {},
     "output_type": "execute_result"
    }
   ],
   "source": [
    "l.index('c')"
   ]
  },
  {
   "cell_type": "code",
   "execution_count": 56,
   "id": "accd6425",
   "metadata": {},
   "outputs": [
    {
     "data": {
      "text/plain": [
       "5"
      ]
     },
     "execution_count": 56,
     "metadata": {},
     "output_type": "execute_result"
    }
   ],
   "source": [
    "l.index('b')"
   ]
  },
  {
   "cell_type": "markdown",
   "id": "b38e0952",
   "metadata": {},
   "source": [
    "# POP----extream right data popped"
   ]
  },
  {
   "cell_type": "code",
   "execution_count": 62,
   "id": "e0744eb0",
   "metadata": {},
   "outputs": [
    {
     "data": {
      "text/plain": [
       "[12, 14, 16, 18]"
      ]
     },
     "execution_count": 62,
     "metadata": {},
     "output_type": "execute_result"
    }
   ],
   "source": [
    "l1=[12,14,16,18]\n",
    "l1"
   ]
  },
  {
   "cell_type": "code",
   "execution_count": 63,
   "id": "58ffe67b",
   "metadata": {},
   "outputs": [
    {
     "data": {
      "text/plain": [
       "[12, 14, 16]"
      ]
     },
     "execution_count": 63,
     "metadata": {},
     "output_type": "execute_result"
    }
   ],
   "source": [
    "ele=l1.pop()\n",
    "l1"
   ]
  },
  {
   "cell_type": "code",
   "execution_count": 64,
   "id": "118073fc",
   "metadata": {},
   "outputs": [
    {
     "data": {
      "text/plain": [
       "18"
      ]
     },
     "execution_count": 64,
     "metadata": {},
     "output_type": "execute_result"
    }
   ],
   "source": [
    "ele"
   ]
  },
  {
   "cell_type": "code",
   "execution_count": 65,
   "id": "2105d95d",
   "metadata": {},
   "outputs": [
    {
     "data": {
      "text/plain": [
       "[12, 14]"
      ]
     },
     "execution_count": 65,
     "metadata": {},
     "output_type": "execute_result"
    }
   ],
   "source": [
    "l1.remove(16)\n",
    "l1"
   ]
  },
  {
   "cell_type": "code",
   "execution_count": 68,
   "id": "399ecf8d",
   "metadata": {},
   "outputs": [
    {
     "data": {
      "text/plain": [
       "[14, 12]"
      ]
     },
     "execution_count": 68,
     "metadata": {},
     "output_type": "execute_result"
    }
   ],
   "source": [
    "l1.reverse()\n",
    "l1"
   ]
  },
  {
   "cell_type": "code",
   "execution_count": 70,
   "id": "c013b3ff",
   "metadata": {},
   "outputs": [
    {
     "data": {
      "text/plain": [
       "[12, 14]"
      ]
     },
     "execution_count": 70,
     "metadata": {},
     "output_type": "execute_result"
    }
   ],
   "source": [
    "l1.sort()\n",
    "l1"
   ]
  },
  {
   "cell_type": "code",
   "execution_count": 71,
   "id": "dccf0878",
   "metadata": {},
   "outputs": [
    {
     "data": {
      "text/plain": [
       "[12, 14]"
      ]
     },
     "execution_count": 71,
     "metadata": {},
     "output_type": "execute_result"
    }
   ],
   "source": [
    "l1.copy()\n",
    "l1"
   ]
  },
  {
   "cell_type": "markdown",
   "id": "6cac4ceb",
   "metadata": {},
   "source": [
    "how to see all the method in note book?\n",
    "type l. then press tab botton \n",
    "          or\n",
    "run the code -----> !pip3 install jedi==0.17.2  "
   ]
  },
  {
   "cell_type": "markdown",
   "id": "170b89d9",
   "metadata": {},
   "source": [
    "# SET"
   ]
  },
  {
   "cell_type": "code",
   "execution_count": 73,
   "id": "bca7ef4f",
   "metadata": {},
   "outputs": [],
   "source": [
    "x=set()"
   ]
  },
  {
   "cell_type": "code",
   "execution_count": 75,
   "id": "492363c1",
   "metadata": {},
   "outputs": [
    {
     "data": {
      "text/plain": [
       "{1}"
      ]
     },
     "execution_count": 75,
     "metadata": {},
     "output_type": "execute_result"
    }
   ],
   "source": [
    "x.add(1)\n",
    "x"
   ]
  },
  {
   "cell_type": "code",
   "execution_count": 76,
   "id": "1d73bb03",
   "metadata": {},
   "outputs": [
    {
     "data": {
      "text/plain": [
       "{1, 2}"
      ]
     },
     "execution_count": 76,
     "metadata": {},
     "output_type": "execute_result"
    }
   ],
   "source": [
    "x.add(2)\n",
    "x"
   ]
  },
  {
   "cell_type": "code",
   "execution_count": 77,
   "id": "74424ba6",
   "metadata": {},
   "outputs": [
    {
     "data": {
      "text/plain": [
       "{1, 2}"
      ]
     },
     "execution_count": 77,
     "metadata": {},
     "output_type": "execute_result"
    }
   ],
   "source": [
    "#cannot add duplicate data\n",
    "x.add(2)\n",
    "x"
   ]
  },
  {
   "cell_type": "code",
   "execution_count": 81,
   "id": "dc8a8336",
   "metadata": {},
   "outputs": [
    {
     "data": {
      "text/plain": [
       "{1, 2, 3, 4, 5, 6, 7}"
      ]
     },
     "execution_count": 81,
     "metadata": {},
     "output_type": "execute_result"
    }
   ],
   "source": [
    "l=[1,2,3,4,5,6,7,1,2,5,6]\n",
    "l\n",
    "set(l)"
   ]
  },
  {
   "cell_type": "markdown",
   "id": "143b1c5f",
   "metadata": {},
   "source": [
    "# TUPLE"
   ]
  },
  {
   "cell_type": "code",
   "execution_count": 2,
   "id": "2433867a",
   "metadata": {},
   "outputs": [
    {
     "data": {
      "text/plain": [
       "(1, 2, 3)"
      ]
     },
     "execution_count": 2,
     "metadata": {},
     "output_type": "execute_result"
    }
   ],
   "source": [
    "t=(1,2,3)\n",
    "t"
   ]
  },
  {
   "cell_type": "code",
   "execution_count": 3,
   "id": "b5d6ec4b",
   "metadata": {},
   "outputs": [
    {
     "data": {
      "text/plain": [
       "tuple"
      ]
     },
     "execution_count": 3,
     "metadata": {},
     "output_type": "execute_result"
    }
   ],
   "source": [
    "type(t)"
   ]
  },
  {
   "cell_type": "code",
   "execution_count": 4,
   "id": "14dfb9ff",
   "metadata": {},
   "outputs": [
    {
     "data": {
      "text/plain": [
       "[1, 2, 3]"
      ]
     },
     "execution_count": 4,
     "metadata": {},
     "output_type": "execute_result"
    }
   ],
   "source": [
    "list(t)"
   ]
  },
  {
   "cell_type": "code",
   "execution_count": 5,
   "id": "1c044f0a",
   "metadata": {},
   "outputs": [
    {
     "data": {
      "text/plain": [
       "(1, 2, 3)"
      ]
     },
     "execution_count": 5,
     "metadata": {},
     "output_type": "execute_result"
    }
   ],
   "source": [
    "tuple(t)"
   ]
  },
  {
   "cell_type": "code",
   "execution_count": 6,
   "id": "7a92e332",
   "metadata": {},
   "outputs": [
    {
     "data": {
      "text/plain": [
       "[1, 2, 3]"
      ]
     },
     "execution_count": 6,
     "metadata": {},
     "output_type": "execute_result"
    }
   ],
   "source": [
    "#changing it to list and then updating data in tuple \n",
    "\n",
    "list(t)"
   ]
  },
  {
   "cell_type": "code",
   "execution_count": 9,
   "id": "6553838c",
   "metadata": {},
   "outputs": [
    {
     "data": {
      "text/plain": [
       "(1, 2, 3)"
      ]
     },
     "execution_count": 9,
     "metadata": {},
     "output_type": "execute_result"
    }
   ],
   "source": [
    "t"
   ]
  },
  {
   "cell_type": "code",
   "execution_count": 11,
   "id": "c720af33",
   "metadata": {},
   "outputs": [
    {
     "data": {
      "text/plain": [
       "[1, 2, 3]"
      ]
     },
     "execution_count": 11,
     "metadata": {},
     "output_type": "execute_result"
    }
   ],
   "source": [
    "a=list(t)\n",
    "a"
   ]
  },
  {
   "cell_type": "code",
   "execution_count": 13,
   "id": "b83db7e8",
   "metadata": {},
   "outputs": [
    {
     "data": {
      "text/plain": [
       "[100, 2, 3]"
      ]
     },
     "execution_count": 13,
     "metadata": {},
     "output_type": "execute_result"
    }
   ],
   "source": [
    "a[0]=100\n",
    "a"
   ]
  },
  {
   "cell_type": "code",
   "execution_count": 14,
   "id": "a72c4082",
   "metadata": {},
   "outputs": [
    {
     "data": {
      "text/plain": [
       "[100, 2, 3]"
      ]
     },
     "execution_count": 14,
     "metadata": {},
     "output_type": "execute_result"
    }
   ],
   "source": [
    "tuple(a)\n",
    "a"
   ]
  },
  {
   "cell_type": "code",
   "execution_count": 15,
   "id": "af5aae6a",
   "metadata": {},
   "outputs": [
    {
     "data": {
      "text/plain": [
       "3"
      ]
     },
     "execution_count": 15,
     "metadata": {},
     "output_type": "execute_result"
    }
   ],
   "source": [
    "len(a)"
   ]
  },
  {
   "cell_type": "code",
   "execution_count": 17,
   "id": "948146d6",
   "metadata": {},
   "outputs": [
    {
     "data": {
      "text/plain": [
       "2"
      ]
     },
     "execution_count": 17,
     "metadata": {},
     "output_type": "execute_result"
    }
   ],
   "source": [
    "t[1]"
   ]
  },
  {
   "cell_type": "code",
   "execution_count": 18,
   "id": "368fc499",
   "metadata": {},
   "outputs": [
    {
     "data": {
      "text/plain": [
       "100"
      ]
     },
     "execution_count": 18,
     "metadata": {},
     "output_type": "execute_result"
    }
   ],
   "source": [
    "a[0]"
   ]
  },
  {
   "cell_type": "code",
   "execution_count": 19,
   "id": "93c13926",
   "metadata": {},
   "outputs": [
    {
     "data": {
      "text/plain": [
       "1"
      ]
     },
     "execution_count": 19,
     "metadata": {},
     "output_type": "execute_result"
    }
   ],
   "source": [
    "#how many times data is present\n",
    ".count(2)"
   ]
  },
  {
   "cell_type": "code",
   "execution_count": 21,
   "id": "4695cfdd",
   "metadata": {},
   "outputs": [
    {
     "data": {
      "text/plain": [
       "1"
      ]
     },
     "execution_count": 21,
     "metadata": {},
     "output_type": "execute_result"
    }
   ],
   "source": [
    "t.count(3)"
   ]
  },
  {
   "cell_type": "markdown",
   "id": "3b81eabc",
   "metadata": {},
   "source": [
    "# Dictionary"
   ]
  },
  {
   "cell_type": "code",
   "execution_count": 22,
   "id": "3b123ccb",
   "metadata": {},
   "outputs": [
    {
     "data": {
      "text/plain": [
       "{'key1': 'Value1', 'Key2': 'Value2'}"
      ]
     },
     "execution_count": 22,
     "metadata": {},
     "output_type": "execute_result"
    }
   ],
   "source": [
    "d1={'key1':'Value1','Key2':'Value2'}\n",
    "d1"
   ]
  },
  {
   "cell_type": "code",
   "execution_count": 23,
   "id": "6bb585e8",
   "metadata": {},
   "outputs": [
    {
     "data": {
      "text/plain": [
       "'Value1'"
      ]
     },
     "execution_count": 23,
     "metadata": {},
     "output_type": "execute_result"
    }
   ],
   "source": [
    "d1['key1']"
   ]
  },
  {
   "cell_type": "code",
   "execution_count": 26,
   "id": "b9cb0b1e",
   "metadata": {},
   "outputs": [
    {
     "data": {
      "text/plain": [
       "{'name': ['ram', 'shyam', 'pia'],\n",
       " 'class': [2, 3, 4],\n",
       " 'score': [10.5, 11.5, 12.5]}"
      ]
     },
     "execution_count": 26,
     "metadata": {},
     "output_type": "execute_result"
    }
   ],
   "source": [
    "d2={'name':['ram','shyam','pia'],'class':[2,3,4],'score':[10.5,11.5,12.5]}\n",
    "d2"
   ]
  },
  {
   "cell_type": "code",
   "execution_count": 27,
   "id": "c7864ff0",
   "metadata": {},
   "outputs": [
    {
     "data": {
      "text/plain": [
       "'ram'"
      ]
     },
     "execution_count": 27,
     "metadata": {},
     "output_type": "execute_result"
    }
   ],
   "source": [
    "d2['name'][0]"
   ]
  },
  {
   "cell_type": "code",
   "execution_count": 28,
   "id": "b3808dd8",
   "metadata": {},
   "outputs": [
    {
     "data": {
      "text/plain": [
       "'SHYAM'"
      ]
     },
     "execution_count": 28,
     "metadata": {},
     "output_type": "execute_result"
    }
   ],
   "source": [
    "d2['name'][1].upper()"
   ]
  },
  {
   "cell_type": "code",
   "execution_count": 29,
   "id": "11c42ec0",
   "metadata": {},
   "outputs": [
    {
     "data": {
      "text/plain": [
       "'ram'"
      ]
     },
     "execution_count": 29,
     "metadata": {},
     "output_type": "execute_result"
    }
   ],
   "source": [
    "d2['name'][0].lower()"
   ]
  },
  {
   "cell_type": "code",
   "execution_count": 31,
   "id": "fb70ddb9",
   "metadata": {},
   "outputs": [
    {
     "data": {
      "text/plain": [
       "{'key1': '123'}"
      ]
     },
     "execution_count": 31,
     "metadata": {},
     "output_type": "execute_result"
    }
   ],
   "source": [
    "d3={'key1':'123'}\n",
    "d3"
   ]
  },
  {
   "cell_type": "code",
   "execution_count": 44,
   "id": "5177cdb7",
   "metadata": {},
   "outputs": [
    {
     "data": {
      "text/plain": [
       "{'Key1': 123, 'key2': [12, 23, 33], 'key3': ['item0', 'item1', 'item2']}"
      ]
     },
     "execution_count": 44,
     "metadata": {},
     "output_type": "execute_result"
    }
   ],
   "source": [
    "my_dict={'Key1':123,'key2':[12,23,33],'key3':['item0','item1','item2']}\n",
    "my_dict"
   ]
  },
  {
   "cell_type": "code",
   "execution_count": 52,
   "id": "e0130f36",
   "metadata": {},
   "outputs": [
    {
     "data": {
      "text/plain": [
       "{}"
      ]
     },
     "execution_count": 52,
     "metadata": {},
     "output_type": "execute_result"
    }
   ],
   "source": [
    "d={}\n",
    "d"
   ]
  },
  {
   "cell_type": "code",
   "execution_count": 53,
   "id": "e4b57f22",
   "metadata": {},
   "outputs": [
    {
     "data": {
      "text/plain": [
       "{'animal': 'dog'}"
      ]
     },
     "execution_count": 53,
     "metadata": {},
     "output_type": "execute_result"
    }
   ],
   "source": [
    "d['animal']='dog'\n",
    "d"
   ]
  },
  {
   "cell_type": "code",
   "execution_count": 54,
   "id": "1c412b04",
   "metadata": {},
   "outputs": [
    {
     "data": {
      "text/plain": [
       "{'animal': 'dog', 'sound': 'bark'}"
      ]
     },
     "execution_count": 54,
     "metadata": {},
     "output_type": "execute_result"
    }
   ],
   "source": [
    "d['sound']='bark'\n",
    "d"
   ]
  },
  {
   "cell_type": "code",
   "execution_count": 55,
   "id": "99fc4a0c",
   "metadata": {},
   "outputs": [
    {
     "data": {
      "text/plain": [
       "dict_keys(['animal', 'sound'])"
      ]
     },
     "execution_count": 55,
     "metadata": {},
     "output_type": "execute_result"
    }
   ],
   "source": [
    "d.keys()"
   ]
  },
  {
   "cell_type": "code",
   "execution_count": 56,
   "id": "d13f0a82",
   "metadata": {},
   "outputs": [
    {
     "data": {
      "text/plain": [
       "dict_values(['dog', 'bark'])"
      ]
     },
     "execution_count": 56,
     "metadata": {},
     "output_type": "execute_result"
    }
   ],
   "source": [
    "d.values()"
   ]
  },
  {
   "cell_type": "code",
   "execution_count": 57,
   "id": "6222ec8f",
   "metadata": {},
   "outputs": [
    {
     "data": {
      "text/plain": [
       "dict_items([('animal', 'dog'), ('sound', 'bark')])"
      ]
     },
     "execution_count": 57,
     "metadata": {},
     "output_type": "execute_result"
    }
   ],
   "source": [
    "d.items()"
   ]
  },
  {
   "cell_type": "markdown",
   "id": "97bbb1d6",
   "metadata": {},
   "source": [
    "# For Loop"
   ]
  },
  {
   "cell_type": "code",
   "execution_count": 3,
   "id": "5bc27989",
   "metadata": {},
   "outputs": [
    {
     "name": "stdout",
     "output_type": "stream",
     "text": [
      "Income_tilldate= 100\n",
      "Income_tilldate= 300\n",
      "Income_tilldate= 600\n",
      "Income_tilldate= 1000\n",
      "Four days income= 1000\n"
     ]
    }
   ],
   "source": [
    "daily_sales=[100,200,300,400]\n",
    "income_tilldate=0\n",
    "for i in daily_sales:\n",
    "    income_tilldate=income_tilldate+i\n",
    "    print('Income_tilldate=',income_tilldate)\n",
    "print('Four days income=',income_tilldate)   "
   ]
  },
  {
   "cell_type": "markdown",
   "id": "6bc3d67b",
   "metadata": {},
   "source": [
    "For loop with else"
   ]
  },
  {
   "cell_type": "code",
   "execution_count": 4,
   "id": "587d7908",
   "metadata": {},
   "outputs": [
    {
     "name": "stdout",
     "output_type": "stream",
     "text": [
      "1\n",
      "2\n",
      "3\n",
      "4\n",
      "loop ends and no data left\n"
     ]
    }
   ],
   "source": [
    "digits=[1,2,3,4]\n",
    "for i in digits:\n",
    "    print(i)\n",
    "else:\n",
    "    print('loop ends and no data left')"
   ]
  },
  {
   "cell_type": "markdown",
   "id": "9cd808ca",
   "metadata": {},
   "source": [
    "# While Loop"
   ]
  },
  {
   "cell_type": "code",
   "execution_count": 5,
   "id": "56367f2c",
   "metadata": {},
   "outputs": [
    {
     "name": "stdout",
     "output_type": "stream",
     "text": [
      "1\n",
      "3\n",
      "6\n",
      "10\n",
      "15\n",
      "21\n",
      "28\n",
      "36\n",
      "45\n",
      "55\n",
      "The sum is= 55\n"
     ]
    }
   ],
   "source": [
    "n=10\n",
    "sum=0           #sum initialisation\n",
    "i=1             #counter initialisation\n",
    "\n",
    "while i<=n:   #(will update this by adding counter i=1,2,3,4,5,6,7,8,9,10,11) #this is the first condn and must be always true then only loop will continue and control will come inside\n",
    "    sum=sum+i   # since 1st statement is true this is executing\n",
    "    i=i+1       #update counter if this is not updated loop will be keep on running. We are doing this to make the first statement wrong/False at sometime(when i is not less than or equals to n) otherwise loop will continue and leads to hangup.\n",
    "    print(sum)\n",
    "print('The sum is=',sum)    \n",
    "    "
   ]
  },
  {
   "cell_type": "markdown",
   "id": "05a18a73",
   "metadata": {},
   "source": [
    "# break & continue"
   ]
  },
  {
   "cell_type": "code",
   "execution_count": 10,
   "id": "a20a898e",
   "metadata": {},
   "outputs": [
    {
     "name": "stdout",
     "output_type": "stream",
     "text": [
      "Goa\n",
      "Bhopal\n"
     ]
    }
   ],
   "source": [
    "#use of break statement in for loop\n",
    "\n",
    "city=['Goa','Bhopal','Delhi','Shimla']\n",
    "for i in city:\n",
    "    if i=='Delhi':\n",
    "        \n",
    "        break\n",
    "    print(i)\n",
    "   "
   ]
  },
  {
   "cell_type": "code",
   "execution_count": 13,
   "id": "cb2d8a62",
   "metadata": {},
   "outputs": [
    {
     "name": "stdout",
     "output_type": "stream",
     "text": [
      "2000\n",
      "3000\n",
      "4000\n",
      "5000\n"
     ]
    }
   ],
   "source": [
    "salary=[2000,3000,4000,5000,8000]\n",
    "for i in salary:\n",
    "    if i>5500:\n",
    "        break\n",
    "    print(i)   "
   ]
  },
  {
   "cell_type": "code",
   "execution_count": 14,
   "id": "b7097ffc",
   "metadata": {},
   "outputs": [
    {
     "name": "stdout",
     "output_type": "stream",
     "text": [
      "Goa\n",
      "Bhopal\n",
      "Shimla\n"
     ]
    }
   ],
   "source": [
    "city=['Goa','Bhopal','Delhi','Shimla']\n",
    "for i in city:\n",
    "    if i=='Delhi':\n",
    "        \n",
    "        continue     #it will send the control back to for statement not print statement so it will skip Delhi and execute for loop for next city i.e. Shimla\n",
    "    print(i)\n",
    "   "
   ]
  },
  {
   "cell_type": "code",
   "execution_count": 16,
   "id": "ea3aa2b9",
   "metadata": {},
   "outputs": [
    {
     "name": "stdout",
     "output_type": "stream",
     "text": [
      "2000\n",
      "3000\n",
      "4000\n",
      "5000\n",
      "The End\n"
     ]
    }
   ],
   "source": [
    "salary=[2000,3000,4000,5000,8000]\n",
    "for i in salary:\n",
    "    if i>5500:\n",
    "        continue\n",
    "    print(i)\n",
    "print('The End')    \n",
    "    "
   ]
  },
  {
   "cell_type": "markdown",
   "id": "e877601e",
   "metadata": {},
   "source": [
    "# Range Function"
   ]
  },
  {
   "cell_type": "code",
   "execution_count": 17,
   "id": "6724b645",
   "metadata": {},
   "outputs": [
    {
     "name": "stdout",
     "output_type": "stream",
     "text": [
      "range(0, 10)\n"
     ]
    }
   ],
   "source": [
    "print(range(10))"
   ]
  },
  {
   "cell_type": "code",
   "execution_count": 18,
   "id": "ad8df0e1",
   "metadata": {},
   "outputs": [
    {
     "name": "stdout",
     "output_type": "stream",
     "text": [
      "[0, 1, 2, 3, 4, 5, 6, 7, 8, 9]\n"
     ]
    }
   ],
   "source": [
    "print(list(range(10)))"
   ]
  },
  {
   "cell_type": "code",
   "execution_count": 19,
   "id": "e46cd168",
   "metadata": {},
   "outputs": [
    {
     "name": "stdout",
     "output_type": "stream",
     "text": [
      "[100, 200, 300, 400, 500, 600, 700, 800, 900, 1000, 1100, 1200, 1300, 1400, 1500, 1600]\n"
     ]
    }
   ],
   "source": [
    "print(list(range(100,1601,100)))"
   ]
  },
  {
   "cell_type": "markdown",
   "id": "d16331a4",
   "metadata": {},
   "source": [
    "# Functions"
   ]
  },
  {
   "cell_type": "markdown",
   "id": "460b4f7d",
   "metadata": {},
   "source": [
    "## Define Function"
   ]
  },
  {
   "cell_type": "raw",
   "id": "228598e6",
   "metadata": {},
   "source": [
    "#defining a function\n",
    "\n",
    "def function_name('arg1','arg2'):\n",
    "    This is where the function's document string (doc strings) goes\n",
    "    #Do stuff here\n",
    "    #return output"
   ]
  },
  {
   "cell_type": "code",
   "execution_count": 26,
   "id": "5ab78571",
   "metadata": {},
   "outputs": [
    {
     "name": "stdout",
     "output_type": "stream",
     "text": [
      "This is worling\n"
     ]
    }
   ],
   "source": [
    "def say_hello():\n",
    "    print('This is worling')\n",
    "say_hello ()   "
   ]
  },
  {
   "cell_type": "code",
   "execution_count": 39,
   "id": "2a2565b5",
   "metadata": {},
   "outputs": [
    {
     "name": "stdout",
     "output_type": "stream",
     "text": [
      "HelloRam\n"
     ]
    }
   ],
   "source": [
    "def greeting(name):\n",
    "    print('Hello%s' %name)\n",
    "greeting('Ram')    "
   ]
  },
  {
   "cell_type": "markdown",
   "id": "60b6432b",
   "metadata": {},
   "source": [
    "## Using return"
   ]
  },
  {
   "cell_type": "code",
   "execution_count": 31,
   "id": "78c2a686",
   "metadata": {},
   "outputs": [],
   "source": [
    "def add_num(num1,num2,num3):\n",
    "    return num1+num2+num3"
   ]
  },
  {
   "cell_type": "code",
   "execution_count": 32,
   "id": "e61d3070",
   "metadata": {},
   "outputs": [
    {
     "data": {
      "text/plain": [
       "15"
      ]
     },
     "execution_count": 32,
     "metadata": {},
     "output_type": "execute_result"
    }
   ],
   "source": [
    "add_num(4,5,6)"
   ]
  },
  {
   "cell_type": "code",
   "execution_count": 33,
   "id": "9ac9e249",
   "metadata": {},
   "outputs": [
    {
     "name": "stdout",
     "output_type": "stream",
     "text": [
      "600\n"
     ]
    }
   ],
   "source": [
    "result=add_num(100,200,300)\n",
    "print(result)"
   ]
  },
  {
   "cell_type": "code",
   "execution_count": 43,
   "id": "f484ede4",
   "metadata": {},
   "outputs": [
    {
     "name": "stdout",
     "output_type": "stream",
     "text": [
      "onetwothree\n"
     ]
    }
   ],
   "source": [
    "print (add_num ('one' , 'two' , 'three'))"
   ]
  },
  {
   "cell_type": "code",
   "execution_count": 50,
   "id": "0ded7f37",
   "metadata": {},
   "outputs": [],
   "source": [
    "def is_prime(num):\n",
    "    for i in range(2,num):  \n",
    "                             # Naive method of checking prime\n",
    "      \n",
    "        if num %i == 0:\n",
    "            print('Not Prime')\n",
    "    else:\n",
    "        print('Prime')\n",
    "            \n",
    "    "
   ]
  },
  {
   "cell_type": "code",
   "execution_count": 54,
   "id": "8572acea",
   "metadata": {},
   "outputs": [
    {
     "name": "stdout",
     "output_type": "stream",
     "text": [
      "Not Prime\n",
      "Not Prime\n",
      "Prime\n"
     ]
    }
   ],
   "source": [
    "is_prime(6)"
   ]
  },
  {
   "cell_type": "code",
   "execution_count": 53,
   "id": "5a3d5b85",
   "metadata": {},
   "outputs": [
    {
     "name": "stdout",
     "output_type": "stream",
     "text": [
      "Not Prime\n",
      "Not Prime\n",
      "Prime\n"
     ]
    }
   ],
   "source": [
    "is_prime(15)"
   ]
  },
  {
   "cell_type": "code",
   "execution_count": 55,
   "id": "bc107521",
   "metadata": {},
   "outputs": [],
   "source": [
    "#A better of checking prime\n",
    "import math\n",
    "def is_prime(num):          # % gives remainder\n",
    "    if num % 2==0 and num>2:\n",
    "        return False\n",
    "    for i in range(3,int(math.sqrt(num)),2):\n",
    "        if n%i==0:\n",
    "            return False\n",
    "        return True "
   ]
  },
  {
   "cell_type": "code",
   "execution_count": 56,
   "id": "56b5fecc",
   "metadata": {},
   "outputs": [
    {
     "data": {
      "text/plain": [
       "False"
      ]
     },
     "execution_count": 56,
     "metadata": {},
     "output_type": "execute_result"
    }
   ],
   "source": [
    "is_prime(26)"
   ]
  },
  {
   "cell_type": "markdown",
   "id": "6a3c749f",
   "metadata": {},
   "source": [
    "## Lambda Function"
   ]
  },
  {
   "cell_type": "code",
   "execution_count": 57,
   "id": "e3fd2bec",
   "metadata": {},
   "outputs": [
    {
     "data": {
      "text/plain": [
       "<function __main__.<lambda>(arguments)>"
      ]
     },
     "execution_count": 57,
     "metadata": {},
     "output_type": "execute_result"
    }
   ],
   "source": [
    "lambda arguments: Expressions\n"
   ]
  },
  {
   "cell_type": "code",
   "execution_count": 59,
   "id": "3293bc9f",
   "metadata": {},
   "outputs": [
    {
     "name": "stdout",
     "output_type": "stream",
     "text": [
      "35\n"
     ]
    }
   ],
   "source": [
    "x=lambda y: y+30\n",
    "print(x(5))"
   ]
  },
  {
   "cell_type": "code",
   "execution_count": 60,
   "id": "f8de5534",
   "metadata": {},
   "outputs": [
    {
     "name": "stdout",
     "output_type": "stream",
     "text": [
      "60\n"
     ]
    }
   ],
   "source": [
    "x=lambda y: y+30\n",
    "print(x(30))"
   ]
  },
  {
   "cell_type": "code",
   "execution_count": 62,
   "id": "796d4166",
   "metadata": {},
   "outputs": [
    {
     "name": "stdout",
     "output_type": "stream",
     "text": [
      "300\n"
     ]
    }
   ],
   "source": [
    "x= lambda a,b:a*b\n",
    "print(x(15,20))"
   ]
  },
  {
   "cell_type": "code",
   "execution_count": 63,
   "id": "31f3b304",
   "metadata": {},
   "outputs": [
    {
     "name": "stdout",
     "output_type": "stream",
     "text": [
      "65\n"
     ]
    }
   ],
   "source": [
    "x= lambda a,b,c:a+b+c\n",
    "print(x(15,20,30))"
   ]
  },
  {
   "cell_type": "code",
   "execution_count": 64,
   "id": "324e49e1",
   "metadata": {},
   "outputs": [],
   "source": [
    "def fahrenheit(T):\n",
    "    return((float(9)/5)*T +32)\n",
    "def celcius(T):\n",
    "    return (float(5)/9)*(T-32)\n",
    "temp=[0,22.5,40,100]\n"
   ]
  },
  {
   "cell_type": "markdown",
   "id": "1dfc5f1f",
   "metadata": {},
   "source": [
    "## Map Function"
   ]
  },
  {
   "cell_type": "code",
   "execution_count": 66,
   "id": "f182aeae",
   "metadata": {},
   "outputs": [
    {
     "data": {
      "text/plain": [
       "[32.0, 72.5, 104.0, 212.0]"
      ]
     },
     "execution_count": 66,
     "metadata": {},
     "output_type": "execute_result"
    }
   ],
   "source": [
    "F_temp= list(map(fahrenheit,temp))\n",
    "F_temp"
   ]
  },
  {
   "cell_type": "code",
   "execution_count": 68,
   "id": "8213a7cc",
   "metadata": {},
   "outputs": [
    {
     "data": {
      "text/plain": [
       "[0.0, 22.5, 40.0, 100.0]"
      ]
     },
     "execution_count": 68,
     "metadata": {},
     "output_type": "execute_result"
    }
   ],
   "source": [
    "C_temp= list(map(celcius,F_temp))\n",
    "C_temp"
   ]
  },
  {
   "cell_type": "markdown",
   "id": "1f2479dc",
   "metadata": {},
   "source": [
    "## Filter"
   ]
  },
  {
   "cell_type": "code",
   "execution_count": 73,
   "id": "2bfbaf6e",
   "metadata": {},
   "outputs": [],
   "source": [
    "def even_check(num):\n",
    "    if num%2 ==0:\n",
    "        return True"
   ]
  },
  {
   "cell_type": "code",
   "execution_count": 74,
   "id": "3e7eb22e",
   "metadata": {},
   "outputs": [
    {
     "data": {
      "text/plain": [
       "[0, 2, 4, 6, 8, 10, 12, 14, 16, 18, 20, 22, 24, 26, 28, 30, 32, 34, 36, 38]"
      ]
     },
     "execution_count": 74,
     "metadata": {},
     "output_type": "execute_result"
    }
   ],
   "source": [
    "lst=range(40)\n",
    "list(filter(even_check,lst))"
   ]
  },
  {
   "cell_type": "code",
   "execution_count": 76,
   "id": "4ba63663",
   "metadata": {},
   "outputs": [
    {
     "data": {
      "text/plain": [
       "[0, 2, 4, 6, 8, 10, 12, 14, 16, 18, 20, 22, 24, 26, 28, 30, 32, 34, 36, 38]"
      ]
     },
     "execution_count": 76,
     "metadata": {},
     "output_type": "execute_result"
    }
   ],
   "source": [
    "list(filter(lambda x: x% 2 ==0,lst))"
   ]
  },
  {
   "cell_type": "code",
   "execution_count": null,
   "id": "3f0c7445",
   "metadata": {},
   "outputs": [],
   "source": []
  }
 ],
 "metadata": {
  "kernelspec": {
   "display_name": "Python 3 (ipykernel)",
   "language": "python",
   "name": "python3"
  },
  "language_info": {
   "codemirror_mode": {
    "name": "ipython",
    "version": 3
   },
   "file_extension": ".py",
   "mimetype": "text/x-python",
   "name": "python",
   "nbconvert_exporter": "python",
   "pygments_lexer": "ipython3",
   "version": "3.9.7"
  }
 },
 "nbformat": 4,
 "nbformat_minor": 5
}
