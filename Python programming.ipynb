{
 "cells": [
  {
   "cell_type": "markdown",
   "id": "caaccaa1",
   "metadata": {},
   "source": [
    "# Branching (if/elif/else)"
   ]
  },
  {
   "cell_type": "code",
   "execution_count": 1,
   "id": "bc3c7a7b",
   "metadata": {},
   "outputs": [
    {
     "name": "stdout",
     "output_type": "stream",
     "text": [
      "Less than 5\n"
     ]
    }
   ],
   "source": [
    "i=4\n",
    "if i<3:\n",
    "    print('Less than 3')\n",
    "elif i<5:\n",
    "    print('Less than 5')\n",
    "else:\n",
    "    prit('5 or more')\n",
    "    "
   ]
  },
  {
   "cell_type": "code",
   "execution_count": 3,
   "id": "3384f825",
   "metadata": {},
   "outputs": [
    {
     "name": "stdout",
     "output_type": "stream",
     "text": [
      "i is greater than j\n"
     ]
    }
   ],
   "source": [
    "i=29\n",
    "j=19\n",
    "if i>j: print('i is greater than j')"
   ]
  },
  {
   "cell_type": "code",
   "execution_count": 4,
   "id": "54957f2e",
   "metadata": {},
   "outputs": [],
   "source": [
    "i=29\n",
    "j=39\n",
    "if i>j: print('i is greater than j')"
   ]
  },
  {
   "cell_type": "code",
   "execution_count": 5,
   "id": "0d8ceed9",
   "metadata": {},
   "outputs": [
    {
     "name": "stdout",
     "output_type": "stream",
     "text": [
      "B\n"
     ]
    }
   ],
   "source": [
    "a=330\n",
    "b=330\n",
    "print('A') if a > b else print('B')"
   ]
  },
  {
   "cell_type": "code",
   "execution_count": 6,
   "id": "18b563ba",
   "metadata": {},
   "outputs": [
    {
     "name": "stdout",
     "output_type": "stream",
     "text": [
      "A\n"
     ]
    }
   ],
   "source": [
    "a=330\n",
    "b=330\n",
    "print('A') if a == b else print('B')"
   ]
  },
  {
   "cell_type": "code",
   "execution_count": 7,
   "id": "02763f9c",
   "metadata": {},
   "outputs": [
    {
     "name": "stdout",
     "output_type": "stream",
     "text": [
      "=\n"
     ]
    }
   ],
   "source": [
    "a=330\n",
    "b=330\n",
    "print('A') if a>b else print('=') if a==b else print('B')"
   ]
  },
  {
   "cell_type": "code",
   "execution_count": 8,
   "id": "b7362e5c",
   "metadata": {},
   "outputs": [],
   "source": [
    "a=1000\n",
    "b=450\n",
    "c=350\n",
    "if a>b and c>a:\n",
    "    print('Both conditions are true')\n"
   ]
  },
  {
   "cell_type": "code",
   "execution_count": 9,
   "id": "19586d17",
   "metadata": {},
   "outputs": [
    {
     "name": "stdout",
     "output_type": "stream",
     "text": [
      "Atleast one of the condition is true\n"
     ]
    }
   ],
   "source": [
    "a=200\n",
    "b=33\n",
    "c=500.\n",
    "if a>b or a>c:\n",
    "    print('Atleast one of the condition is true')"
   ]
  },
  {
   "cell_type": "code",
   "execution_count": 10,
   "id": "7f10b024",
   "metadata": {},
   "outputs": [
    {
     "name": "stdout",
     "output_type": "stream",
     "text": [
      "Above 10\n",
      "equals to\n"
     ]
    }
   ],
   "source": [
    "x=65\n",
    "if x>60:\n",
    "    print('Above 10')\n",
    "    if x>50:\n",
    "        print('equals to')\n",
    "    "
   ]
  },
  {
   "cell_type": "code",
   "execution_count": 13,
   "id": "f4544919",
   "metadata": {},
   "outputs": [
    {
     "name": "stdout",
     "output_type": "stream",
     "text": [
      "Above 10\n",
      "Data Science\n"
     ]
    }
   ],
   "source": [
    "x=65\n",
    "if x>60:\n",
    "    print('Above 10')\n",
    "    if x>80:\n",
    "        print('equals to')\n",
    "    else:\n",
    "            print('Data Science')"
   ]
  },
  {
   "cell_type": "code",
   "execution_count": 16,
   "id": "0a6acb30",
   "metadata": {},
   "outputs": [],
   "source": [
    "a=33\n",
    "b=300\n",
    "if b>a:\n",
    "    pass\n"
   ]
  },
  {
   "cell_type": "code",
   "execution_count": 17,
   "id": "fdaf6b5b",
   "metadata": {},
   "outputs": [
    {
     "name": "stdout",
     "output_type": "stream",
     "text": [
      "i=20\n"
     ]
    }
   ],
   "source": [
    "i=20\n",
    "if (i==10):\n",
    "    print('i=10')\n",
    "elif(i==15):\n",
    "    print('i=15')\n",
    "elif(i==20):\n",
    "    print('i=20')\n",
    "else:\n",
    "    print('i is not present')\n"
   ]
  },
  {
   "cell_type": "code",
   "execution_count": 19,
   "id": "b100d94d",
   "metadata": {},
   "outputs": [
    {
     "name": "stdout",
     "output_type": "stream",
     "text": [
      "i is not present\n"
     ]
    }
   ],
   "source": [
    "i=20\n",
    "if (i==10):\n",
    "    print('i=10')\n",
    "elif(i==15):\n",
    "    print('i=15')\n",
    "elif(i==25):\n",
    "    print('i=25')\n",
    "else:\n",
    "    print('i is not present')"
   ]
  },
  {
   "cell_type": "code",
   "execution_count": null,
   "id": "72fb11e2",
   "metadata": {},
   "outputs": [],
   "source": []
  }
 ],
 "metadata": {
  "kernelspec": {
   "display_name": "Python 3 (ipykernel)",
   "language": "python",
   "name": "python3"
  },
  "language_info": {
   "codemirror_mode": {
    "name": "ipython",
    "version": 3
   },
   "file_extension": ".py",
   "mimetype": "text/x-python",
   "name": "python",
   "nbconvert_exporter": "python",
   "pygments_lexer": "ipython3",
   "version": "3.9.7"
  }
 },
 "nbformat": 4,
 "nbformat_minor": 5
}
