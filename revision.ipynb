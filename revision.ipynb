{
 "cells": [
  {
   "cell_type": "code",
   "execution_count": 16,
   "id": "f1856b55",
   "metadata": {},
   "outputs": [
    {
     "data": {
      "text/plain": [
       "['kia', 'audi', 'bmw', 'safari']"
      ]
     },
     "execution_count": 16,
     "metadata": {},
     "output_type": "execute_result"
    }
   ],
   "source": [
    "carlist=['kia','audi','bmw','safari']\n",
    "carlist"
   ]
  },
  {
   "cell_type": "code",
   "execution_count": 17,
   "id": "c86841dc",
   "metadata": {},
   "outputs": [
    {
     "data": {
      "text/plain": [
       "4"
      ]
     },
     "execution_count": 17,
     "metadata": {},
     "output_type": "execute_result"
    }
   ],
   "source": [
    "len(carlist)"
   ]
  },
  {
   "cell_type": "code",
   "execution_count": 18,
   "id": "28036328",
   "metadata": {},
   "outputs": [
    {
     "data": {
      "text/plain": [
       "['kia', 'audi', 'bmw', 'safari', 'bolero']"
      ]
     },
     "execution_count": 18,
     "metadata": {},
     "output_type": "execute_result"
    }
   ],
   "source": [
    "carlist.append(\"bolero\")\n",
    "carlist"
   ]
  },
  {
   "cell_type": "code",
   "execution_count": 19,
   "id": "18781d2a",
   "metadata": {},
   "outputs": [
    {
     "data": {
      "text/plain": [
       "['audi', 'bmw', 'bolero', 'kia', 'safari']"
      ]
     },
     "execution_count": 19,
     "metadata": {},
     "output_type": "execute_result"
    }
   ],
   "source": [
    "carlist.sort()\n",
    "carlist"
   ]
  },
  {
   "cell_type": "code",
   "execution_count": 20,
   "id": "d4535301",
   "metadata": {},
   "outputs": [
    {
     "data": {
      "text/plain": [
       "['safari', 'kia', 'bolero', 'bmw', 'audi']"
      ]
     },
     "execution_count": 20,
     "metadata": {},
     "output_type": "execute_result"
    }
   ],
   "source": [
    "carlist.reverse()\n",
    "carlist"
   ]
  },
  {
   "cell_type": "code",
   "execution_count": 21,
   "id": "4cbd5ca5",
   "metadata": {},
   "outputs": [
    {
     "data": {
      "text/plain": [
       "['safari', 'kia', 'bolero', 'bmw']"
      ]
     },
     "execution_count": 21,
     "metadata": {},
     "output_type": "execute_result"
    }
   ],
   "source": [
    "carlist.pop()\n",
    "carlist"
   ]
  },
  {
   "cell_type": "code",
   "execution_count": 22,
   "id": "b452eed0",
   "metadata": {},
   "outputs": [
    {
     "data": {
      "text/plain": [
       "['safari', 'kia', 'bolero', 'swift', 'bmw']"
      ]
     },
     "execution_count": 22,
     "metadata": {},
     "output_type": "execute_result"
    }
   ],
   "source": [
    "carlist.insert(3,\"swift\")\n",
    "carlist"
   ]
  },
  {
   "cell_type": "code",
   "execution_count": 23,
   "id": "2af2dc59",
   "metadata": {},
   "outputs": [
    {
     "data": {
      "text/plain": [
       "['safari', 'kia', 'bolero', 'swift', 'bmw']"
      ]
     },
     "execution_count": 23,
     "metadata": {},
     "output_type": "execute_result"
    }
   ],
   "source": [
    "carlist[0:]\n",
    "carlist"
   ]
  },
  {
   "cell_type": "code",
   "execution_count": 24,
   "id": "4236c37b",
   "metadata": {},
   "outputs": [
    {
     "data": {
      "text/plain": [
       "['safari', 'kia', 'bolero', 'bmw']"
      ]
     },
     "execution_count": 24,
     "metadata": {},
     "output_type": "execute_result"
    }
   ],
   "source": [
    "carlist.pop(3)\n",
    "carlist"
   ]
  },
  {
   "cell_type": "code",
   "execution_count": 25,
   "id": "ba709a61",
   "metadata": {},
   "outputs": [
    {
     "data": {
      "text/plain": [
       "['safari', 'bolero', 'bmw']"
      ]
     },
     "execution_count": 25,
     "metadata": {},
     "output_type": "execute_result"
    }
   ],
   "source": [
    "carlist.remove('kia')\n",
    "carlist"
   ]
  },
  {
   "cell_type": "code",
   "execution_count": 26,
   "id": "f35ee82d",
   "metadata": {},
   "outputs": [
    {
     "data": {
      "text/plain": [
       "[]"
      ]
     },
     "execution_count": 26,
     "metadata": {},
     "output_type": "execute_result"
    }
   ],
   "source": [
    "carlist.clear()\n",
    "carlist"
   ]
  },
  {
   "cell_type": "code",
   "execution_count": 27,
   "id": "54802567",
   "metadata": {},
   "outputs": [
    {
     "ename": "NameError",
     "evalue": "name 'delcarlist' is not defined",
     "output_type": "error",
     "traceback": [
      "\u001b[1;31m---------------------------------------------------------------------------\u001b[0m",
      "\u001b[1;31mNameError\u001b[0m                                 Traceback (most recent call last)",
      "\u001b[1;32m~\\AppData\\Local\\Temp/ipykernel_13648/1899119776.py\u001b[0m in \u001b[0;36m<module>\u001b[1;34m\u001b[0m\n\u001b[1;32m----> 1\u001b[1;33m \u001b[0mdelcarlist\u001b[0m\u001b[1;33m\u001b[0m\u001b[1;33m\u001b[0m\u001b[0m\n\u001b[0m",
      "\u001b[1;31mNameError\u001b[0m: name 'delcarlist' is not defined"
     ]
    }
   ],
   "source": [
    "delcarlist"
   ]
  },
  {
   "cell_type": "code",
   "execution_count": 34,
   "id": "39802498",
   "metadata": {},
   "outputs": [
    {
     "data": {
      "text/plain": [
       "[1, 2, 3, 4]"
      ]
     },
     "execution_count": 34,
     "metadata": {},
     "output_type": "execute_result"
    }
   ],
   "source": [
    "numlist=[1,2,3,4]\n",
    "numlist"
   ]
  },
  {
   "cell_type": "code",
   "execution_count": 35,
   "id": "5ddd52fd",
   "metadata": {},
   "outputs": [
    {
     "data": {
      "text/plain": [
       "[1, 2, 3, 4, [6, 7, 8, 9]]"
      ]
     },
     "execution_count": 35,
     "metadata": {},
     "output_type": "execute_result"
    }
   ],
   "source": [
    "numlist.append([6,7,8,9])\n",
    "numlist"
   ]
  },
  {
   "cell_type": "code",
   "execution_count": 37,
   "id": "3c167f5a",
   "metadata": {},
   "outputs": [
    {
     "data": {
      "text/plain": [
       "[1, 2, 3, 4]"
      ]
     },
     "execution_count": 37,
     "metadata": {},
     "output_type": "execute_result"
    }
   ],
   "source": [
    "numlist=[1,2,3,4]\n",
    "numlist"
   ]
  },
  {
   "cell_type": "code",
   "execution_count": 38,
   "id": "dfe6bfac",
   "metadata": {},
   "outputs": [
    {
     "data": {
      "text/plain": [
       "[1, 2, 3, 4, 6, 7, 8, 9]"
      ]
     },
     "execution_count": 38,
     "metadata": {},
     "output_type": "execute_result"
    }
   ],
   "source": [
    "numlist.extend([6,7,8,9])\n",
    "numlist"
   ]
  },
  {
   "cell_type": "code",
   "execution_count": 42,
   "id": "169f9a23",
   "metadata": {},
   "outputs": [
    {
     "data": {
      "text/plain": [
       "['a', 'b', 'c', ['d', 'e', 'f']]"
      ]
     },
     "execution_count": 42,
     "metadata": {},
     "output_type": "execute_result"
    }
   ],
   "source": [
    "l1=['a','b','c']\n",
    "l2=['d','e','f']\n",
    "l1.append(l2)\n",
    "l1"
   ]
  },
  {
   "cell_type": "code",
   "execution_count": 43,
   "id": "a8b97fe1",
   "metadata": {},
   "outputs": [
    {
     "data": {
      "text/plain": [
       "['a', 'b', 'c', 'd', 'e', 'f']"
      ]
     },
     "execution_count": 43,
     "metadata": {},
     "output_type": "execute_result"
    }
   ],
   "source": [
    "l1=['a','b','c']\n",
    "l2=['d','e','f']\n",
    "l1.extend(l2)\n",
    "l1"
   ]
  },
  {
   "cell_type": "code",
   "execution_count": 44,
   "id": "54d6bfda",
   "metadata": {},
   "outputs": [
    {
     "data": {
      "text/plain": [
       "['a', 'b', 'c', 'datascience', 'e', 'f']"
      ]
     },
     "execution_count": 44,
     "metadata": {},
     "output_type": "execute_result"
    }
   ],
   "source": [
    "l1[3]=\"datascience\"\n",
    "l1"
   ]
  },
  {
   "cell_type": "markdown",
   "id": "5d6ccddf",
   "metadata": {},
   "source": [
    "Tuples"
   ]
  },
  {
   "cell_type": "code",
   "execution_count": 46,
   "id": "1beb1cbc",
   "metadata": {},
   "outputs": [
    {
     "data": {
      "text/plain": [
       "(1, 'c', 2, 'd')"
      ]
     },
     "execution_count": 46,
     "metadata": {},
     "output_type": "execute_result"
    }
   ],
   "source": [
    "t1=(1,'c',2,'d')\n",
    "t1"
   ]
  },
  {
   "cell_type": "code",
   "execution_count": 49,
   "id": "e447f062",
   "metadata": {},
   "outputs": [
    {
     "data": {
      "text/plain": [
       "2"
      ]
     },
     "execution_count": 49,
     "metadata": {},
     "output_type": "execute_result"
    }
   ],
   "source": [
    "t1[2]\n"
   ]
  },
  {
   "cell_type": "code",
   "execution_count": 50,
   "id": "eb622496",
   "metadata": {},
   "outputs": [
    {
     "data": {
      "text/plain": [
       "(1, 'c', 2, 'd', 3, 'e', 4, 'f')"
      ]
     },
     "execution_count": 50,
     "metadata": {},
     "output_type": "execute_result"
    }
   ],
   "source": [
    "t1=(1,'c',2,'d')\n",
    "t2=(3,'e',4,'f')\n",
    "t3=t1+t2\n",
    "t3"
   ]
  },
  {
   "cell_type": "code",
   "execution_count": 51,
   "id": "a9af9def",
   "metadata": {},
   "outputs": [
    {
     "ename": "TypeError",
     "evalue": "'tuple' object does not support item assignment",
     "output_type": "error",
     "traceback": [
      "\u001b[1;31m---------------------------------------------------------------------------\u001b[0m",
      "\u001b[1;31mTypeError\u001b[0m                                 Traceback (most recent call last)",
      "\u001b[1;32m~\\AppData\\Local\\Temp/ipykernel_13648/1640485019.py\u001b[0m in \u001b[0;36m<module>\u001b[1;34m\u001b[0m\n\u001b[1;32m----> 1\u001b[1;33m \u001b[0mt3\u001b[0m\u001b[1;33m[\u001b[0m\u001b[1;36m3\u001b[0m\u001b[1;33m]\u001b[0m\u001b[1;33m=\u001b[0m\u001b[1;36m85\u001b[0m\u001b[1;33m\u001b[0m\u001b[1;33m\u001b[0m\u001b[0m\n\u001b[0m\u001b[0;32m      2\u001b[0m \u001b[0mt3\u001b[0m\u001b[1;33m\u001b[0m\u001b[1;33m\u001b[0m\u001b[0m\n",
      "\u001b[1;31mTypeError\u001b[0m: 'tuple' object does not support item assignment"
     ]
    }
   ],
   "source": [
    "t3[3]=85\n",
    "t3"
   ]
  },
  {
   "cell_type": "markdown",
   "id": "67501da6",
   "metadata": {},
   "source": [
    "Dictionary"
   ]
  },
  {
   "cell_type": "code",
   "execution_count": 52,
   "id": "c063ecf0",
   "metadata": {},
   "outputs": [
    {
     "data": {
      "text/plain": [
       "{'id': 2, 'name': 'ram', 'class': 2}"
      ]
     },
     "execution_count": 52,
     "metadata": {},
     "output_type": "execute_result"
    }
   ],
   "source": [
    "d1={\"id\":2,\"name\":\"ram\",\"class\":2}\n",
    "d1"
   ]
  },
  {
   "cell_type": "code",
   "execution_count": 53,
   "id": "20f08703",
   "metadata": {},
   "outputs": [
    {
     "data": {
      "text/plain": [
       "dict_keys(['id', 'name', 'class'])"
      ]
     },
     "execution_count": 53,
     "metadata": {},
     "output_type": "execute_result"
    }
   ],
   "source": [
    "d1.keys()"
   ]
  },
  {
   "cell_type": "code",
   "execution_count": 54,
   "id": "8fe10379",
   "metadata": {},
   "outputs": [
    {
     "data": {
      "text/plain": [
       "dict_values([2, 'ram', 2])"
      ]
     },
     "execution_count": 54,
     "metadata": {},
     "output_type": "execute_result"
    }
   ],
   "source": [
    "d1.values()"
   ]
  },
  {
   "cell_type": "code",
   "execution_count": 55,
   "id": "77a2c16d",
   "metadata": {},
   "outputs": [
    {
     "data": {
      "text/plain": [
       "dict_items([('id', 2), ('name', 'ram'), ('class', 2)])"
      ]
     },
     "execution_count": 55,
     "metadata": {},
     "output_type": "execute_result"
    }
   ],
   "source": [
    "d1.items()"
   ]
  },
  {
   "cell_type": "code",
   "execution_count": 56,
   "id": "b07de558",
   "metadata": {},
   "outputs": [
    {
     "data": {
      "text/plain": [
       "'ram'"
      ]
     },
     "execution_count": 56,
     "metadata": {},
     "output_type": "execute_result"
    }
   ],
   "source": [
    "d1['name']"
   ]
  },
  {
   "cell_type": "code",
   "execution_count": 57,
   "id": "3f4b6e5f",
   "metadata": {},
   "outputs": [
    {
     "data": {
      "text/plain": [
       "2"
      ]
     },
     "execution_count": 57,
     "metadata": {},
     "output_type": "execute_result"
    }
   ],
   "source": [
    "d1['class']"
   ]
  },
  {
   "cell_type": "code",
   "execution_count": null,
   "id": "e639395b",
   "metadata": {},
   "outputs": [],
   "source": []
  }
 ],
 "metadata": {
  "kernelspec": {
   "display_name": "Python 3 (ipykernel)",
   "language": "python",
   "name": "python3"
  },
  "language_info": {
   "codemirror_mode": {
    "name": "ipython",
    "version": 3
   },
   "file_extension": ".py",
   "mimetype": "text/x-python",
   "name": "python",
   "nbconvert_exporter": "python",
   "pygments_lexer": "ipython3",
   "version": "3.9.7"
  }
 },
 "nbformat": 4,
 "nbformat_minor": 5
}
