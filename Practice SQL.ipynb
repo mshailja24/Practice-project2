{
 "cells": [
  {
   "cell_type": "code",
   "execution_count": 1,
   "id": "67b28521",
   "metadata": {},
   "outputs": [],
   "source": [
    "import sqlite3"
   ]
  },
  {
   "cell_type": "code",
   "execution_count": 2,
   "id": "b5203c5a",
   "metadata": {},
   "outputs": [],
   "source": [
    "db=sqlite3.connect('hospital_database.db')"
   ]
  },
  {
   "cell_type": "code",
   "execution_count": 3,
   "id": "bce604cd",
   "metadata": {},
   "outputs": [],
   "source": [
    "cur=db.cursor()"
   ]
  },
  {
   "cell_type": "code",
   "execution_count": 4,
   "id": "09281d13",
   "metadata": {},
   "outputs": [
    {
     "data": {
      "text/plain": [
       "<sqlite3.Cursor at 0x2024e263c70>"
      ]
     },
     "execution_count": 4,
     "metadata": {},
     "output_type": "execute_result"
    }
   ],
   "source": [
    "cur.execute(\"create table hospital(age int primary key,name text,charges int)\")"
   ]
  },
  {
   "cell_type": "code",
   "execution_count": 5,
   "id": "bc0e5d31",
   "metadata": {},
   "outputs": [],
   "source": [
    "cur.execute(\"insert into hospital (age,name,charges) values(25,'priya',5000)\")\n",
    "db.commit()"
   ]
  },
  {
   "cell_type": "code",
   "execution_count": 9,
   "id": "70776cd1",
   "metadata": {},
   "outputs": [
    {
     "name": "stdout",
     "output_type": "stream",
     "text": [
      "-1 Record(s) inserted\n"
     ]
    }
   ],
   "source": [
    "print(cur.rowcount,\"Record(s) inserted\")"
   ]
  },
  {
   "cell_type": "code",
   "execution_count": 6,
   "id": "8e932921",
   "metadata": {},
   "outputs": [
    {
     "name": "stdout",
     "output_type": "stream",
     "text": [
      "(25, 'priya', 5000)\n"
     ]
    }
   ],
   "source": [
    "results=cur.execute(\"select * from hospital\")\n",
    "for i in results:\n",
    "    print(i)"
   ]
  },
  {
   "cell_type": "code",
   "execution_count": 10,
   "id": "54e9df87",
   "metadata": {},
   "outputs": [],
   "source": [
    "cur.execute(\"insert into hospital (age,name,charges) values(24,'kiran',6000)\")\n",
    "db.commit()"
   ]
  },
  {
   "cell_type": "code",
   "execution_count": 11,
   "id": "2008f92d",
   "metadata": {},
   "outputs": [
    {
     "name": "stdout",
     "output_type": "stream",
     "text": [
      "1 Record(s) inserted\n"
     ]
    }
   ],
   "source": [
    "print(cur.rowcount,\"Record(s) inserted\")"
   ]
  },
  {
   "cell_type": "code",
   "execution_count": 12,
   "id": "81123637",
   "metadata": {},
   "outputs": [
    {
     "name": "stdout",
     "output_type": "stream",
     "text": [
      "(25, 'priya', 5000)\n",
      "(24, 'kiran', 6000)\n"
     ]
    }
   ],
   "source": [
    "results=cur.execute(\"select * from hospital\")\n",
    "for i in results:\n",
    "    print(i)"
   ]
  },
  {
   "cell_type": "code",
   "execution_count": 14,
   "id": "6a25406d",
   "metadata": {},
   "outputs": [],
   "source": [
    "cur.execute(\"insert into hospital values (27,'hari',7000), (28,'yogi',8000)\")\n",
    "db.commit()"
   ]
  },
  {
   "cell_type": "code",
   "execution_count": 15,
   "id": "6b45e633",
   "metadata": {},
   "outputs": [
    {
     "name": "stdout",
     "output_type": "stream",
     "text": [
      "2 Record(s) inserted\n"
     ]
    }
   ],
   "source": [
    "print(cur.rowcount,\"Record(s) inserted\")"
   ]
  },
  {
   "cell_type": "code",
   "execution_count": 16,
   "id": "cfcb3c7a",
   "metadata": {},
   "outputs": [
    {
     "name": "stdout",
     "output_type": "stream",
     "text": [
      "(25, 'priya', 5000)\n",
      "(24, 'kiran', 6000)\n",
      "(27, 'hari', 7000)\n",
      "(28, 'yogi', 8000)\n"
     ]
    }
   ],
   "source": [
    "results=cur.execute(\"select * from hospital\")\n",
    "for i in results:\n",
    "    print(i)"
   ]
  },
  {
   "cell_type": "markdown",
   "id": "969a47a0",
   "metadata": {},
   "source": [
    "# Accessing the data stored in SQLite using Python"
   ]
  },
  {
   "cell_type": "code",
   "execution_count": 17,
   "id": "5ae6e4b0",
   "metadata": {},
   "outputs": [
    {
     "name": "stdout",
     "output_type": "stream",
     "text": [
      "(25, 'priya', 5000)\n",
      "(24, 'kiran', 6000)\n",
      "(27, 'hari', 7000)\n",
      "(28, 'yogi', 8000)\n"
     ]
    }
   ],
   "source": [
    "results=cur.execute(\"select * from hospital\")\n",
    "for i in results:\n",
    "    print(i)"
   ]
  },
  {
   "cell_type": "code",
   "execution_count": 18,
   "id": "ed9fe6f6",
   "metadata": {},
   "outputs": [
    {
     "name": "stdout",
     "output_type": "stream",
     "text": [
      "(25, 'priya')\n",
      "(24, 'kiran')\n",
      "(27, 'hari')\n",
      "(28, 'yogi')\n"
     ]
    }
   ],
   "source": [
    "results=cur.execute(\"select age,name from hospital\")\n",
    "for i in results:\n",
    "    print(i)"
   ]
  },
  {
   "cell_type": "code",
   "execution_count": 19,
   "id": "1c36a011",
   "metadata": {},
   "outputs": [
    {
     "name": "stdout",
     "output_type": "stream",
     "text": [
      "('priya',)\n",
      "('kiran',)\n",
      "('hari',)\n",
      "('yogi',)\n"
     ]
    }
   ],
   "source": [
    "results=cur.execute(\"select name from hospital\")\n",
    "for i in results:\n",
    "    print(i)"
   ]
  },
  {
   "cell_type": "code",
   "execution_count": 20,
   "id": "15cb56e1",
   "metadata": {},
   "outputs": [
    {
     "name": "stdout",
     "output_type": "stream",
     "text": [
      "(28, 'yogi', 8000)\n"
     ]
    }
   ],
   "source": [
    "results=cur.execute(\"select * from hospital where age=28\")\n",
    "for i in results:\n",
    "    print(i)"
   ]
  },
  {
   "cell_type": "code",
   "execution_count": 21,
   "id": "ba4cdcf7",
   "metadata": {},
   "outputs": [
    {
     "name": "stdout",
     "output_type": "stream",
     "text": [
      "(25, 'priya', 5000)\n",
      "(24, 'kiran', 6000)\n",
      "(27, 'hari', 7000)\n"
     ]
    }
   ],
   "source": [
    "results=cur.execute(\"select * from hospital limit 3\")\n",
    "for i in results:\n",
    "    print(i)"
   ]
  },
  {
   "cell_type": "code",
   "execution_count": 22,
   "id": "e26ffa1a",
   "metadata": {},
   "outputs": [
    {
     "name": "stdout",
     "output_type": "stream",
     "text": [
      "(25, 'priya', 5000)\n",
      "(27, 'hari', 7000)\n",
      "(28, 'yogi', 8000)\n"
     ]
    }
   ],
   "source": [
    "results=cur.execute(\"select * from hospital where age>24 and age<29\")\n",
    "for i in results:\n",
    "    print(i)"
   ]
  },
  {
   "cell_type": "code",
   "execution_count": 23,
   "id": "0e0f9ef7",
   "metadata": {},
   "outputs": [
    {
     "data": {
      "text/plain": [
       "[(25, 'priya', 5000), (24, 'kiran', 6000), (27, 'hari', 7000)]"
      ]
     },
     "execution_count": 23,
     "metadata": {},
     "output_type": "execute_result"
    }
   ],
   "source": [
    "results=cur.execute(\"select * from hospital limit 3\")\n",
    "results.fetchall()"
   ]
  },
  {
   "cell_type": "code",
   "execution_count": 24,
   "id": "bd906fb9",
   "metadata": {},
   "outputs": [
    {
     "name": "stdout",
     "output_type": "stream",
     "text": [
      "(27, 'hari', 7000)\n",
      "(24, 'kiran', 6000)\n",
      "(25, 'priya', 5000)\n",
      "(28, 'yogi', 8000)\n"
     ]
    }
   ],
   "source": [
    "results=cur.execute(\"select * from hospital order by name asc\")\n",
    "for i in results:\n",
    "    print(i)"
   ]
  },
  {
   "cell_type": "code",
   "execution_count": 25,
   "id": "d10f6675",
   "metadata": {},
   "outputs": [
    {
     "name": "stdout",
     "output_type": "stream",
     "text": [
      "(28, 'yogi', 8000)\n",
      "(25, 'priya', 5000)\n",
      "(24, 'kiran', 6000)\n",
      "(27, 'hari', 7000)\n"
     ]
    }
   ],
   "source": [
    "results=cur.execute(\"select * from hospital order by name desc\")\n",
    "for i in results:\n",
    "    print(i)"
   ]
  },
  {
   "cell_type": "code",
   "execution_count": 27,
   "id": "46f2228d",
   "metadata": {},
   "outputs": [],
   "source": [
    "results=cur.execute(\"select * from hospital where name='yogi' and charges=5000 \")\n",
    "for i in results:\n",
    "    print(i)"
   ]
  },
  {
   "cell_type": "code",
   "execution_count": 28,
   "id": "96618061",
   "metadata": {},
   "outputs": [
    {
     "name": "stdout",
     "output_type": "stream",
     "text": [
      "(28, 'yogi', 8000)\n"
     ]
    }
   ],
   "source": [
    "results=cur.execute(\"select * from hospital where name='yogi' and charges=8000 \")\n",
    "for i in results:\n",
    "    print(i)"
   ]
  },
  {
   "cell_type": "code",
   "execution_count": 29,
   "id": "b1ed229c",
   "metadata": {},
   "outputs": [
    {
     "name": "stdout",
     "output_type": "stream",
     "text": [
      "(28, 'yogi', 8000)\n"
     ]
    }
   ],
   "source": [
    "results=cur.execute(\"select * from hospital where name='yogi' or charges=8000 \")\n",
    "for i in results:\n",
    "    print(i)"
   ]
  },
  {
   "cell_type": "code",
   "execution_count": 30,
   "id": "7bf33e36",
   "metadata": {},
   "outputs": [
    {
     "name": "stdout",
     "output_type": "stream",
     "text": [
      "(25, 'priya', 5000)\n",
      "(28, 'yogi', 8000)\n"
     ]
    }
   ],
   "source": [
    "results=cur.execute(\"select * from hospital where name='yogi' or charges=5000 \")\n",
    "for i in results:\n",
    "    print(i)"
   ]
  },
  {
   "cell_type": "code",
   "execution_count": 31,
   "id": "156fb39e",
   "metadata": {},
   "outputs": [
    {
     "name": "stdout",
     "output_type": "stream",
     "text": [
      "(24, 'kiran', 6000)\n"
     ]
    }
   ],
   "source": [
    "results=cur.execute(\"select * from hospital where age=24 or charges=6000 \")\n",
    "for i in results:\n",
    "    print(i)"
   ]
  },
  {
   "cell_type": "code",
   "execution_count": 32,
   "id": "555d42a2",
   "metadata": {},
   "outputs": [
    {
     "name": "stdout",
     "output_type": "stream",
     "text": [
      "(24, 'kiran', 6000)\n",
      "(27, 'hari', 7000)\n"
     ]
    }
   ],
   "source": [
    "results=cur.execute(\"select * from hospital where age=27 or charges=6000 \")\n",
    "for i in results:\n",
    "    print(i)"
   ]
  },
  {
   "cell_type": "code",
   "execution_count": 34,
   "id": "30b32cc6",
   "metadata": {},
   "outputs": [
    {
     "name": "stdout",
     "output_type": "stream",
     "text": [
      "(24,)\n"
     ]
    }
   ],
   "source": [
    "results=cur.execute(\"select min(age) from hospital  \")\n",
    "for i in results:\n",
    "    print(i)"
   ]
  },
  {
   "cell_type": "code",
   "execution_count": 35,
   "id": "3d056e15",
   "metadata": {},
   "outputs": [
    {
     "name": "stdout",
     "output_type": "stream",
     "text": [
      "(28,)\n"
     ]
    }
   ],
   "source": [
    "results=cur.execute(\"select max(age) from hospital  \")\n",
    "for i in results:\n",
    "    print(i)"
   ]
  },
  {
   "cell_type": "code",
   "execution_count": 36,
   "id": "3006c72b",
   "metadata": {},
   "outputs": [
    {
     "name": "stdout",
     "output_type": "stream",
     "text": [
      "(26.0,)\n"
     ]
    }
   ],
   "source": [
    "results=cur.execute(\"select avg(age) from hospital  \")\n",
    "for i in results:\n",
    "    print(i)"
   ]
  },
  {
   "cell_type": "code",
   "execution_count": 37,
   "id": "40544f1f",
   "metadata": {},
   "outputs": [
    {
     "name": "stdout",
     "output_type": "stream",
     "text": [
      "(26000,)\n"
     ]
    }
   ],
   "source": [
    "results=cur.execute(\"select sum(charges) from hospital  \")\n",
    "for i in results:\n",
    "    print(i)"
   ]
  },
  {
   "cell_type": "code",
   "execution_count": 38,
   "id": "2dfd5fa9",
   "metadata": {},
   "outputs": [
    {
     "data": {
      "text/plain": [
       "[(26000,)]"
      ]
     },
     "execution_count": 38,
     "metadata": {},
     "output_type": "execute_result"
    }
   ],
   "source": [
    "results=cur.execute(\"select sum(charges) from hospital  \")\n",
    "results.fetchall()"
   ]
  },
  {
   "cell_type": "code",
   "execution_count": 39,
   "id": "2b6e4003",
   "metadata": {},
   "outputs": [
    {
     "name": "stdout",
     "output_type": "stream",
     "text": [
      "('priya',)\n",
      "('hari',)\n",
      "('yogi',)\n"
     ]
    }
   ],
   "source": [
    "results=cur.execute(\"select name from hospital where age between 25 and 29  \")\n",
    "for i in results:\n",
    "    print(i)"
   ]
  },
  {
   "cell_type": "code",
   "execution_count": 40,
   "id": "7f2a362a",
   "metadata": {},
   "outputs": [
    {
     "name": "stdout",
     "output_type": "stream",
     "text": [
      "(4,)\n"
     ]
    }
   ],
   "source": [
    "results=cur.execute(\"select count(name) from hospital  \")\n",
    "for i in results:\n",
    "    print(i)"
   ]
  },
  {
   "cell_type": "code",
   "execution_count": 41,
   "id": "b493dbf7",
   "metadata": {},
   "outputs": [],
   "source": [
    "results=cur.execute(\"select * from hospital where age is null \")\n",
    "for i in results:\n",
    "    print(i)"
   ]
  },
  {
   "cell_type": "code",
   "execution_count": null,
   "id": "51dacf5e",
   "metadata": {},
   "outputs": [],
   "source": []
  }
 ],
 "metadata": {
  "kernelspec": {
   "display_name": "Python 3 (ipykernel)",
   "language": "python",
   "name": "python3"
  },
  "language_info": {
   "codemirror_mode": {
    "name": "ipython",
    "version": 3
   },
   "file_extension": ".py",
   "mimetype": "text/x-python",
   "name": "python",
   "nbconvert_exporter": "python",
   "pygments_lexer": "ipython3",
   "version": "3.9.7"
  }
 },
 "nbformat": 4,
 "nbformat_minor": 5
}
