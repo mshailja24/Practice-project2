{
 "cells": [
  {
   "cell_type": "markdown",
   "id": "588dd274",
   "metadata": {},
   "source": [
    "# user defined functions....>Parametric functions"
   ]
  },
  {
   "cell_type": "code",
   "execution_count": 5,
   "id": "a92e2ae5",
   "metadata": {},
   "outputs": [],
   "source": [
    "def fadd(a,b):\n",
    "    c=a+b\n",
    "    print(c)"
   ]
  },
  {
   "cell_type": "code",
   "execution_count": 6,
   "id": "ff062896",
   "metadata": {},
   "outputs": [
    {
     "name": "stdout",
     "output_type": "stream",
     "text": [
      "10\n"
     ]
    }
   ],
   "source": [
    "#calling\n",
    "\n",
    "fadd(5,5)"
   ]
  },
  {
   "cell_type": "code",
   "execution_count": 7,
   "id": "fa215de9",
   "metadata": {},
   "outputs": [
    {
     "name": "stdout",
     "output_type": "stream",
     "text": [
      "40\n"
     ]
    }
   ],
   "source": [
    "fadd(20,20)"
   ]
  },
  {
   "cell_type": "code",
   "execution_count": 14,
   "id": "ca398ad4",
   "metadata": {},
   "outputs": [],
   "source": [
    "def fadd(a,b,c):\n",
    "    d=a+b-c\n",
    "    print(d)"
   ]
  },
  {
   "cell_type": "code",
   "execution_count": 15,
   "id": "f9a7bf49",
   "metadata": {},
   "outputs": [
    {
     "name": "stdout",
     "output_type": "stream",
     "text": [
      "15\n"
     ]
    }
   ],
   "source": [
    "fadd(10,10,5)"
   ]
  },
  {
   "cell_type": "code",
   "execution_count": 16,
   "id": "b2b00d75",
   "metadata": {},
   "outputs": [],
   "source": [
    "def fsubtract(a,b):\n",
    "    c=a-b\n",
    "    print(c)"
   ]
  },
  {
   "cell_type": "code",
   "execution_count": 17,
   "id": "43b963f1",
   "metadata": {},
   "outputs": [
    {
     "name": "stdout",
     "output_type": "stream",
     "text": [
      "0\n"
     ]
    }
   ],
   "source": [
    "fsubtract(50,50)"
   ]
  },
  {
   "cell_type": "code",
   "execution_count": 18,
   "id": "45fcbce5",
   "metadata": {},
   "outputs": [],
   "source": [
    "def fsubtract(a,b):\n",
    "    c=a-b\n",
    "    print(c)"
   ]
  },
  {
   "cell_type": "code",
   "execution_count": 19,
   "id": "603acf28",
   "metadata": {},
   "outputs": [
    {
     "name": "stdout",
     "output_type": "stream",
     "text": [
      "49.5\n"
     ]
    }
   ],
   "source": [
    "fsubtract(100,50.5)"
   ]
  },
  {
   "cell_type": "code",
   "execution_count": 20,
   "id": "e1a4b5b2",
   "metadata": {},
   "outputs": [],
   "source": [
    "def fmultiply(a,b):\n",
    "    c=a*b\n",
    "    print(c)"
   ]
  },
  {
   "cell_type": "code",
   "execution_count": 21,
   "id": "e726dc3e",
   "metadata": {},
   "outputs": [
    {
     "name": "stdout",
     "output_type": "stream",
     "text": [
      "200\n"
     ]
    }
   ],
   "source": [
    "fmultiply(10,20)"
   ]
  },
  {
   "cell_type": "code",
   "execution_count": 22,
   "id": "cdeb0d52",
   "metadata": {},
   "outputs": [],
   "source": [
    "def fmultiply(a,b,d):\n",
    "    c=a*b*d\n",
    "    print(c)"
   ]
  },
  {
   "cell_type": "code",
   "execution_count": 23,
   "id": "d43d3909",
   "metadata": {},
   "outputs": [
    {
     "name": "stdout",
     "output_type": "stream",
     "text": [
      "8\n"
     ]
    }
   ],
   "source": [
    "fmultiply(2,2,2)"
   ]
  },
  {
   "cell_type": "code",
   "execution_count": 24,
   "id": "20652b44",
   "metadata": {},
   "outputs": [],
   "source": [
    "def fmultiply(a,b,d):\n",
    "    c=a*b*d\n",
    "    print(c)"
   ]
  },
  {
   "cell_type": "code",
   "execution_count": 25,
   "id": "c698841e",
   "metadata": {},
   "outputs": [
    {
     "name": "stdout",
     "output_type": "stream",
     "text": [
      "0.125\n"
     ]
    }
   ],
   "source": [
    "fmultiply(0.5,0.5,0.5)"
   ]
  },
  {
   "cell_type": "code",
   "execution_count": 27,
   "id": "26aa281f",
   "metadata": {},
   "outputs": [],
   "source": [
    "def areaofrect(l,b):\n",
    "    area=l*b\n",
    "    print(area)"
   ]
  },
  {
   "cell_type": "code",
   "execution_count": 28,
   "id": "1cd85b58",
   "metadata": {},
   "outputs": [
    {
     "name": "stdout",
     "output_type": "stream",
     "text": [
      "200\n"
     ]
    }
   ],
   "source": [
    "areaofrect(10,20)"
   ]
  },
  {
   "cell_type": "code",
   "execution_count": 29,
   "id": "f77d308b",
   "metadata": {},
   "outputs": [],
   "source": [
    "def areaofrect(l,b):\n",
    "    area=l*b\n",
    "    print(area)"
   ]
  },
  {
   "cell_type": "code",
   "execution_count": 31,
   "id": "76d58f9a",
   "metadata": {},
   "outputs": [
    {
     "name": "stdout",
     "output_type": "stream",
     "text": [
      "Enter length10\n",
      "Enter breadth20\n",
      "lenghth= 10\n",
      "breadth= 20\n",
      "200\n"
     ]
    }
   ],
   "source": [
    "l=int(input(\"Enter length\"))\n",
    "b=int(input(\"Enter breadth\"))\n",
    "print(\"lenghth=\",l)\n",
    "print(\"breadth=\",b)\n",
    "areaofrect(l,b)"
   ]
  },
  {
   "cell_type": "code",
   "execution_count": 32,
   "id": "2b6daa69",
   "metadata": {},
   "outputs": [],
   "source": [
    "def area_of_circle(radius):\n",
    "    pi=3.14\n",
    "    area= pi*(radius**2)\n",
    "    print(\"area of circle=\",area)"
   ]
  },
  {
   "cell_type": "code",
   "execution_count": 33,
   "id": "e3fe2ac2",
   "metadata": {},
   "outputs": [
    {
     "name": "stdout",
     "output_type": "stream",
     "text": [
      "Enter radius5\n",
      "area of circle= 78.5\n"
     ]
    }
   ],
   "source": [
    "radius=int(input(\"Enter radius\"))\n",
    "area_of_circle(radius)"
   ]
  },
  {
   "cell_type": "code",
   "execution_count": 34,
   "id": "588fabee",
   "metadata": {},
   "outputs": [
    {
     "name": "stdout",
     "output_type": "stream",
     "text": [
      "Enter radius3\n",
      "area of circle= 28.26\n"
     ]
    }
   ],
   "source": [
    "radius=int(input(\"Enter radius\"))\n",
    "area_of_circle(radius)"
   ]
  },
  {
   "cell_type": "code",
   "execution_count": null,
   "id": "7ad4d1e0",
   "metadata": {},
   "outputs": [],
   "source": [
    "#Global variable they will have unlimited lifetime."
   ]
  },
  {
   "cell_type": "code",
   "execution_count": 35,
   "id": "ddd8c171",
   "metadata": {},
   "outputs": [
    {
     "data": {
      "text/plain": [
       "3"
      ]
     },
     "execution_count": 35,
     "metadata": {},
     "output_type": "execute_result"
    }
   ],
   "source": [
    "radius\n"
   ]
  },
  {
   "cell_type": "code",
   "execution_count": 36,
   "id": "0cbe34dd",
   "metadata": {},
   "outputs": [
    {
     "data": {
      "text/plain": [
       "10"
      ]
     },
     "execution_count": 36,
     "metadata": {},
     "output_type": "execute_result"
    }
   ],
   "source": [
    "l"
   ]
  },
  {
   "cell_type": "code",
   "execution_count": 37,
   "id": "e3ba705f",
   "metadata": {},
   "outputs": [
    {
     "data": {
      "text/plain": [
       "20"
      ]
     },
     "execution_count": 37,
     "metadata": {},
     "output_type": "execute_result"
    }
   ],
   "source": [
    "b"
   ]
  },
  {
   "cell_type": "code",
   "execution_count": 38,
   "id": "bb9d4db2",
   "metadata": {},
   "outputs": [
    {
     "ename": "NameError",
     "evalue": "name 'pi' is not defined",
     "output_type": "error",
     "traceback": [
      "\u001b[1;31m---------------------------------------------------------------------------\u001b[0m",
      "\u001b[1;31mNameError\u001b[0m                                 Traceback (most recent call last)",
      "\u001b[1;32m~\\AppData\\Local\\Temp/ipykernel_10780/336409499.py\u001b[0m in \u001b[0;36m<module>\u001b[1;34m\u001b[0m\n\u001b[0;32m      1\u001b[0m \u001b[1;31m#local variable\u001b[0m\u001b[1;33m\u001b[0m\u001b[1;33m\u001b[0m\u001b[0m\n\u001b[1;32m----> 2\u001b[1;33m \u001b[0mpi\u001b[0m\u001b[1;33m\u001b[0m\u001b[1;33m\u001b[0m\u001b[0m\n\u001b[0m",
      "\u001b[1;31mNameError\u001b[0m: name 'pi' is not defined"
     ]
    }
   ],
   "source": [
    "#local variable\n",
    "pi"
   ]
  },
  {
   "cell_type": "code",
   "execution_count": 39,
   "id": "39079eae",
   "metadata": {},
   "outputs": [
    {
     "ename": "NameError",
     "evalue": "name 'c' is not defined",
     "output_type": "error",
     "traceback": [
      "\u001b[1;31m---------------------------------------------------------------------------\u001b[0m",
      "\u001b[1;31mNameError\u001b[0m                                 Traceback (most recent call last)",
      "\u001b[1;32m~\\AppData\\Local\\Temp/ipykernel_10780/3235490055.py\u001b[0m in \u001b[0;36m<module>\u001b[1;34m\u001b[0m\n\u001b[1;32m----> 1\u001b[1;33m \u001b[0mc\u001b[0m\u001b[1;33m\u001b[0m\u001b[1;33m\u001b[0m\u001b[0m\n\u001b[0m",
      "\u001b[1;31mNameError\u001b[0m: name 'c' is not defined"
     ]
    }
   ],
   "source": [
    "c"
   ]
  },
  {
   "cell_type": "code",
   "execution_count": 40,
   "id": "79f4ba5a",
   "metadata": {},
   "outputs": [],
   "source": [
    "def area_of_circle(radius):\n",
    "    pi=3.14\n",
    "    area= pi*(radius**2)\n",
    "    print(\"PI=\",pi)\n",
    "    print(\"area of circle=\",area)"
   ]
  },
  {
   "cell_type": "code",
   "execution_count": 41,
   "id": "1fcbd79d",
   "metadata": {},
   "outputs": [
    {
     "name": "stdout",
     "output_type": "stream",
     "text": [
      "Enter radius5\n",
      "PI= 3.14\n",
      "area of circle= 78.5\n"
     ]
    }
   ],
   "source": [
    "radius=int(input(\"Enter radius\"))\n",
    "area_of_circle(radius)"
   ]
  },
  {
   "cell_type": "code",
   "execution_count": 45,
   "id": "9002ccc4",
   "metadata": {},
   "outputs": [],
   "source": [
    "def funcadd():\n",
    "    a=10\n",
    "    b=20\n",
    "    c=a+b\n",
    "    return c"
   ]
  },
  {
   "cell_type": "code",
   "execution_count": 46,
   "id": "94fc728e",
   "metadata": {},
   "outputs": [
    {
     "name": "stdout",
     "output_type": "stream",
     "text": [
      "30\n"
     ]
    }
   ],
   "source": [
    "val=funcadd()\n",
    "print(val)"
   ]
  },
  {
   "cell_type": "code",
   "execution_count": 10,
   "id": "f7b3cf65",
   "metadata": {},
   "outputs": [],
   "source": [
    "def function_multiply(a,b):\n",
    "    c=a*b\n",
    "    return c\n",
    "    "
   ]
  },
  {
   "cell_type": "code",
   "execution_count": 11,
   "id": "2d1c2405",
   "metadata": {},
   "outputs": [
    {
     "data": {
      "text/plain": [
       "200"
      ]
     },
     "execution_count": 11,
     "metadata": {},
     "output_type": "execute_result"
    }
   ],
   "source": [
    "myval=function_multiply(10,20)\n",
    "myval"
   ]
  },
  {
   "cell_type": "code",
   "execution_count": 12,
   "id": "5c3b2832",
   "metadata": {},
   "outputs": [],
   "source": [
    "def areaofcircle(myval):\n",
    "    ar=3.14*(myval**2)\n",
    "\n",
    "    print(\"area of circle=\",ar)\n",
    "  \n"
   ]
  },
  {
   "cell_type": "code",
   "execution_count": 13,
   "id": "cac8eada",
   "metadata": {},
   "outputs": [
    {
     "name": "stdout",
     "output_type": "stream",
     "text": [
      "area of circle= 125600.0\n"
     ]
    }
   ],
   "source": [
    "areaofcircle(myval)"
   ]
  },
  {
   "cell_type": "code",
   "execution_count": 14,
   "id": "354719dd",
   "metadata": {},
   "outputs": [],
   "source": [
    "def arearect():\n",
    "    length=10\n",
    "    breadth=2.5\n",
    "    return length*breadth\n",
    "\n",
    "    "
   ]
  },
  {
   "cell_type": "code",
   "execution_count": 16,
   "id": "5eee24c5",
   "metadata": {},
   "outputs": [
    {
     "data": {
      "text/plain": [
       "25.0"
      ]
     },
     "execution_count": 16,
     "metadata": {},
     "output_type": "execute_result"
    }
   ],
   "source": [
    "r=arearect()\n",
    "r"
   ]
  },
  {
   "cell_type": "markdown",
   "id": "9c097983",
   "metadata": {},
   "source": [
    "variable number of arguments"
   ]
  },
  {
   "cell_type": "code",
   "execution_count": 17,
   "id": "51f211a3",
   "metadata": {},
   "outputs": [],
   "source": [
    "def plus(*args):\n",
    "    return sum(args)\n"
   ]
  },
  {
   "cell_type": "code",
   "execution_count": 18,
   "id": "23a780ae",
   "metadata": {},
   "outputs": [
    {
     "data": {
      "text/plain": [
       "20"
      ]
     },
     "execution_count": 18,
     "metadata": {},
     "output_type": "execute_result"
    }
   ],
   "source": [
    "#calling a function\n",
    "\n",
    "plus(6,4,10)"
   ]
  },
  {
   "cell_type": "code",
   "execution_count": 19,
   "id": "4b986efd",
   "metadata": {},
   "outputs": [],
   "source": [
    "def mu(*args):\n",
    "    return max(args)"
   ]
  },
  {
   "cell_type": "code",
   "execution_count": 20,
   "id": "c62e62a8",
   "metadata": {},
   "outputs": [
    {
     "data": {
      "text/plain": [
       "50.5"
      ]
     },
     "execution_count": 20,
     "metadata": {},
     "output_type": "execute_result"
    }
   ],
   "source": [
    "mu(10,50.5,2,-4)"
   ]
  },
  {
   "cell_type": "code",
   "execution_count": 21,
   "id": "3f9f4750",
   "metadata": {},
   "outputs": [],
   "source": [
    "def mu(*args):\n",
    "    return min(args)"
   ]
  },
  {
   "cell_type": "code",
   "execution_count": 22,
   "id": "cabc80d7",
   "metadata": {},
   "outputs": [
    {
     "data": {
      "text/plain": [
       "-4"
      ]
     },
     "execution_count": 22,
     "metadata": {},
     "output_type": "execute_result"
    }
   ],
   "source": [
    "mu(10,50.5,2,-4)"
   ]
  },
  {
   "cell_type": "code",
   "execution_count": 23,
   "id": "e65dc856",
   "metadata": {},
   "outputs": [],
   "source": [
    "def mu(*m):\n",
    "    return min(m)"
   ]
  },
  {
   "cell_type": "code",
   "execution_count": 24,
   "id": "39ac566e",
   "metadata": {},
   "outputs": [
    {
     "data": {
      "text/plain": [
       "-4"
      ]
     },
     "execution_count": 24,
     "metadata": {},
     "output_type": "execute_result"
    }
   ],
   "source": [
    "mu(10,50.5,2,-4)"
   ]
  },
  {
   "cell_type": "code",
   "execution_count": 29,
   "id": "e42331d8",
   "metadata": {},
   "outputs": [],
   "source": [
    "#s=s+n                 #s+=n\n",
    "\n",
    "def sumfunc(*numbers):\n",
    "    s=0\n",
    "    for n in numbers:\n",
    "        s+=n\n",
    "    return s"
   ]
  },
  {
   "cell_type": "code",
   "execution_count": 30,
   "id": "20d7a063",
   "metadata": {},
   "outputs": [
    {
     "name": "stdout",
     "output_type": "stream",
     "text": [
      "3\n"
     ]
    }
   ],
   "source": [
    "print(sumfunc(1,2))"
   ]
  },
  {
   "cell_type": "code",
   "execution_count": 31,
   "id": "1808c921",
   "metadata": {},
   "outputs": [
    {
     "name": "stdout",
     "output_type": "stream",
     "text": [
      "7\n"
     ]
    }
   ],
   "source": [
    "print(sumfunc(3,4))"
   ]
  },
  {
   "cell_type": "code",
   "execution_count": 32,
   "id": "58323800",
   "metadata": {},
   "outputs": [
    {
     "name": "stdout",
     "output_type": "stream",
     "text": [
      "18\n"
     ]
    }
   ],
   "source": [
    "print(sumfunc(5,6,7))"
   ]
  },
  {
   "cell_type": "code",
   "execution_count": null,
   "id": "34edbf5c",
   "metadata": {},
   "outputs": [],
   "source": []
  }
 ],
 "metadata": {
  "kernelspec": {
   "display_name": "Python 3 (ipykernel)",
   "language": "python",
   "name": "python3"
  },
  "language_info": {
   "codemirror_mode": {
    "name": "ipython",
    "version": 3
   },
   "file_extension": ".py",
   "mimetype": "text/x-python",
   "name": "python",
   "nbconvert_exporter": "python",
   "pygments_lexer": "ipython3",
   "version": "3.9.7"
  }
 },
 "nbformat": 4,
 "nbformat_minor": 5
}
