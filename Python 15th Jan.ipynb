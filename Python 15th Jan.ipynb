{
 "cells": [
  {
   "cell_type": "code",
   "execution_count": 25,
   "id": "495a5131",
   "metadata": {},
   "outputs": [
    {
     "name": "stdout",
     "output_type": "stream",
     "text": [
      "ID= 101 Name is Amit\n",
      "ID= 102 Name is Shalu\n"
     ]
    }
   ],
   "source": [
    "class Person:\n",
    "    #constructor is an initialization function and will be called automatically\n",
    "    \n",
    "    def __init__(self,id,name):\n",
    "        self.id=id\n",
    "        self.name=name\n",
    "        \n",
    "        \n",
    "    def display (self):\n",
    "        print(\"ID=\",self.id,\"Name is\",self.name)\n",
    "\n",
    "        \n",
    "  #instance/object\n",
    "p1= Person(101,\"Amit\")\n",
    "p1.display()\n",
    "\n",
    "p2= Person(102,\"Shalu\")\n",
    "p2.display()\n"
   ]
  },
  {
   "cell_type": "code",
   "execution_count": 26,
   "id": "03ee21c0",
   "metadata": {},
   "outputs": [],
   "source": [
    "class student:\n",
    "    def __init__(self,name,age):\n",
    "        self.name=name\n",
    "        self.age=age\n",
    "    "
   ]
  },
  {
   "cell_type": "code",
   "execution_count": 27,
   "id": "e0f228d4",
   "metadata": {},
   "outputs": [
    {
     "name": "stdout",
     "output_type": "stream",
     "text": [
      "sam\n",
      "25\n"
     ]
    }
   ],
   "source": [
    "s1=student('sam',25)\n",
    "print(s1.name)\n",
    "print(s1.age)"
   ]
  },
  {
   "cell_type": "code",
   "execution_count": 28,
   "id": "f25836cb",
   "metadata": {},
   "outputs": [
    {
     "name": "stdout",
     "output_type": "stream",
     "text": [
      "shalu\n",
      "24\n"
     ]
    }
   ],
   "source": [
    "s2=student('shalu',24)\n",
    "print(s2.name)\n",
    "print(s2.age)"
   ]
  },
  {
   "cell_type": "code",
   "execution_count": 29,
   "id": "e40a5680",
   "metadata": {},
   "outputs": [],
   "source": [
    "class fruits:\n",
    "    def __init__(self,name,colour,taste):\n",
    "        self.name=name\n",
    "        self.colour=colour\n",
    "        self.taste=taste"
   ]
  },
  {
   "cell_type": "code",
   "execution_count": 30,
   "id": "d43395ad",
   "metadata": {},
   "outputs": [
    {
     "name": "stdout",
     "output_type": "stream",
     "text": [
      "banana\n",
      "yellow\n",
      "sweet\n"
     ]
    }
   ],
   "source": [
    "s1=fruits('banana',\"yellow\",\"sweet\")\n",
    "print(s1.name)\n",
    "print(s1.colour)\n",
    "print(s1.taste)"
   ]
  },
  {
   "cell_type": "code",
   "execution_count": 31,
   "id": "57fec5e3",
   "metadata": {},
   "outputs": [
    {
     "name": "stdout",
     "output_type": "stream",
     "text": [
      "grapes\n",
      "green\n",
      "Sour\n"
     ]
    }
   ],
   "source": [
    "s2=fruits('grapes',\"green\",\"Sour\")\n",
    "print(s2.name)\n",
    "print(s2.colour)\n",
    "print(s2.taste)"
   ]
  },
  {
   "cell_type": "code",
   "execution_count": 34,
   "id": "62b90929",
   "metadata": {},
   "outputs": [],
   "source": [
    "class employee:\n",
    "    def __init__(self,name,age,id,salary):   #self is an instance of a class\n",
    "        self.name=name\n",
    "        self.age=age\n",
    "        self.id=id\n",
    "        self.salary=salary\n",
    "    def display (self):\n",
    "        print('inside display function')\n",
    "        print(self.name,self.age,self.id,self.salary)"
   ]
  },
  {
   "cell_type": "code",
   "execution_count": 35,
   "id": "c9598cbc",
   "metadata": {},
   "outputs": [
    {
     "name": "stdout",
     "output_type": "stream",
     "text": [
      "inside display function\n",
      "john 26 202 25000\n",
      "inside display function\n",
      "ram 25 203 26000\n"
     ]
    }
   ],
   "source": [
    "emp1=employee('john',26,202,25000)   #creating object\n",
    "emp2=employee('ram',25,203,26000)\n",
    "emp1.display()\n",
    "emp2.display()"
   ]
  },
  {
   "cell_type": "code",
   "execution_count": 41,
   "id": "a5a99db3",
   "metadata": {},
   "outputs": [],
   "source": [
    "class company:\n",
    "    #class variable\n",
    "    revenue=8000000\n",
    "    \n",
    "    \n",
    "    def __init__(self,name,location,number_of_employees):\n",
    "        self.name=name\n",
    "        self.location=location\n",
    "        self.number_of_employees=number_of_employees"
   ]
  },
  {
   "cell_type": "code",
   "execution_count": 44,
   "id": "d9d56853",
   "metadata": {},
   "outputs": [
    {
     "name": "stdout",
     "output_type": "stream",
     "text": [
      "ram\n",
      "India\n",
      "400\n",
      "c= 8000000\n"
     ]
    }
   ],
   "source": [
    "c=company(\"ram\",\"India\",400)\n",
    "print(c.name)\n",
    "print(c.location)\n",
    "print(c.number_of_employees)\n",
    "\n",
    "#accessing class variable\n",
    "\n",
    "company.revenue\n",
    "print('c=',c.revenue)\n",
    "\n",
    "\n",
    "#company.name------>this is instance variable and can be called by instance only\n"
   ]
  },
  {
   "cell_type": "code",
   "execution_count": 64,
   "id": "37255674",
   "metadata": {},
   "outputs": [],
   "source": [
    "class car:\n",
    "    \n",
    "    \n",
    "    #A simple class for cars \n",
    "    #Constructor to initialize\n",
    "    def __init__(self,company,colour):\n",
    "        \n",
    "        \n",
    "        self.company=company\n",
    "        self.colour=colour\n",
    "    \n",
    "      #function to print car colour and company\n",
    "    \n",
    "    def display(self):\n",
    "        \n",
    "        print('This is a',self.colour,self.company)\n",
    "    \n",
    "    \n",
    "   "
   ]
  },
  {
   "cell_type": "code",
   "execution_count": 65,
   "id": "c13a4041",
   "metadata": {},
   "outputs": [],
   "source": [
    "def main():\n",
    "    c=car('Audi',\"Red\")\n",
    "    c.display()"
   ]
  },
  {
   "cell_type": "code",
   "execution_count": 66,
   "id": "0d3b2868",
   "metadata": {},
   "outputs": [
    {
     "name": "stdout",
     "output_type": "stream",
     "text": [
      "This is a Red Audi\n"
     ]
    }
   ],
   "source": [
    "if __name__==\"__main__\":\n",
    "    main()\n",
    "    "
   ]
  },
  {
   "cell_type": "code",
   "execution_count": 1,
   "id": "06aec4e4",
   "metadata": {},
   "outputs": [],
   "source": [
    "class Employee:\n",
    "    \n",
    "    def __init__(self,name,age):\n",
    "        \n",
    "        print('initialized method called')\n",
    "        self.name=name\n",
    "        self.age=age\n",
    "    def getdata(self,name,age):\n",
    "        print('getdata method called')\n",
    "        self.name=name\n",
    "        self.age=age\n",
    "    def displaydata(self):\n",
    "        print('Hello',self.name,self.age)\n",
    "    "
   ]
  },
  {
   "cell_type": "code",
   "execution_count": 2,
   "id": "bf061d73",
   "metadata": {},
   "outputs": [],
   "source": [
    "def main():\n",
    "    e=Employee('William',35) #here initialization will work\n",
    "    e.displaydata()\n",
    "    \n",
    "    e.getdata('john',25)\n",
    "    e.displaydata()"
   ]
  },
  {
   "cell_type": "code",
   "execution_count": 3,
   "id": "74634a80",
   "metadata": {},
   "outputs": [
    {
     "name": "stdout",
     "output_type": "stream",
     "text": [
      "initialized method called\n",
      "Hello William 35\n",
      "getdata method called\n",
      "Hello john 25\n"
     ]
    }
   ],
   "source": [
    "if __name__==\"__main__\":\n",
    "    main()\n",
    "    "
   ]
  },
  {
   "cell_type": "code",
   "execution_count": 12,
   "id": "ad160d9d",
   "metadata": {},
   "outputs": [
    {
     "ename": "NameError",
     "evalue": "name 'player' is not defined",
     "output_type": "error",
     "traceback": [
      "\u001b[1;31m---------------------------------------------------------------------------\u001b[0m",
      "\u001b[1;31mNameError\u001b[0m                                 Traceback (most recent call last)",
      "\u001b[1;32m~\\AppData\\Local\\Temp/ipykernel_2848/3139613005.py\u001b[0m in \u001b[0;36m<module>\u001b[1;34m\u001b[0m\n\u001b[1;32m----> 1\u001b[1;33m \u001b[1;32mclass\u001b[0m \u001b[0mplayer\u001b[0m\u001b[1;33m:\u001b[0m\u001b[1;33m\u001b[0m\u001b[1;33m\u001b[0m\u001b[0m\n\u001b[0m\u001b[0;32m      2\u001b[0m \u001b[1;33m\u001b[0m\u001b[0m\n\u001b[0;32m      3\u001b[0m     \u001b[1;32mdef\u001b[0m \u001b[0m__init__\u001b[0m\u001b[1;33m(\u001b[0m\u001b[0mself\u001b[0m\u001b[1;33m,\u001b[0m\u001b[0mname\u001b[0m\u001b[1;33m,\u001b[0m\u001b[0mage\u001b[0m\u001b[1;33m,\u001b[0m\u001b[0msport\u001b[0m\u001b[1;33m)\u001b[0m\u001b[1;33m:\u001b[0m\u001b[1;33m\u001b[0m\u001b[1;33m\u001b[0m\u001b[0m\n\u001b[0;32m      4\u001b[0m         \u001b[0mprint\u001b[0m\u001b[1;33m(\u001b[0m\u001b[1;34m'Getting data for players'\u001b[0m\u001b[1;33m)\u001b[0m\u001b[1;33m\u001b[0m\u001b[1;33m\u001b[0m\u001b[0m\n\u001b[0;32m      5\u001b[0m         \u001b[0mself\u001b[0m\u001b[1;33m.\u001b[0m\u001b[0mname\u001b[0m\u001b[1;33m=\u001b[0m\u001b[0mname\u001b[0m\u001b[1;33m\u001b[0m\u001b[1;33m\u001b[0m\u001b[0m\n",
      "\u001b[1;32m~\\AppData\\Local\\Temp/ipykernel_2848/3139613005.py\u001b[0m in \u001b[0;36mplayer\u001b[1;34m()\u001b[0m\n\u001b[0;32m     29\u001b[0m \u001b[1;33m\u001b[0m\u001b[0m\n\u001b[0;32m     30\u001b[0m     \u001b[1;32mif\u001b[0m \u001b[0m__name__\u001b[0m\u001b[1;33m==\u001b[0m\u001b[1;34m\"__main__\"\u001b[0m\u001b[1;33m:\u001b[0m\u001b[1;33m\u001b[0m\u001b[1;33m\u001b[0m\u001b[0m\n\u001b[1;32m---> 31\u001b[1;33m         \u001b[0mmain\u001b[0m\u001b[1;33m(\u001b[0m\u001b[1;33m)\u001b[0m\u001b[1;33m\u001b[0m\u001b[1;33m\u001b[0m\u001b[0m\n\u001b[0m",
      "\u001b[1;32m~\\AppData\\Local\\Temp/ipykernel_2848/3139613005.py\u001b[0m in \u001b[0;36mmain\u001b[1;34m()\u001b[0m\n\u001b[0;32m     16\u001b[0m         \u001b[0mprint\u001b[0m\u001b[1;33m(\u001b[0m\u001b[1;34m\"player details:\"\u001b[0m\u001b[1;33m,\u001b[0m\u001b[0mself\u001b[0m\u001b[1;33m.\u001b[0m\u001b[0mname\u001b[0m\u001b[1;33m,\u001b[0m\u001b[0mself\u001b[0m\u001b[1;33m.\u001b[0m\u001b[0mage\u001b[0m\u001b[1;33m,\u001b[0m\u001b[0mself\u001b[0m\u001b[1;33m.\u001b[0m\u001b[0msport\u001b[0m\u001b[1;33m)\u001b[0m\u001b[1;33m\u001b[0m\u001b[1;33m\u001b[0m\u001b[0m\n\u001b[0;32m     17\u001b[0m     \u001b[1;32mdef\u001b[0m \u001b[0mmain\u001b[0m\u001b[1;33m(\u001b[0m\u001b[1;33m)\u001b[0m\u001b[1;33m:\u001b[0m\u001b[1;33m\u001b[0m\u001b[1;33m\u001b[0m\u001b[0m\n\u001b[1;32m---> 18\u001b[1;33m         \u001b[0mp1\u001b[0m\u001b[1;33m=\u001b[0m\u001b[0mplayer\u001b[0m\u001b[1;33m(\u001b[0m\u001b[1;34m\"virat\"\u001b[0m\u001b[1;33m,\u001b[0m\u001b[1;36m35\u001b[0m\u001b[1;33m,\u001b[0m\u001b[1;34m'cricket'\u001b[0m\u001b[1;33m)\u001b[0m\u001b[1;33m\u001b[0m\u001b[1;33m\u001b[0m\u001b[0m\n\u001b[0m\u001b[0;32m     19\u001b[0m         \u001b[0mp1\u001b[0m\u001b[1;33m.\u001b[0m\u001b[0mdisplaydata\u001b[0m\u001b[1;33m(\u001b[0m\u001b[1;33m)\u001b[0m\u001b[1;33m\u001b[0m\u001b[1;33m\u001b[0m\u001b[0m\n\u001b[0;32m     20\u001b[0m \u001b[1;33m\u001b[0m\u001b[0m\n",
      "\u001b[1;31mNameError\u001b[0m: name 'player' is not defined"
     ]
    }
   ],
   "source": [
    "class player:\n",
    "    \n",
    "    def __init__(self,name,age,sport):\n",
    "        print('Getting data for players')\n",
    "        self.name=name\n",
    "        self.age=age\n",
    "        self.sport=sport\n",
    "        \n",
    "    def getdata(self,name,age,sport):\n",
    "        print(\"Getting data for players\")\n",
    "        self.name=name\n",
    "        self.age=age\n",
    "        self.sport=sport\n",
    "        \n",
    "    def displaydata(self):    \n",
    "        print(\"player details:\",self.name,self.age,self.sport)\n",
    "    def main():\n",
    "        p1=player(\"virat\",35,'cricket')\n",
    "        p1.displaydata()\n",
    "        \n",
    "        p1.getdata(\"Richard\",25,\"cricket\")\n",
    "        p1.displaydata()\n",
    "        \n",
    "        p2=player('Dhoni',39,'cricket')\n",
    "        p2.displaydata()\n",
    "        \n",
    "        p2.getdata('Vivian',65,'cricket')\n",
    "        p2.displaydata()\n",
    "        \n",
    "    if __name__==\"__main__\":\n",
    "        main()"
   ]
  },
  {
   "cell_type": "code",
   "execution_count": null,
   "id": "705d561a",
   "metadata": {},
   "outputs": [],
   "source": []
  }
 ],
 "metadata": {
  "kernelspec": {
   "display_name": "Python 3 (ipykernel)",
   "language": "python",
   "name": "python3"
  },
  "language_info": {
   "codemirror_mode": {
    "name": "ipython",
    "version": 3
   },
   "file_extension": ".py",
   "mimetype": "text/x-python",
   "name": "python",
   "nbconvert_exporter": "python",
   "pygments_lexer": "ipython3",
   "version": "3.9.7"
  }
 },
 "nbformat": 4,
 "nbformat_minor": 5
}
